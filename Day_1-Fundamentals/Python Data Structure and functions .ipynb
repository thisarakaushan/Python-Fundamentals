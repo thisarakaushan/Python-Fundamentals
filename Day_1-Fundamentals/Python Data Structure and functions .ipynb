{
 "cells": [
  {
   "cell_type": "code",
   "execution_count": 3,
   "id": "d2ae7e4a",
   "metadata": {},
   "outputs": [],
   "source": [
    "a=2,6,7,3"
   ]
  },
  {
   "cell_type": "code",
   "execution_count": 4,
   "id": "e529ddd4",
   "metadata": {},
   "outputs": [
    {
     "name": "stdout",
     "output_type": "stream",
     "text": [
      "(2, 6, 7, 3)\n"
     ]
    }
   ],
   "source": [
    "print(a)"
   ]
  },
  {
   "cell_type": "markdown",
   "id": "59836482",
   "metadata": {},
   "source": [
    "### Array"
   ]
  },
  {
   "cell_type": "code",
   "execution_count": null,
   "id": "fd552a0f",
   "metadata": {},
   "outputs": [],
   "source": [
    "a=[1,2,3,4,5,6,7]"
   ]
  },
  {
   "cell_type": "markdown",
   "id": "5c16c26c",
   "metadata": {},
   "source": [
    "## Python Data Structure\n",
    "- List\n",
    "- Tuple\n",
    "- Dictionary\n",
    "- Set"
   ]
  },
  {
   "cell_type": "markdown",
   "id": "relative-vegetation",
   "metadata": {},
   "source": [
    "## List"
   ]
  },
  {
   "cell_type": "markdown",
   "id": "straight-danger",
   "metadata": {},
   "source": [
    "#### Array"
   ]
  },
  {
   "cell_type": "code",
   "execution_count": 5,
   "id": "excellent-swing",
   "metadata": {},
   "outputs": [],
   "source": [
    "fruits = [\"Banana\", \"Kiwi\", \"Apple\", \"Grapes\"]"
   ]
  },
  {
   "cell_type": "code",
   "execution_count": 6,
   "id": "preliminary-friend",
   "metadata": {},
   "outputs": [
    {
     "name": "stdout",
     "output_type": "stream",
     "text": [
      "['Banana', 'Kiwi', 'Apple', 'Grapes']\n"
     ]
    }
   ],
   "source": [
    "print(fruits)"
   ]
  },
  {
   "cell_type": "markdown",
   "id": "illegal-volunteer",
   "metadata": {},
   "source": [
    "#### List"
   ]
  },
  {
   "cell_type": "code",
   "execution_count": 7,
   "id": "superb-variation",
   "metadata": {},
   "outputs": [
    {
     "name": "stdout",
     "output_type": "stream",
     "text": [
      "['Hello', 12, 64.5, True, '34', False]\n"
     ]
    }
   ],
   "source": [
    "a = [\"Hello\", 12,64.5,True,\"34\",False]\n",
    "print(a)"
   ]
  },
  {
   "cell_type": "code",
   "execution_count": 8,
   "id": "c6530779",
   "metadata": {},
   "outputs": [
    {
     "data": {
      "text/plain": [
       "list"
      ]
     },
     "execution_count": 8,
     "metadata": {},
     "output_type": "execute_result"
    }
   ],
   "source": [
    "type(a)"
   ]
  },
  {
   "cell_type": "markdown",
   "id": "endangered-effects",
   "metadata": {},
   "source": [
    "#### In Python their is no seperate array data structure, we use List as Array"
   ]
  },
  {
   "cell_type": "code",
   "execution_count": 9,
   "id": "collective-feature",
   "metadata": {},
   "outputs": [
    {
     "name": "stdout",
     "output_type": "stream",
     "text": [
      "<class 'list'>\n"
     ]
    }
   ],
   "source": [
    "print(type(a))"
   ]
  },
  {
   "cell_type": "markdown",
   "id": "impaired-capitol",
   "metadata": {},
   "source": [
    "### Calling via Index"
   ]
  },
  {
   "cell_type": "code",
   "execution_count": 12,
   "id": "antique-toolbox",
   "metadata": {},
   "outputs": [
    {
     "name": "stdout",
     "output_type": "stream",
     "text": [
      "Hello\n"
     ]
    }
   ],
   "source": [
    "print(a[0])"
   ]
  },
  {
   "cell_type": "code",
   "execution_count": 14,
   "id": "tired-holocaust",
   "metadata": {},
   "outputs": [
    {
     "name": "stdout",
     "output_type": "stream",
     "text": [
      "5\n"
     ]
    }
   ],
   "source": [
    "print(a.index(False))"
   ]
  },
  {
   "cell_type": "markdown",
   "id": "operational-sleeping",
   "metadata": {},
   "source": [
    "### Can be passed within a loop"
   ]
  },
  {
   "cell_type": "code",
   "execution_count": 15,
   "id": "english-porter",
   "metadata": {},
   "outputs": [
    {
     "name": "stdout",
     "output_type": "stream",
     "text": [
      "Hello\n",
      "12\n",
      "64.5\n",
      "True\n",
      "34\n",
      "False\n"
     ]
    }
   ],
   "source": [
    "for i in a:\n",
    "    print(i)"
   ]
  },
  {
   "cell_type": "markdown",
   "id": "rubber-beijing",
   "metadata": {},
   "source": [
    "#### Adding a new element in List - append()"
   ]
  },
  {
   "cell_type": "code",
   "execution_count": 16,
   "id": "ccb24eff",
   "metadata": {},
   "outputs": [
    {
     "data": {
      "text/plain": [
       "['Hello', 12, 64.5, True, '34', False]"
      ]
     },
     "execution_count": 16,
     "metadata": {},
     "output_type": "execute_result"
    }
   ],
   "source": [
    "a"
   ]
  },
  {
   "cell_type": "code",
   "execution_count": 17,
   "id": "naked-tourist",
   "metadata": {},
   "outputs": [],
   "source": [
    "a.append(\"Alex\")"
   ]
  },
  {
   "cell_type": "code",
   "execution_count": 18,
   "id": "decreased-prior",
   "metadata": {},
   "outputs": [
    {
     "name": "stdout",
     "output_type": "stream",
     "text": [
      "['Hello', 12, 64.5, True, '34', False, 'Alex']\n"
     ]
    }
   ],
   "source": [
    "print(a)"
   ]
  },
  {
   "cell_type": "markdown",
   "id": "coordinated-occurrence",
   "metadata": {},
   "source": [
    "#### Delete an Element"
   ]
  },
  {
   "cell_type": "code",
   "execution_count": 19,
   "id": "incredible-timothy",
   "metadata": {},
   "outputs": [],
   "source": [
    "del a[1]"
   ]
  },
  {
   "cell_type": "code",
   "execution_count": 20,
   "id": "functioning-happiness",
   "metadata": {},
   "outputs": [
    {
     "name": "stdout",
     "output_type": "stream",
     "text": [
      "['Hello', 64.5, True, '34', False, 'Alex']\n"
     ]
    }
   ],
   "source": [
    "print(a)"
   ]
  },
  {
   "cell_type": "code",
   "execution_count": 24,
   "id": "agricultural-helicopter",
   "metadata": {},
   "outputs": [
    {
     "name": "stdout",
     "output_type": "stream",
     "text": [
      "['Hello', 64.5, True, '34', False, 'Alex', 'TOM']\n",
      "['Hello', 64.5, True, '34', False, 'Alex']\n"
     ]
    }
   ],
   "source": [
    "a.append(\"TOM\")\n",
    "print(a)\n",
    "a.remove(\"TOM\")\n",
    "print(a)"
   ]
  },
  {
   "cell_type": "code",
   "execution_count": 25,
   "id": "passive-chicago",
   "metadata": {},
   "outputs": [
    {
     "name": "stdout",
     "output_type": "stream",
     "text": [
      "['Hello', 64.5, True, '34', False, 'Alex']\n"
     ]
    }
   ],
   "source": [
    "print(a)"
   ]
  },
  {
   "cell_type": "markdown",
   "id": "limited-sodium",
   "metadata": {},
   "source": [
    "#### Replace an element in existing position "
   ]
  },
  {
   "cell_type": "code",
   "execution_count": 26,
   "id": "amber-relationship",
   "metadata": {},
   "outputs": [
    {
     "name": "stdout",
     "output_type": "stream",
     "text": [
      "['Hello', 64.5, True, 'TOM', False, 'Alex']\n"
     ]
    }
   ],
   "source": [
    "a[3] = \"TOM\"\n",
    "print(a)"
   ]
  },
  {
   "cell_type": "markdown",
   "id": "local-tender",
   "metadata": {},
   "source": [
    "### Task"
   ]
  },
  {
   "cell_type": "markdown",
   "id": "fewer-processing",
   "metadata": {},
   "source": [
    "A list is given,\n",
    "\n",
    "s=[\"rainbow\", \"butterfly\", \"sunshine\",\"cupcake\"] \n",
    "\n",
    "Write a program that will find if a given word is present in this existing list, \n",
    "- If the word is present them print \"Congratulations\"\n",
    "- IF it is not their, then print \"Sorry Try Again\""
   ]
  },
  {
   "cell_type": "code",
   "execution_count": 28,
   "id": "22c257d9",
   "metadata": {},
   "outputs": [
    {
     "name": "stdout",
     "output_type": "stream",
     "text": [
      "rainbow\n",
      "butterfly\n",
      "sunshine\n",
      "cupcake\n"
     ]
    }
   ],
   "source": [
    "s=[\"rainbow\", \"butterfly\", \"sunshine\",\"cupcake\"]\n",
    "for i in s:\n",
    "    print(i)\n",
    "    "
   ]
  },
  {
   "cell_type": "code",
   "execution_count": 93,
   "id": "systematic-australian",
   "metadata": {},
   "outputs": [
    {
     "name": "stdout",
     "output_type": "stream",
     "text": [
      "Enter the codeword: cupcake\n",
      "Sorry Try Again\n",
      "Sorry Try Again\n",
      "Sorry Try Again\n",
      "Congratulations\n"
     ]
    }
   ],
   "source": [
    "s=[\"rainbow\", \"butterfly\", \"sunshine\",\"cupcake\"]\n",
    "d=input(\"Enter the codeword: \")\n",
    "for i in s: \n",
    "    if d==i:\n",
    "        print(\"Congratulations\")\n",
    "        break\n",
    "    else:\n",
    "        print(\"Sorry Try Again\")"
   ]
  },
  {
   "cell_type": "markdown",
   "id": "excited-wrist",
   "metadata": {},
   "source": [
    "## Tuples"
   ]
  },
  {
   "cell_type": "code",
   "execution_count": 34,
   "id": "rotary-engineer",
   "metadata": {},
   "outputs": [],
   "source": [
    "s = (\"hi\",2,5.7,False,\"Amy\")"
   ]
  },
  {
   "cell_type": "code",
   "execution_count": 35,
   "id": "accepting-herald",
   "metadata": {},
   "outputs": [
    {
     "name": "stdout",
     "output_type": "stream",
     "text": [
      "('hi', 2, 5.7, False, 'Amy')\n"
     ]
    }
   ],
   "source": [
    "print(s)"
   ]
  },
  {
   "cell_type": "code",
   "execution_count": 36,
   "id": "photographic-program",
   "metadata": {},
   "outputs": [
    {
     "name": "stdout",
     "output_type": "stream",
     "text": [
      "<class 'tuple'>\n"
     ]
    }
   ],
   "source": [
    "print(type(s))"
   ]
  },
  {
   "cell_type": "code",
   "execution_count": 37,
   "id": "negative-target",
   "metadata": {},
   "outputs": [
    {
     "name": "stdout",
     "output_type": "stream",
     "text": [
      "5.7\n"
     ]
    }
   ],
   "source": [
    "print(s[2])"
   ]
  },
  {
   "cell_type": "code",
   "execution_count": 38,
   "id": "familiar-effectiveness",
   "metadata": {},
   "outputs": [
    {
     "name": "stdout",
     "output_type": "stream",
     "text": [
      "hi\n",
      "2\n",
      "5.7\n",
      "False\n",
      "Amy\n"
     ]
    }
   ],
   "source": [
    "for i in s:\n",
    "    print (i)"
   ]
  },
  {
   "cell_type": "markdown",
   "id": "armed-torture",
   "metadata": {},
   "source": [
    "#### Difference from a LIST"
   ]
  },
  {
   "cell_type": "code",
   "execution_count": 39,
   "id": "encouraging-brave",
   "metadata": {},
   "outputs": [
    {
     "ename": "TypeError",
     "evalue": "'tuple' object does not support item assignment",
     "output_type": "error",
     "traceback": [
      "\u001b[1;31m---------------------------------------------------------------------------\u001b[0m",
      "\u001b[1;31mTypeError\u001b[0m                                 Traceback (most recent call last)",
      "Input \u001b[1;32mIn [39]\u001b[0m, in \u001b[0;36m<cell line: 1>\u001b[1;34m()\u001b[0m\n\u001b[1;32m----> 1\u001b[0m s[\u001b[38;5;241m2\u001b[39m]\u001b[38;5;241m=\u001b[39m\u001b[38;5;124m\"\u001b[39m\u001b[38;5;124mMartha\u001b[39m\u001b[38;5;124m\"\u001b[39m\n",
      "\u001b[1;31mTypeError\u001b[0m: 'tuple' object does not support item assignment"
     ]
    }
   ],
   "source": [
    "s[2]=\"Martha\""
   ]
  },
  {
   "cell_type": "code",
   "execution_count": 40,
   "id": "angry-quick",
   "metadata": {},
   "outputs": [
    {
     "ename": "AttributeError",
     "evalue": "'tuple' object has no attribute 'append'",
     "output_type": "error",
     "traceback": [
      "\u001b[1;31m---------------------------------------------------------------------------\u001b[0m",
      "\u001b[1;31mAttributeError\u001b[0m                            Traceback (most recent call last)",
      "Input \u001b[1;32mIn [40]\u001b[0m, in \u001b[0;36m<cell line: 1>\u001b[1;34m()\u001b[0m\n\u001b[1;32m----> 1\u001b[0m \u001b[43ms\u001b[49m\u001b[38;5;241;43m.\u001b[39;49m\u001b[43mappend\u001b[49m(\u001b[38;5;124m\"\u001b[39m\u001b[38;5;124mjose\u001b[39m\u001b[38;5;124m\"\u001b[39m)\n",
      "\u001b[1;31mAttributeError\u001b[0m: 'tuple' object has no attribute 'append'"
     ]
    }
   ],
   "source": [
    "s.append(\"jose\")"
   ]
  },
  {
   "cell_type": "code",
   "execution_count": 41,
   "id": "aerial-lingerie",
   "metadata": {},
   "outputs": [
    {
     "ename": "TypeError",
     "evalue": "'tuple' object doesn't support item deletion",
     "output_type": "error",
     "traceback": [
      "\u001b[1;31m---------------------------------------------------------------------------\u001b[0m",
      "\u001b[1;31mTypeError\u001b[0m                                 Traceback (most recent call last)",
      "Input \u001b[1;32mIn [41]\u001b[0m, in \u001b[0;36m<cell line: 1>\u001b[1;34m()\u001b[0m\n\u001b[1;32m----> 1\u001b[0m \u001b[38;5;28;01mdel\u001b[39;00m s[\u001b[38;5;241m2\u001b[39m]\n",
      "\u001b[1;31mTypeError\u001b[0m: 'tuple' object doesn't support item deletion"
     ]
    }
   ],
   "source": [
    "del s[2]"
   ]
  },
  {
   "cell_type": "markdown",
   "id": "mounted-anthropology",
   "metadata": {},
   "source": [
    "#### Tuple is immutable, once a tuple created, it can not be changes in a tuple form "
   ]
  },
  {
   "cell_type": "markdown",
   "id": "banned-direction",
   "metadata": {},
   "source": [
    "### But what if it is very urgent "
   ]
  },
  {
   "cell_type": "code",
   "execution_count": 42,
   "id": "rising-cambodia",
   "metadata": {},
   "outputs": [
    {
     "name": "stdout",
     "output_type": "stream",
     "text": [
      "('hi', 2, 5.7, False, 'Amy')\n",
      "['hi', 2, 5.7, False, 'Amy']\n",
      "('hi', 2, 5.7, False, 'Amy', 'jose')\n"
     ]
    }
   ],
   "source": [
    "print(s)\n",
    "w=list(s)\n",
    "print(w)\n",
    "w.append(\"jose\")\n",
    "q=tuple(w)\n",
    "print(q)"
   ]
  },
  {
   "cell_type": "markdown",
   "id": "sticky-induction",
   "metadata": {},
   "source": [
    "## Dictionary"
   ]
  },
  {
   "cell_type": "code",
   "execution_count": 43,
   "id": "social-entrepreneur",
   "metadata": {},
   "outputs": [
    {
     "name": "stdout",
     "output_type": "stream",
     "text": [
      "{'Name': 'Wan Scott', 'Job': 'Data Scientist', 'Expertise': 'Machine Learning'}\n"
     ]
    }
   ],
   "source": [
    "D = {\"Name\" : 'Wan Scott', \"Job\": 'Data Scientist', \"Expertise\": 'Machine Learning'}\n",
    "\n",
    "print(D)"
   ]
  },
  {
   "cell_type": "code",
   "execution_count": 44,
   "id": "studied-antenna",
   "metadata": {},
   "outputs": [
    {
     "name": "stdout",
     "output_type": "stream",
     "text": [
      "<class 'dict'>\n"
     ]
    }
   ],
   "source": [
    "print(type(D))"
   ]
  },
  {
   "cell_type": "code",
   "execution_count": 45,
   "id": "heated-guard",
   "metadata": {},
   "outputs": [
    {
     "name": "stdout",
     "output_type": "stream",
     "text": [
      "Name\n",
      "Job\n",
      "Expertise\n"
     ]
    }
   ],
   "source": [
    "for i in D: #i = \n",
    "    print(i)"
   ]
  },
  {
   "cell_type": "code",
   "execution_count": 46,
   "id": "described-landing",
   "metadata": {},
   "outputs": [
    {
     "name": "stdout",
     "output_type": "stream",
     "text": [
      "Wan Scott\n",
      "Data Scientist\n",
      "Machine Learning\n"
     ]
    }
   ],
   "source": [
    "for i in D:\n",
    "    print(D[i])"
   ]
  },
  {
   "cell_type": "markdown",
   "id": "timely-norway",
   "metadata": {},
   "source": [
    "#### Dictionaries has no Index, It has Keys and Values"
   ]
  },
  {
   "cell_type": "code",
   "execution_count": 47,
   "id": "accomplished-asthma",
   "metadata": {},
   "outputs": [
    {
     "name": "stdout",
     "output_type": "stream",
     "text": [
      "dict_keys(['Name', 'Job', 'Expertise'])\n"
     ]
    }
   ],
   "source": [
    "print(D.keys())"
   ]
  },
  {
   "cell_type": "code",
   "execution_count": 48,
   "id": "stainless-machine",
   "metadata": {},
   "outputs": [
    {
     "name": "stdout",
     "output_type": "stream",
     "text": [
      "dict_values(['Wan Scott', 'Data Scientist', 'Machine Learning'])\n"
     ]
    }
   ],
   "source": [
    "print(D.values())"
   ]
  },
  {
   "cell_type": "code",
   "execution_count": 49,
   "id": "5489ea18",
   "metadata": {},
   "outputs": [
    {
     "data": {
      "text/plain": [
       "{'Name': 'Wan Scott', 'Job': 'Data Scientist', 'Expertise': 'Machine Learning'}"
      ]
     },
     "execution_count": 49,
     "metadata": {},
     "output_type": "execute_result"
    }
   ],
   "source": [
    "D"
   ]
  },
  {
   "cell_type": "code",
   "execution_count": 50,
   "id": "owned-richards",
   "metadata": {},
   "outputs": [
    {
     "name": "stdout",
     "output_type": "stream",
     "text": [
      "{'Name': 'Martha', 'Job': 'Data Scientist', 'Expertise': 'Machine Learning'}\n"
     ]
    }
   ],
   "source": [
    "D['Name'] = \"Martha\"\n",
    "print(D)"
   ]
  },
  {
   "cell_type": "code",
   "execution_count": 51,
   "id": "lightweight-prototype",
   "metadata": {},
   "outputs": [],
   "source": [
    "A=D.pop(\"Job\")"
   ]
  },
  {
   "cell_type": "code",
   "execution_count": 52,
   "id": "geographic-parts",
   "metadata": {},
   "outputs": [
    {
     "name": "stdout",
     "output_type": "stream",
     "text": [
      "{'Name': 'Martha', 'Expertise': 'Machine Learning'}\n"
     ]
    }
   ],
   "source": [
    "print(D)"
   ]
  },
  {
   "cell_type": "code",
   "execution_count": 53,
   "id": "33d2dd9a",
   "metadata": {},
   "outputs": [
    {
     "name": "stdout",
     "output_type": "stream",
     "text": [
      "Data Scientist\n"
     ]
    }
   ],
   "source": [
    "print(A)"
   ]
  },
  {
   "cell_type": "markdown",
   "id": "amino-laptop",
   "metadata": {},
   "source": [
    "## Task \n",
    "- l1=[\"Name\", \"Job\", \"Expertise\"]\n",
    "- l2=[\"Alex\", \"Data Scientist\", \"Deep Learning\"]\n",
    "\n",
    "Create a dictionary by combining both the list"
   ]
  },
  {
   "cell_type": "code",
   "execution_count": 59,
   "id": "settled-development",
   "metadata": {},
   "outputs": [],
   "source": [
    "l1=[\"Name\", \"Job\", \"Expertise\"]\n",
    "l2=[\"Alex\", \"Data Scientist\", \"Deep Learning\"]"
   ]
  },
  {
   "cell_type": "code",
   "execution_count": 60,
   "id": "excellent-bidder",
   "metadata": {},
   "outputs": [],
   "source": [
    "resedvd = {}\n",
    "for key in l1: #Key = Name\n",
    "    for value in l2: #value = \"Alex\"\n",
    "        resedvd[key] = value #res[Name] = Alex\n",
    "        l2.remove(value)\n",
    "        break  "
   ]
  },
  {
   "cell_type": "code",
   "execution_count": 61,
   "id": "dominican-wallace",
   "metadata": {},
   "outputs": [
    {
     "data": {
      "text/plain": [
       "{'Name': 'Alex', 'Job': 'Data Scientist', 'Expertise': 'Deep Learning'}"
      ]
     },
     "execution_count": 61,
     "metadata": {},
     "output_type": "execute_result"
    }
   ],
   "source": [
    "resedvd"
   ]
  },
  {
   "cell_type": "markdown",
   "id": "interstate-signal",
   "metadata": {},
   "source": [
    "## Set"
   ]
  },
  {
   "cell_type": "code",
   "execution_count": 71,
   "id": "everyday-unknown",
   "metadata": {},
   "outputs": [],
   "source": [
    "A = {\"circle\", \"heart\", \"rectangle\",\"cloud\",\"star\"}"
   ]
  },
  {
   "cell_type": "code",
   "execution_count": 72,
   "id": "included-woman",
   "metadata": {},
   "outputs": [
    {
     "name": "stdout",
     "output_type": "stream",
     "text": [
      "{'star', 'circle', 'heart', 'rectangle', 'cloud'}\n"
     ]
    }
   ],
   "source": [
    "print(A)"
   ]
  },
  {
   "cell_type": "code",
   "execution_count": 73,
   "id": "indoor-olive",
   "metadata": {},
   "outputs": [
    {
     "data": {
      "text/plain": [
       "set"
      ]
     },
     "execution_count": 73,
     "metadata": {},
     "output_type": "execute_result"
    }
   ],
   "source": [
    "type(A)"
   ]
  },
  {
   "cell_type": "markdown",
   "id": "conscious-cabin",
   "metadata": {},
   "source": [
    "#### Set has no Index"
   ]
  },
  {
   "cell_type": "code",
   "execution_count": 74,
   "id": "hybrid-directory",
   "metadata": {},
   "outputs": [
    {
     "ename": "TypeError",
     "evalue": "'set' object is not subscriptable",
     "output_type": "error",
     "traceback": [
      "\u001b[1;31m---------------------------------------------------------------------------\u001b[0m",
      "\u001b[1;31mTypeError\u001b[0m                                 Traceback (most recent call last)",
      "Input \u001b[1;32mIn [74]\u001b[0m, in \u001b[0;36m<cell line: 1>\u001b[1;34m()\u001b[0m\n\u001b[1;32m----> 1\u001b[0m \u001b[43mA\u001b[49m\u001b[43m[\u001b[49m\u001b[38;5;241;43m2\u001b[39;49m\u001b[43m]\u001b[49m\n",
      "\u001b[1;31mTypeError\u001b[0m: 'set' object is not subscriptable"
     ]
    }
   ],
   "source": [
    "A[2]"
   ]
  },
  {
   "cell_type": "code",
   "execution_count": 75,
   "id": "japanese-thumbnail",
   "metadata": {},
   "outputs": [
    {
     "name": "stdout",
     "output_type": "stream",
     "text": [
      "star\n",
      "circle\n",
      "heart\n",
      "rectangle\n",
      "cloud\n"
     ]
    }
   ],
   "source": [
    "for i in A:\n",
    "    print(i)"
   ]
  },
  {
   "cell_type": "code",
   "execution_count": 76,
   "id": "appointed-depth",
   "metadata": {},
   "outputs": [
    {
     "name": "stdout",
     "output_type": "stream",
     "text": [
      "{'star', 'circle', 'Moon', 'heart', 'rectangle', 'cloud'}\n"
     ]
    }
   ],
   "source": [
    "A.add(\"Moon\")\n",
    "print(A)"
   ]
  },
  {
   "cell_type": "code",
   "execution_count": 77,
   "id": "intelligent-young",
   "metadata": {},
   "outputs": [
    {
     "name": "stdout",
     "output_type": "stream",
     "text": [
      "{'star', 'circle', 'Moon', 'heart', 'Space', 'rectangle', 'cloud', 'Sun'}\n"
     ]
    }
   ],
   "source": [
    "A.update([\"Sun\",\"Space\"])\n",
    "print(A)"
   ]
  },
  {
   "cell_type": "markdown",
   "id": "billion-colombia",
   "metadata": {},
   "source": [
    "#### Set does not aloow dublicate Values"
   ]
  },
  {
   "cell_type": "code",
   "execution_count": 78,
   "id": "lovely-subscriber",
   "metadata": {},
   "outputs": [
    {
     "name": "stdout",
     "output_type": "stream",
     "text": [
      "{'star', 'circle', 'Moon', 'heart', 'Space', 'rectangle', 'cloud', 'Sun'}\n"
     ]
    }
   ],
   "source": [
    "A.add(\"Moon\")\n",
    "print(A)"
   ]
  },
  {
   "cell_type": "code",
   "execution_count": 80,
   "id": "celtic-basketball",
   "metadata": {},
   "outputs": [
    {
     "data": {
      "text/plain": [
       "{'bolt', 'circle', 'heart', 'moon', 'smiley', 'triangle'}"
      ]
     },
     "execution_count": 80,
     "metadata": {},
     "output_type": "execute_result"
    }
   ],
   "source": [
    "B = {\"circle\", \"heart\", \"bolt\",\"moon\",\"triangle\",\"smiley\"}\n",
    "B"
   ]
  },
  {
   "cell_type": "markdown",
   "id": "right-disco",
   "metadata": {},
   "source": [
    "### Set Operations "
   ]
  },
  {
   "cell_type": "code",
   "execution_count": 81,
   "id": "advisory-track",
   "metadata": {},
   "outputs": [
    {
     "data": {
      "text/plain": [
       "{'Moon', 'Space', 'Sun', 'circle', 'cloud', 'heart', 'rectangle', 'star'}"
      ]
     },
     "execution_count": 81,
     "metadata": {},
     "output_type": "execute_result"
    }
   ],
   "source": [
    "A"
   ]
  },
  {
   "cell_type": "code",
   "execution_count": 82,
   "id": "spanish-johnston",
   "metadata": {},
   "outputs": [
    {
     "data": {
      "text/plain": [
       "{'bolt', 'circle', 'heart', 'moon', 'smiley', 'triangle'}"
      ]
     },
     "execution_count": 82,
     "metadata": {},
     "output_type": "execute_result"
    }
   ],
   "source": [
    "B"
   ]
  },
  {
   "cell_type": "markdown",
   "id": "c5a161be",
   "metadata": {},
   "source": [
    "#### Union"
   ]
  },
  {
   "cell_type": "code",
   "execution_count": 83,
   "id": "european-kelly",
   "metadata": {},
   "outputs": [
    {
     "name": "stdout",
     "output_type": "stream",
     "text": [
      "{'star', 'circle', 'moon', 'smiley', 'Moon', 'heart', 'Space', 'rectangle', 'bolt', 'triangle', 'cloud', 'Sun'}\n"
     ]
    }
   ],
   "source": [
    "print(A|B)"
   ]
  },
  {
   "cell_type": "markdown",
   "id": "b5567b51",
   "metadata": {},
   "source": [
    "#### Intersection"
   ]
  },
  {
   "cell_type": "code",
   "execution_count": 84,
   "id": "creative-chosen",
   "metadata": {},
   "outputs": [
    {
     "name": "stdout",
     "output_type": "stream",
     "text": [
      "{'circle', 'heart'}\n"
     ]
    }
   ],
   "source": [
    "print(A&B)"
   ]
  },
  {
   "cell_type": "markdown",
   "id": "15820cf1",
   "metadata": {},
   "source": [
    "#### Difference "
   ]
  },
  {
   "cell_type": "code",
   "execution_count": 85,
   "id": "included-opportunity",
   "metadata": {},
   "outputs": [
    {
     "name": "stdout",
     "output_type": "stream",
     "text": [
      "{'star', 'Moon', 'Space', 'rectangle', 'cloud', 'Sun'}\n"
     ]
    }
   ],
   "source": [
    "print(A-B)"
   ]
  },
  {
   "cell_type": "code",
   "execution_count": 86,
   "id": "adjacent-register",
   "metadata": {},
   "outputs": [
    {
     "name": "stdout",
     "output_type": "stream",
     "text": [
      "{'triangle', 'smiley', 'moon', 'bolt'}\n"
     ]
    }
   ],
   "source": [
    "print(B-A)"
   ]
  },
  {
   "cell_type": "markdown",
   "id": "generous-credits",
   "metadata": {},
   "source": [
    "## Task"
   ]
  },
  {
   "cell_type": "markdown",
   "id": "confused-helena",
   "metadata": {},
   "source": [
    "Write a program detailing the skill set for a data scientist and data analyst.\n",
    "\n",
    "- Data scientist - Python, R, SQL, Scala, Java, Hive, Spark\n",
    "- Data analyst -  Python, SQL, BI, Excel, Power_BI, R, Java\n",
    "\n",
    "\n",
    "- Display the common skills between the two roles\n",
    "- Display the skills unique to each role\n",
    "\n",
    "Add the following skills to each of the set:\n",
    "- Data scientist - Machine Learning, Hadoop\n",
    "- Data analyst - Statistics, NoSQL"
   ]
  },
  {
   "cell_type": "code",
   "execution_count": 87,
   "id": "bizarre-communist",
   "metadata": {},
   "outputs": [
    {
     "name": "stdout",
     "output_type": "stream",
     "text": [
      "Data Scientist Skills:  {'Spark', 'SQL', 'Hive', 'Python', 'R', 'Scala', 'Java'}\n",
      "Data Analyst Skills:  {'SQL', 'Python', 'BI', 'R', 'Power_BI', 'Excel', 'Java'}\n"
     ]
    }
   ],
   "source": [
    "datascientist = {\"Python\", \"R\", \"SQL\", \"Scala\", \"Java\", \"Hive\",\"Spark\"}\n",
    "datanalyst = {\"Python\", \"SQL\", \"BI\", \"Excel\", \"Power_BI\", \"R\",\"Java\"}\n",
    "print(\"Data Scientist Skills: \",datascientist)\n",
    "print(\"Data Analyst Skills: \",datanalyst)"
   ]
  },
  {
   "cell_type": "code",
   "execution_count": 88,
   "id": "royal-kernel",
   "metadata": {},
   "outputs": [
    {
     "name": "stdout",
     "output_type": "stream",
     "text": [
      "Common skills:  {'Python', 'R', 'SQL', 'Java'}\n"
     ]
    }
   ],
   "source": [
    "print(\"Common skills: \",datascientist & datanalyst)"
   ]
  },
  {
   "cell_type": "code",
   "execution_count": 89,
   "id": "dress-honduras",
   "metadata": {},
   "outputs": [
    {
     "name": "stdout",
     "output_type": "stream",
     "text": [
      "Unique Data Scientist Skills:  {'Spark', 'Scala', 'Hive'}\n",
      "Unique Data Analyst Skills:  {'BI', 'Power_BI', 'Excel'}\n"
     ]
    }
   ],
   "source": [
    "print(\"Unique Data Scientist Skills: \",datascientist-datanalyst)\n",
    "print(\"Unique Data Analyst Skills: \",datanalyst-datascientist)"
   ]
  },
  {
   "cell_type": "code",
   "execution_count": 90,
   "id": "greenhouse-sunglasses",
   "metadata": {},
   "outputs": [],
   "source": [
    "datascientist.update([\"Machine Learning\", \"Hadoop\"])\n",
    "datanalyst.update([\"Statistics\", \"NoSQL\"])"
   ]
  },
  {
   "cell_type": "code",
   "execution_count": 91,
   "id": "special-manner",
   "metadata": {},
   "outputs": [
    {
     "name": "stdout",
     "output_type": "stream",
     "text": [
      "Updated Data Scientist:  {'Spark', 'SQL', 'Hive', 'Python', 'Hadoop', 'R', 'Machine Learning', 'Scala', 'Java'}\n",
      "Updated Data Analyst:  {'SQL', 'Python', 'BI', 'Statistics', 'NoSQL', 'R', 'Power_BI', 'Excel', 'Java'}\n"
     ]
    }
   ],
   "source": [
    "print(\"Updated Data Scientist: \",datascientist)\n",
    "print(\"Updated Data Analyst: \",datanalyst)"
   ]
  },
  {
   "cell_type": "code",
   "execution_count": null,
   "id": "educated-retention",
   "metadata": {},
   "outputs": [],
   "source": []
  },
  {
   "cell_type": "markdown",
   "id": "34f654f4",
   "metadata": {},
   "source": [
    "# Functions \n",
    "\n",
    "- Built-in Function\n",
    "- User Defined Function \n",
    "- Anonymous Function "
   ]
  },
  {
   "cell_type": "markdown",
   "id": "brief-patrol",
   "metadata": {},
   "source": [
    "## Built-in Function"
   ]
  },
  {
   "cell_type": "markdown",
   "id": "unsigned-sleeping",
   "metadata": {},
   "source": [
    "#### Abs() - Absolute Function"
   ]
  },
  {
   "cell_type": "code",
   "execution_count": 94,
   "id": "junior-latino",
   "metadata": {},
   "outputs": [
    {
     "name": "stdout",
     "output_type": "stream",
     "text": [
      "79\n"
     ]
    }
   ],
   "source": [
    "n=-79\n",
    "print(abs(n))"
   ]
  },
  {
   "cell_type": "markdown",
   "id": "entire-london",
   "metadata": {},
   "source": [
    "#### All() - Returns True if all items in an iterable object are true"
   ]
  },
  {
   "cell_type": "code",
   "execution_count": 97,
   "id": "oriental-assault",
   "metadata": {},
   "outputs": [
    {
     "data": {
      "text/plain": [
       "False"
      ]
     },
     "execution_count": 97,
     "metadata": {},
     "output_type": "execute_result"
    }
   ],
   "source": [
    "mylist = [True, True, False] # 0= False 1= True\n",
    "all(mylist)\n"
   ]
  },
  {
   "cell_type": "markdown",
   "id": "cleared-rehabilitation",
   "metadata": {},
   "source": [
    "#### Any() -  Returns True if any item in an iterable object is true"
   ]
  },
  {
   "cell_type": "code",
   "execution_count": 101,
   "id": "bigger-drove",
   "metadata": {},
   "outputs": [
    {
     "data": {
      "text/plain": [
       "True"
      ]
     },
     "execution_count": 101,
     "metadata": {},
     "output_type": "execute_result"
    }
   ],
   "source": [
    "mylist = [True, False, False]\n",
    "any(mylist)"
   ]
  },
  {
   "cell_type": "markdown",
   "id": "150380ee",
   "metadata": {},
   "source": [
    "#### Bool() – Returns the boolean value of the specified object"
   ]
  },
  {
   "cell_type": "code",
   "execution_count": 108,
   "id": "trained-hanging",
   "metadata": {},
   "outputs": [
    {
     "data": {
      "text/plain": [
       "True"
      ]
     },
     "execution_count": 108,
     "metadata": {},
     "output_type": "execute_result"
    }
   ],
   "source": [
    "bool(-1)"
   ]
  },
  {
   "cell_type": "markdown",
   "id": "db654713",
   "metadata": {},
   "source": [
    "#### Callable() – Returns True if the specified object is callable, otherwise False"
   ]
  },
  {
   "cell_type": "code",
   "execution_count": 109,
   "id": "parliamentary-canyon",
   "metadata": {},
   "outputs": [
    {
     "name": "stdout",
     "output_type": "stream",
     "text": [
      "True\n"
     ]
    }
   ],
   "source": [
    "def x():\n",
    "    print(576)\n",
    "\n",
    "print(callable(x))"
   ]
  },
  {
   "cell_type": "code",
   "execution_count": 110,
   "id": "615b3bb3",
   "metadata": {},
   "outputs": [
    {
     "name": "stdout",
     "output_type": "stream",
     "text": [
      "False\n"
     ]
    }
   ],
   "source": [
    "num = 5\n",
    "print(callable(num))"
   ]
  },
  {
   "cell_type": "markdown",
   "id": "d04284c8",
   "metadata": {},
   "source": [
    "#### Enumerate() – Adds a counter to an iterable and returns it in a form of enumerate object. This enumerate object can then be used directly in for loops or be convert"
   ]
  },
  {
   "cell_type": "code",
   "execution_count": 111,
   "id": "092dcb46",
   "metadata": {},
   "outputs": [
    {
     "data": {
      "text/plain": [
       "<enumerate at 0x21ac71a1700>"
      ]
     },
     "execution_count": 111,
     "metadata": {},
     "output_type": "execute_result"
    }
   ],
   "source": [
    "x = ('apple', 'banana', 'cherry')\n",
    "enumerate(x)"
   ]
  },
  {
   "cell_type": "code",
   "execution_count": null,
   "id": "59c95485",
   "metadata": {},
   "outputs": [],
   "source": []
  },
  {
   "cell_type": "code",
   "execution_count": null,
   "id": "73430322",
   "metadata": {},
   "outputs": [],
   "source": []
  },
  {
   "cell_type": "code",
   "execution_count": 113,
   "id": "infrared-local",
   "metadata": {},
   "outputs": [
    {
     "name": "stdout",
     "output_type": "stream",
     "text": [
      "Return type: <class 'enumerate'>\n",
      "[(0, 'eat'), (1, 'sleep'), (2, 'repeat')]\n",
      "[(2, 'g'), (3, 'e'), (4, 'e'), (5, 'k')]\n"
     ]
    }
   ],
   "source": [
    "\n",
    "x = ('apple', 'banana', 'cherry')\n",
    "enumerate(x)\n",
    "\n",
    "l1 = [\"eat\",\"sleep\",\"repeat\"] \n",
    "s1 = \"geek\"\n",
    "  \n",
    "\n",
    "obj1 = enumerate(l1) \n",
    "obj2 = enumerate(s1) \n",
    "  \n",
    "print (\"Return type:\",type(obj1))\n",
    "print (list(enumerate(l1)))\n",
    "  \n",
    "\n",
    "print(list(enumerate(s1,2)))\n"
   ]
  },
  {
   "cell_type": "code",
   "execution_count": 116,
   "id": "f9429b37",
   "metadata": {},
   "outputs": [
    {
     "name": "stdout",
     "output_type": "stream",
     "text": [
      "0 apple\n",
      "1 pears\n",
      "2 orange\n",
      "3 fruits\n"
     ]
    }
   ],
   "source": [
    "my_list = ['apple', 'pears','orange','fruits']\n",
    "\n",
    "count = 0\n",
    "for x in my_list:\n",
    "    print(count,x)\n",
    "    count+=1\n",
    "\n"
   ]
  },
  {
   "cell_type": "code",
   "execution_count": 117,
   "id": "64a21f11",
   "metadata": {},
   "outputs": [
    {
     "name": "stdout",
     "output_type": "stream",
     "text": [
      "0 apple\n",
      "1 pears\n",
      "2 orange\n",
      "3 fruits\n"
     ]
    }
   ],
   "source": [
    "for x, elements in enumerate(my_list):\n",
    "    print(x,elements)"
   ]
  },
  {
   "cell_type": "code",
   "execution_count": 118,
   "id": "1c16676b",
   "metadata": {},
   "outputs": [
    {
     "name": "stdout",
     "output_type": "stream",
     "text": [
      "(0, 'eat')\n",
      "(1, 'sleep')\n",
      "(2, 'repeat')\n"
     ]
    }
   ],
   "source": [
    "l1 = [\"eat\",\"sleep\",\"repeat\"] \n",
    "  \n",
    "\n",
    "for ele in enumerate(l1): \n",
    "    print (ele)"
   ]
  },
  {
   "cell_type": "code",
   "execution_count": 119,
   "id": "8cffee57",
   "metadata": {},
   "outputs": [
    {
     "name": "stdout",
     "output_type": "stream",
     "text": [
      "100 eat\n",
      "101 sleep\n",
      "102 repeat\n"
     ]
    }
   ],
   "source": [
    "for count,ele in enumerate(l1,100): \n",
    "    print (count,ele) "
   ]
  },
  {
   "cell_type": "markdown",
   "id": "523a9313",
   "metadata": {},
   "source": [
    "#### Eval() – Evaluates and executes an expression"
   ]
  },
  {
   "cell_type": "code",
   "execution_count": 120,
   "id": "isolated-death",
   "metadata": {},
   "outputs": [
    {
     "name": "stdout",
     "output_type": "stream",
     "text": [
      "55\n"
     ]
    }
   ],
   "source": [
    "x = 'print(55)'\n",
    "eval(x)\n"
   ]
  },
  {
   "cell_type": "markdown",
   "id": "73cf704e",
   "metadata": {},
   "source": [
    "#### Exec() – Executes the specified code (or object)"
   ]
  },
  {
   "cell_type": "code",
   "execution_count": 121,
   "id": "formed-recycling",
   "metadata": {},
   "outputs": [
    {
     "name": "stdout",
     "output_type": "stream",
     "text": [
      "John\n"
     ]
    }
   ],
   "source": [
    "x = 'name = \"John\"\\nprint(name)'\n",
    "exec(x)"
   ]
  },
  {
   "cell_type": "markdown",
   "id": "0ed6aa20",
   "metadata": {},
   "source": [
    "#### Help() – Executes the built-in help system"
   ]
  },
  {
   "cell_type": "code",
   "execution_count": 122,
   "id": "independent-stick",
   "metadata": {},
   "outputs": [
    {
     "name": "stdout",
     "output_type": "stream",
     "text": [
      "Help on class zip in module builtins:\n",
      "\n",
      "class zip(object)\n",
      " |  zip(*iterables) --> A zip object yielding tuples until an input is exhausted.\n",
      " |  \n",
      " |     >>> list(zip('abcdefg', range(3), range(4)))\n",
      " |     [('a', 0, 0), ('b', 1, 1), ('c', 2, 2)]\n",
      " |  \n",
      " |  The zip object yields n-length tuples, where n is the number of iterables\n",
      " |  passed as positional arguments to zip().  The i-th element in every tuple\n",
      " |  comes from the i-th iterable argument to zip().  This continues until the\n",
      " |  shortest argument is exhausted.\n",
      " |  \n",
      " |  Methods defined here:\n",
      " |  \n",
      " |  __getattribute__(self, name, /)\n",
      " |      Return getattr(self, name).\n",
      " |  \n",
      " |  __iter__(self, /)\n",
      " |      Implement iter(self).\n",
      " |  \n",
      " |  __next__(self, /)\n",
      " |      Implement next(self).\n",
      " |  \n",
      " |  __reduce__(...)\n",
      " |      Return state information for pickling.\n",
      " |  \n",
      " |  ----------------------------------------------------------------------\n",
      " |  Static methods defined here:\n",
      " |  \n",
      " |  __new__(*args, **kwargs) from builtins.type\n",
      " |      Create and return a new object.  See help(type) for accurate signature.\n",
      "\n"
     ]
    }
   ],
   "source": [
    "help(zip)"
   ]
  },
  {
   "cell_type": "markdown",
   "id": "7c8c0eb4",
   "metadata": {},
   "source": [
    "#### Max() – Returns the largest item in an iterable"
   ]
  },
  {
   "cell_type": "code",
   "execution_count": 123,
   "id": "adequate-preservation",
   "metadata": {},
   "outputs": [
    {
     "data": {
      "text/plain": [
       "15"
      ]
     },
     "execution_count": 123,
     "metadata": {},
     "output_type": "execute_result"
    }
   ],
   "source": [
    "max(5, 10,15)"
   ]
  },
  {
   "cell_type": "markdown",
   "id": "647bd315",
   "metadata": {},
   "source": [
    "#### Min() – Returns the smallest item in an iterable"
   ]
  },
  {
   "cell_type": "code",
   "execution_count": 124,
   "id": "amino-scanner",
   "metadata": {},
   "outputs": [
    {
     "data": {
      "text/plain": [
       "5"
      ]
     },
     "execution_count": 124,
     "metadata": {},
     "output_type": "execute_result"
    }
   ],
   "source": [
    "min(5, 10,15)"
   ]
  },
  {
   "cell_type": "markdown",
   "id": "445e6bb9",
   "metadata": {},
   "source": [
    "#### Round() – Rounds a numbers"
   ]
  },
  {
   "cell_type": "code",
   "execution_count": 125,
   "id": "appreciated-findings",
   "metadata": {},
   "outputs": [
    {
     "name": "stdout",
     "output_type": "stream",
     "text": [
      "5.765\n"
     ]
    }
   ],
   "source": [
    "x = round(5.76543456476945684, 3)\n",
    "print(x)"
   ]
  },
  {
   "cell_type": "markdown",
   "id": "c55c74fc",
   "metadata": {},
   "source": [
    "#### Sorted() – Returns a sorted list"
   ]
  },
  {
   "cell_type": "code",
   "execution_count": 126,
   "id": "formed-apparel",
   "metadata": {},
   "outputs": [
    {
     "name": "stdout",
     "output_type": "stream",
     "text": [
      "['a', 'b', 'c', 'd', 'e', 'f', 'g', 'h']\n"
     ]
    }
   ],
   "source": [
    "a = [\"b\", \"g\", \"a\", \"d\", \"f\", \"c\", \"h\", \"e\"]\n",
    "x = sorted(a)\n",
    "print(x)"
   ]
  },
  {
   "cell_type": "markdown",
   "id": "742a23ad",
   "metadata": {},
   "source": [
    "#### sum() – Sums the items of an iterator"
   ]
  },
  {
   "cell_type": "code",
   "execution_count": 127,
   "id": "romance-template",
   "metadata": {},
   "outputs": [
    {
     "data": {
      "text/plain": [
       "15"
      ]
     },
     "execution_count": 127,
     "metadata": {},
     "output_type": "execute_result"
    }
   ],
   "source": [
    "a = (1, 2, 3, 4, 5)\n",
    "sum(a)"
   ]
  },
  {
   "cell_type": "markdown",
   "id": "952ba031",
   "metadata": {},
   "source": [
    "#### Type() – Returns the type of an object"
   ]
  },
  {
   "cell_type": "code",
   "execution_count": 128,
   "id": "incoming-season",
   "metadata": {},
   "outputs": [
    {
     "name": "stdout",
     "output_type": "stream",
     "text": [
      "<class 'tuple'>\n",
      "<class 'str'>\n",
      "<class 'int'>\n",
      "<class 'bool'>\n"
     ]
    }
   ],
   "source": [
    "a = ('apple', 'banana', 'cherry')\n",
    "b = \"Hello World\"\n",
    "c = 33\n",
    "d= True\n",
    "\n",
    "x = type(a)\n",
    "y = type(b)\n",
    "z = type(c)\n",
    "zz = type(d)\n",
    "\n",
    "print(x)\n",
    "print(y)\n",
    "print(z)\n",
    "print(zz)\n",
    "\n"
   ]
  },
  {
   "cell_type": "markdown",
   "id": "0c0250ad",
   "metadata": {},
   "source": [
    "#### Zip() -  Returns an iterator, from two or more iterator"
   ]
  },
  {
   "cell_type": "code",
   "execution_count": 130,
   "id": "early-sucking",
   "metadata": {},
   "outputs": [
    {
     "name": "stdout",
     "output_type": "stream",
     "text": [
      "\n",
      "Printing the values of zip\n",
      "('Alpha', 'one')\n",
      "('Beta', 'two')\n",
      "('Gamma', 'three')\n"
     ]
    }
   ],
   "source": [
    "list1 = ['Alpha', 'Beta', 'Gamma', 'Sigma']\n",
    "list2 = ['one', 'two', 'three']\n",
    "\n",
    "test = zip(list1, list2)  \n",
    "\n",
    "print('\\nPrinting the values of zip')\n",
    "for values in test:\n",
    "    print(values)  \n"
   ]
  },
  {
   "cell_type": "markdown",
   "id": "e87eeea8",
   "metadata": {},
   "source": [
    "### Python Modules\n",
    "\n",
    "- Regular Expression  \n",
    "- Random\n",
    "- Date Tie formatting "
   ]
  },
  {
   "cell_type": "markdown",
   "id": "353899c5",
   "metadata": {},
   "source": [
    "#### Regular Expression"
   ]
  },
  {
   "cell_type": "code",
   "execution_count": 131,
   "id": "78f77786",
   "metadata": {},
   "outputs": [
    {
     "name": "stdout",
     "output_type": "stream",
     "text": [
      "<re.Match object; span=(5, 10), match='World'>\n"
     ]
    }
   ],
   "source": [
    "import re\n",
    "txt = \"HelloWorld\"\n",
    "x = re.search(\"World\", txt)\n",
    "print(x)\n"
   ]
  },
  {
   "cell_type": "code",
   "execution_count": 132,
   "id": "957221de",
   "metadata": {},
   "outputs": [
    {
     "name": "stdout",
     "output_type": "stream",
     "text": [
      "Match found\n"
     ]
    }
   ],
   "source": [
    "if x:\n",
    "    print(\"Match found\")\n",
    "else:\n",
    "    print(\"Match not found\")"
   ]
  },
  {
   "cell_type": "markdown",
   "id": "934357bd",
   "metadata": {},
   "source": [
    "### Task - \n",
    "\n",
    "Write a program that takes the user’s name as the input\n",
    "\n",
    "- If there are no vowels in the name, display a message - “You have a unique with no vowels!!”\n",
    "- If vowels are present in the name, display a message -”You have a lovely name!”"
   ]
  },
  {
   "cell_type": "code",
   "execution_count": null,
   "id": "626da4da",
   "metadata": {},
   "outputs": [],
   "source": [
    "import re\n",
    "print(\"***** Task 2: *****\")\n",
    "u=input('Enter your name')\n",
    "if re.search(\"[aeiou]\",u):\n",
    "    print('You have a great name')\n",
    "else:\n",
    "    print('You have a cool NAME')"
   ]
  },
  {
   "cell_type": "markdown",
   "id": "62af9b34",
   "metadata": {},
   "source": [
    "### Random\n",
    "\n",
    "- random.randint()\n",
    "- random.choice()"
   ]
  },
  {
   "cell_type": "code",
   "execution_count": 136,
   "id": "9dddb3dd",
   "metadata": {},
   "outputs": [
    {
     "data": {
      "text/plain": [
       "24"
      ]
     },
     "execution_count": 136,
     "metadata": {},
     "output_type": "execute_result"
    }
   ],
   "source": [
    "import random\n",
    "random.randint(1,100)"
   ]
  },
  {
   "cell_type": "code",
   "execution_count": 137,
   "id": "c771a461",
   "metadata": {},
   "outputs": [
    {
     "name": "stdout",
     "output_type": "stream",
     "text": [
      "51\n",
      "88\n",
      "40\n",
      "94\n",
      "100\n",
      "18\n",
      "18\n",
      "12\n",
      "13\n",
      "96\n"
     ]
    }
   ],
   "source": [
    "for i in range (10):\n",
    "    print(random.randint(1,100))\n",
    "    \n",
    "    "
   ]
  },
  {
   "cell_type": "markdown",
   "id": "a7e06ba8",
   "metadata": {},
   "source": [
    "#### List"
   ]
  },
  {
   "cell_type": "code",
   "execution_count": 140,
   "id": "0938ab8a",
   "metadata": {},
   "outputs": [
    {
     "name": "stdout",
     "output_type": "stream",
     "text": [
      "Mango\n"
     ]
    }
   ],
   "source": [
    "r = [\"Apple\",\"Banana\",\"Kiwi\",\"Grapes\",\"Mango\", \"Orange\"]\n",
    "print(random.choice(r))"
   ]
  },
  {
   "cell_type": "markdown",
   "id": "35782eef",
   "metadata": {},
   "source": [
    "#### Tuple"
   ]
  },
  {
   "cell_type": "code",
   "execution_count": 141,
   "id": "3d8704fb",
   "metadata": {},
   "outputs": [
    {
     "name": "stdout",
     "output_type": "stream",
     "text": [
      "Mango\n"
     ]
    }
   ],
   "source": [
    "r = (\"Apple\",\"Banana\",\"Kiwi\",\"Grapes\",\"Mango\", \"Orange\")\n",
    "print(random.choice(r))"
   ]
  },
  {
   "cell_type": "markdown",
   "id": "17f5e1a6",
   "metadata": {},
   "source": [
    "#### String"
   ]
  },
  {
   "cell_type": "code",
   "execution_count": 143,
   "id": "60dabb53",
   "metadata": {},
   "outputs": [
    {
     "name": "stdout",
     "output_type": "stream",
     "text": [
      "l\n"
     ]
    }
   ],
   "source": [
    "y = \"Apple\"\n",
    "print(random.choice(y))"
   ]
  },
  {
   "cell_type": "markdown",
   "id": "1a4a2775",
   "metadata": {},
   "source": [
    "#### Dictionary"
   ]
  },
  {
   "cell_type": "code",
   "execution_count": 144,
   "id": "3dd52bde",
   "metadata": {},
   "outputs": [
    {
     "ename": "KeyError",
     "evalue": "5",
     "output_type": "error",
     "traceback": [
      "\u001b[1;31m---------------------------------------------------------------------------\u001b[0m",
      "\u001b[1;31mKeyError\u001b[0m                                  Traceback (most recent call last)",
      "Input \u001b[1;32mIn [144]\u001b[0m, in \u001b[0;36m<cell line: 2>\u001b[1;34m()\u001b[0m\n\u001b[0;32m      1\u001b[0m r \u001b[38;5;241m=\u001b[39m {\u001b[38;5;124m\"\u001b[39m\u001b[38;5;124mApple\u001b[39m\u001b[38;5;124m\"\u001b[39m:\u001b[38;5;124m\"\u001b[39m\u001b[38;5;124m44\u001b[39m\u001b[38;5;124m\"\u001b[39m,\u001b[38;5;124m\"\u001b[39m\u001b[38;5;124mBanana\u001b[39m\u001b[38;5;124m\"\u001b[39m:\u001b[38;5;124m\"\u001b[39m\u001b[38;5;124m56\u001b[39m\u001b[38;5;124m\"\u001b[39m,\u001b[38;5;124m\"\u001b[39m\u001b[38;5;124mKiwi\u001b[39m\u001b[38;5;124m\"\u001b[39m:\u001b[38;5;124m\"\u001b[39m\u001b[38;5;124m66\u001b[39m\u001b[38;5;124m\"\u001b[39m,\u001b[38;5;124m\"\u001b[39m\u001b[38;5;124mGrapes\u001b[39m\u001b[38;5;124m\"\u001b[39m:\u001b[38;5;124m\"\u001b[39m\u001b[38;5;124m56\u001b[39m\u001b[38;5;124m\"\u001b[39m,\u001b[38;5;124m\"\u001b[39m\u001b[38;5;124mMango\u001b[39m\u001b[38;5;124m\"\u001b[39m:\u001b[38;5;124m\"\u001b[39m\u001b[38;5;124m34\u001b[39m\u001b[38;5;124m\"\u001b[39m, \u001b[38;5;124m\"\u001b[39m\u001b[38;5;124mOrange\u001b[39m\u001b[38;5;124m\"\u001b[39m:\u001b[38;5;124m\"\u001b[39m\u001b[38;5;124m23\u001b[39m\u001b[38;5;124m\"\u001b[39m}\n\u001b[1;32m----> 2\u001b[0m \u001b[38;5;28mprint\u001b[39m(\u001b[43mrandom\u001b[49m\u001b[38;5;241;43m.\u001b[39;49m\u001b[43mchoice\u001b[49m\u001b[43m(\u001b[49m\u001b[43mr\u001b[49m\u001b[43m)\u001b[49m)\n",
      "File \u001b[1;32mD:\\Program Files\\Anaconda\\envs\\Python_38_with_tensorflow\\lib\\random.py:291\u001b[0m, in \u001b[0;36mRandom.choice\u001b[1;34m(self, seq)\u001b[0m\n\u001b[0;32m    289\u001b[0m \u001b[38;5;28;01mexcept\u001b[39;00m \u001b[38;5;167;01mValueError\u001b[39;00m:\n\u001b[0;32m    290\u001b[0m     \u001b[38;5;28;01mraise\u001b[39;00m \u001b[38;5;167;01mIndexError\u001b[39;00m(\u001b[38;5;124m'\u001b[39m\u001b[38;5;124mCannot choose from an empty sequence\u001b[39m\u001b[38;5;124m'\u001b[39m) \u001b[38;5;28;01mfrom\u001b[39;00m \u001b[38;5;28mNone\u001b[39m\n\u001b[1;32m--> 291\u001b[0m \u001b[38;5;28;01mreturn\u001b[39;00m \u001b[43mseq\u001b[49m\u001b[43m[\u001b[49m\u001b[43mi\u001b[49m\u001b[43m]\u001b[49m\n",
      "\u001b[1;31mKeyError\u001b[0m: 5"
     ]
    }
   ],
   "source": [
    "r = {\"Apple\":\"44\",\"Banana\":\"56\",\"Kiwi\":\"66\",\"Grapes\":\"56\",\"Mango\":\"34\", \"Orange\":\"23\"}\n",
    "print(random.choice(r))"
   ]
  },
  {
   "cell_type": "markdown",
   "id": "adb58304",
   "metadata": {},
   "source": [
    "#### Set"
   ]
  },
  {
   "cell_type": "code",
   "execution_count": 145,
   "id": "e51d4ab8",
   "metadata": {},
   "outputs": [
    {
     "ename": "TypeError",
     "evalue": "'set' object is not subscriptable",
     "output_type": "error",
     "traceback": [
      "\u001b[1;31m---------------------------------------------------------------------------\u001b[0m",
      "\u001b[1;31mTypeError\u001b[0m                                 Traceback (most recent call last)",
      "Input \u001b[1;32mIn [145]\u001b[0m, in \u001b[0;36m<cell line: 2>\u001b[1;34m()\u001b[0m\n\u001b[0;32m      1\u001b[0m r \u001b[38;5;241m=\u001b[39m {\u001b[38;5;124m\"\u001b[39m\u001b[38;5;124mApple\u001b[39m\u001b[38;5;124m\"\u001b[39m,\u001b[38;5;124m\"\u001b[39m\u001b[38;5;124mBanana\u001b[39m\u001b[38;5;124m\"\u001b[39m,\u001b[38;5;124m\"\u001b[39m\u001b[38;5;124mKiwi\u001b[39m\u001b[38;5;124m\"\u001b[39m,\u001b[38;5;124m\"\u001b[39m\u001b[38;5;124mGrapes\u001b[39m\u001b[38;5;124m\"\u001b[39m,\u001b[38;5;124m\"\u001b[39m\u001b[38;5;124mMango\u001b[39m\u001b[38;5;124m\"\u001b[39m, \u001b[38;5;124m\"\u001b[39m\u001b[38;5;124mOrange\u001b[39m\u001b[38;5;124m\"\u001b[39m}\n\u001b[1;32m----> 2\u001b[0m \u001b[38;5;28mprint\u001b[39m(\u001b[43mrandom\u001b[49m\u001b[38;5;241;43m.\u001b[39;49m\u001b[43mchoice\u001b[49m\u001b[43m(\u001b[49m\u001b[43mr\u001b[49m\u001b[43m)\u001b[49m)\n",
      "File \u001b[1;32mD:\\Program Files\\Anaconda\\envs\\Python_38_with_tensorflow\\lib\\random.py:291\u001b[0m, in \u001b[0;36mRandom.choice\u001b[1;34m(self, seq)\u001b[0m\n\u001b[0;32m    289\u001b[0m \u001b[38;5;28;01mexcept\u001b[39;00m \u001b[38;5;167;01mValueError\u001b[39;00m:\n\u001b[0;32m    290\u001b[0m     \u001b[38;5;28;01mraise\u001b[39;00m \u001b[38;5;167;01mIndexError\u001b[39;00m(\u001b[38;5;124m'\u001b[39m\u001b[38;5;124mCannot choose from an empty sequence\u001b[39m\u001b[38;5;124m'\u001b[39m) \u001b[38;5;28;01mfrom\u001b[39;00m \u001b[38;5;28mNone\u001b[39m\n\u001b[1;32m--> 291\u001b[0m \u001b[38;5;28;01mreturn\u001b[39;00m \u001b[43mseq\u001b[49m\u001b[43m[\u001b[49m\u001b[43mi\u001b[49m\u001b[43m]\u001b[49m\n",
      "\u001b[1;31mTypeError\u001b[0m: 'set' object is not subscriptable"
     ]
    }
   ],
   "source": [
    "r = {\"Apple\",\"Banana\",\"Kiwi\",\"Grapes\",\"Mango\", \"Orange\"}\n",
    "print(random.choice(r))"
   ]
  },
  {
   "cell_type": "markdown",
   "id": "eea0453d",
   "metadata": {},
   "source": [
    "### Task\n",
    "\n",
    "Guess the Number \n",
    "- Generate random number \n",
    "- Try to Match it with your user input \n",
    "- If their is a match, print You guessed the right number \n",
    "- Else print better luck net time and print the random number "
   ]
  },
  {
   "cell_type": "code",
   "execution_count": 148,
   "id": "b6481142",
   "metadata": {},
   "outputs": [
    {
     "name": "stdout",
     "output_type": "stream",
     "text": [
      "Guess a number between 0 and 10: 9\n",
      "Sorry! Better luck next time 1\n"
     ]
    }
   ],
   "source": [
    "import random\n",
    "num=int(input(\"Guess a number between 0 and 10: \"))\n",
    "number = random.randrange(0, 11)\n",
    "if num== number:\n",
    "    print(\"You guessed the right number\")\n",
    "else:\n",
    "    print(\"Sorry! Better luck next time\", number)"
   ]
  },
  {
   "cell_type": "code",
   "execution_count": null,
   "id": "bf3c8082",
   "metadata": {},
   "outputs": [],
   "source": []
  },
  {
   "cell_type": "markdown",
   "id": "e0321361",
   "metadata": {},
   "source": [
    "### Date Time "
   ]
  },
  {
   "cell_type": "code",
   "execution_count": 162,
   "id": "480df804",
   "metadata": {},
   "outputs": [
    {
     "name": "stdout",
     "output_type": "stream",
     "text": [
      "The current date is:  2022-04-30 10:04:45.894353\n"
     ]
    }
   ],
   "source": [
    "import datetime\n",
    "x = datetime.datetime.now()\n",
    "print(\"The current date is: \", datetime.datetime.now())\n"
   ]
  },
  {
   "cell_type": "code",
   "execution_count": 163,
   "id": "05a3f656",
   "metadata": {},
   "outputs": [
    {
     "name": "stdout",
     "output_type": "stream",
     "text": [
      "The date today is:  30\n"
     ]
    }
   ],
   "source": [
    "print(\"The date today is: \",x.day)\n"
   ]
  },
  {
   "cell_type": "code",
   "execution_count": 164,
   "id": "7ad798a4",
   "metadata": {},
   "outputs": [
    {
     "name": "stdout",
     "output_type": "stream",
     "text": [
      "The current month is:  4\n"
     ]
    }
   ],
   "source": [
    "print(\"The current month is: \", x.month)\n"
   ]
  },
  {
   "cell_type": "code",
   "execution_count": 165,
   "id": "0b9e120a",
   "metadata": {},
   "outputs": [
    {
     "name": "stdout",
     "output_type": "stream",
     "text": [
      "The current year is:  2022\n"
     ]
    }
   ],
   "source": [
    "print(\"The current year is: \", x.year)"
   ]
  },
  {
   "cell_type": "code",
   "execution_count": 166,
   "id": "dc11c5c5",
   "metadata": {},
   "outputs": [
    {
     "name": "stdout",
     "output_type": "stream",
     "text": [
      "The current hour is:  10\n"
     ]
    }
   ],
   "source": [
    "print(\"The current hour is: \", x.hour)"
   ]
  },
  {
   "cell_type": "code",
   "execution_count": 167,
   "id": "816f6cd2",
   "metadata": {},
   "outputs": [
    {
     "name": "stdout",
     "output_type": "stream",
     "text": [
      "The current minutes is:  4\n"
     ]
    }
   ],
   "source": [
    "print(\"The current minutes is: \", x.minute)"
   ]
  },
  {
   "cell_type": "code",
   "execution_count": 168,
   "id": "e187078a",
   "metadata": {},
   "outputs": [
    {
     "name": "stdout",
     "output_type": "stream",
     "text": [
      "The current second is:  45\n"
     ]
    }
   ],
   "source": [
    "print(\"The current second is: \", x.second)"
   ]
  },
  {
   "cell_type": "code",
   "execution_count": null,
   "id": "e661199e",
   "metadata": {},
   "outputs": [],
   "source": []
  },
  {
   "cell_type": "markdown",
   "id": "following-patrol",
   "metadata": {},
   "source": [
    "# User Defined Function"
   ]
  },
  {
   "cell_type": "code",
   "execution_count": 169,
   "id": "vocal-earthquake",
   "metadata": {},
   "outputs": [],
   "source": [
    "def myfunc():\n",
    "    print(\"Hello World\")"
   ]
  },
  {
   "cell_type": "code",
   "execution_count": 170,
   "id": "8b3dcc18",
   "metadata": {},
   "outputs": [
    {
     "name": "stdout",
     "output_type": "stream",
     "text": [
      "Hello World\n"
     ]
    }
   ],
   "source": [
    "myfunc()"
   ]
  },
  {
   "cell_type": "markdown",
   "id": "365633de",
   "metadata": {},
   "source": [
    "#### Passing Arguments"
   ]
  },
  {
   "cell_type": "code",
   "execution_count": 173,
   "id": "586ce3a2",
   "metadata": {},
   "outputs": [
    {
     "name": "stdout",
     "output_type": "stream",
     "text": [
      "Hello John\n"
     ]
    }
   ],
   "source": [
    "def func(a):\n",
    "    print(\"Hello\",a)\n",
    "\n",
    "func(\"John\")"
   ]
  },
  {
   "cell_type": "markdown",
   "id": "6e6df6e5",
   "metadata": {},
   "source": [
    "#### Return statement"
   ]
  },
  {
   "cell_type": "code",
   "execution_count": 175,
   "id": "02cd95e0",
   "metadata": {},
   "outputs": [
    {
     "name": "stdout",
     "output_type": "stream",
     "text": [
      "Hello John\n"
     ]
    }
   ],
   "source": [
    "def func(a):\n",
    "    return (\"Hello \"+a)\n",
    "\n",
    "q=func(\"John\")\n",
    "print(q)"
   ]
  },
  {
   "cell_type": "markdown",
   "id": "7259c7fd",
   "metadata": {},
   "source": [
    "### Task \n",
    "\n",
    "Add two numbers by using user defined function "
   ]
  },
  {
   "cell_type": "code",
   "execution_count": 176,
   "id": "43691fae",
   "metadata": {},
   "outputs": [
    {
     "name": "stdout",
     "output_type": "stream",
     "text": [
      "Enter The 1st Number : 6\n",
      "Enter The 2nd Number : 3\n",
      "The Sum :  9\n"
     ]
    }
   ],
   "source": [
    "a = int(input(\"Enter The 1st Number : \"))\n",
    "b = int(input(\"Enter The 2nd Number : \"))\n",
    "\n",
    "def addd(a,b):\n",
    "    return a+b\n",
    "\n",
    "print(\"The Sum : \",addd(a,b))"
   ]
  },
  {
   "cell_type": "markdown",
   "id": "daba23ba",
   "metadata": {},
   "source": [
    "### Defaulters"
   ]
  },
  {
   "cell_type": "code",
   "execution_count": null,
   "id": "05f7af4f",
   "metadata": {},
   "outputs": [],
   "source": [
    "def func(x=1):\n",
    "    y0 = x+ 1\n",
    "    y1 = x * 3\n",
    "    y2 = y0 ** 3\n",
    "    print(\"Value of y0 is: \", y0)\n",
    "    print(\"Value of y1 is: \", y1)\n",
    "    print(\"Value of y2 is: \", y2)\n"
   ]
  },
  {
   "cell_type": "code",
   "execution_count": null,
   "id": "0fc12d18",
   "metadata": {},
   "outputs": [],
   "source": [
    "print(\"Values without arguments\")\n",
    "func()\n",
    "\n"
   ]
  },
  {
   "cell_type": "code",
   "execution_count": null,
   "id": "21c2da35",
   "metadata": {},
   "outputs": [],
   "source": [
    "print(\"Values with arguments\")\n",
    "func(3)"
   ]
  },
  {
   "cell_type": "markdown",
   "id": "e7b7a87b",
   "metadata": {},
   "source": [
    "### Task\n",
    "\n",
    "Calculate Factorial of a number that is given by the user"
   ]
  },
  {
   "cell_type": "code",
   "execution_count": null,
   "id": "64ad7635",
   "metadata": {},
   "outputs": [],
   "source": [
    "def factorial(num=1):\n",
    "    prod=1\n",
    "    for i in range(num):\n",
    "        prod=prod*(i+1)\n",
    "    print(prod)\n",
    "\n",
    "    \n",
    "num=int(input(\"Enter a number: \"))\n",
    "factorial(num)"
   ]
  },
  {
   "cell_type": "markdown",
   "id": "ea131f5e",
   "metadata": {},
   "source": [
    "#### Word count "
   ]
  },
  {
   "cell_type": "code",
   "execution_count": null,
   "id": "8bb97000",
   "metadata": {},
   "outputs": [],
   "source": [
    "def wordcount(txt):\n",
    "    upcnt=0\n",
    "    lowcnt=0\n",
    "    digcnt=0\n",
    "    for k in txt:\n",
    "        if k.isdigit():\n",
    "            digcnt=digcnt+1\n",
    "        elif k.isupper():\n",
    "            upcnt=upcnt+1\n",
    "        elif k.islower():\n",
    "            lowcnt=lowcnt+1\n",
    "        else:\n",
    "            pass\n",
    "    print(\"Upper Case: \",upcnt,\"\\nLower Case: \",lowcnt,\"\\nDigits: \",digcnt)\n",
    "\n",
    "vtxt=input(\"Enter a sentence: \")\n",
    "wordcount(vtxt)"
   ]
  },
  {
   "cell_type": "markdown",
   "id": "c819d08f",
   "metadata": {},
   "source": [
    "# Anonymous Function "
   ]
  },
  {
   "cell_type": "markdown",
   "id": "e648c75e",
   "metadata": {},
   "source": [
    "#### Lambda Function "
   ]
  },
  {
   "cell_type": "code",
   "execution_count": null,
   "id": "99406f8d",
   "metadata": {},
   "outputs": [],
   "source": [
    "num = lambda b: b + 10\n",
    "print(num(5))"
   ]
  },
  {
   "cell_type": "code",
   "execution_count": null,
   "id": "d7e32d06",
   "metadata": {},
   "outputs": [],
   "source": [
    "num = int(input(\"Enter a number: \"))\n",
    "sqr = lambda b: b **2\n",
    "cub = lambda b: b **3\n",
    "print(\"Square of the number is: \",sqr(num))\n",
    "print(\"Cube of the number is :\",cub(num))"
   ]
  },
  {
   "cell_type": "markdown",
   "id": "01f95496",
   "metadata": {},
   "source": [
    "### Task\n",
    "\n",
    "Make a calculator by using Lambda Function \n",
    "- Addition\n",
    "- Multiplication\n",
    "- Substraction\n",
    "- Division"
   ]
  },
  {
   "cell_type": "code",
   "execution_count": null,
   "id": "ce4a6ff0",
   "metadata": {},
   "outputs": [],
   "source": [
    "num1 = int(input(\"Enter the first number: \"))\n",
    "num2 = int(input(\"Enter the second number: \"))\n",
    "\n",
    "tot=lambda x,y:x+y\n",
    "prod=lambda x,y:x*y\n",
    "div=lambda x,y:x/y\n",
    "subt=lambda x,y:x-y\n",
    "\n",
    "print(\"The sum of the numbers is: \",tot(num1,num2))\n",
    "print(\"The product of the numbers is: \",prod(num1,num2))\n",
    "print(\"The difference in the numbers is: \",subt(num1,num2))\n",
    "print(\"The quotient you get on dividing the numbers is: \",div(num1,num2))"
   ]
  },
  {
   "cell_type": "markdown",
   "id": "c80d01af",
   "metadata": {},
   "source": [
    "### One Line if Statement"
   ]
  },
  {
   "cell_type": "code",
   "execution_count": null,
   "id": "137f6972",
   "metadata": {},
   "outputs": [],
   "source": [
    "num1=int(input(\"Enter a number: \")) #5"
   ]
  },
  {
   "cell_type": "code",
   "execution_count": null,
   "id": "200ec374",
   "metadata": {},
   "outputs": [],
   "source": [
    "if(num1 > 0):\n",
    "      print(\"Its a positive number\")\n",
    "else:\n",
    "      print(\"It is a negative number\")"
   ]
  },
  {
   "cell_type": "code",
   "execution_count": null,
   "id": "5ec12ec9",
   "metadata": {},
   "outputs": [],
   "source": [
    "print(\"Its a positive number\") if(num1 > 0) else print(\"It is a negative number\")"
   ]
  },
  {
   "cell_type": "markdown",
   "id": "ee080a82",
   "metadata": {},
   "source": [
    "### Using one line if using Lambda Function "
   ]
  },
  {
   "cell_type": "code",
   "execution_count": null,
   "id": "66d39c9b",
   "metadata": {},
   "outputs": [],
   "source": [
    "lambdatest = lambda x: x*2 if x < 3 else x\n",
    "num = 72\n",
    "print(lambdatest(num))"
   ]
  },
  {
   "cell_type": "markdown",
   "id": "8b9f7673",
   "metadata": {},
   "source": [
    "### Task"
   ]
  },
  {
   "cell_type": "code",
   "execution_count": null,
   "id": "27a598ba",
   "metadata": {},
   "outputs": [],
   "source": [
    "multest = lambda x: x*5 if x%3==0 else x*3\n",
    "num =int(input(\"Enter a number: \"))\n",
    "print(multest(num))"
   ]
  },
  {
   "cell_type": "markdown",
   "id": "9b5fa054",
   "metadata": {},
   "source": [
    "## For loop "
   ]
  },
  {
   "cell_type": "code",
   "execution_count": null,
   "id": "ec852280",
   "metadata": {},
   "outputs": [],
   "source": [
    "a=[]\n",
    "for i in range(10):\n",
    "    a.append(i**2)\n",
    "print(a)"
   ]
  },
  {
   "cell_type": "code",
   "execution_count": null,
   "id": "2aafe55d",
   "metadata": {},
   "outputs": [],
   "source": [
    "[i**2 for i in range(10)]\n"
   ]
  },
  {
   "cell_type": "markdown",
   "id": "bd5458bc",
   "metadata": {},
   "source": [
    "### Filter()"
   ]
  },
  {
   "cell_type": "code",
   "execution_count": null,
   "id": "675c450d",
   "metadata": {},
   "outputs": [],
   "source": [
    "seq = [0, 1, 2, 3, 5, 8, 13]"
   ]
  },
  {
   "cell_type": "markdown",
   "id": "ef70c95e",
   "metadata": {},
   "source": [
    "#### result contains odd numbers of the list"
   ]
  },
  {
   "cell_type": "code",
   "execution_count": null,
   "id": "168f332d",
   "metadata": {},
   "outputs": [],
   "source": [
    "result = filter(lambda x: x % 2 != 0, seq)\n",
    "print(list(result))"
   ]
  },
  {
   "cell_type": "markdown",
   "id": "7f83ee7b",
   "metadata": {},
   "source": [
    "#### result contains even numbers of the list"
   ]
  },
  {
   "cell_type": "code",
   "execution_count": null,
   "id": "3bb107a1",
   "metadata": {},
   "outputs": [],
   "source": [
    "result = filter(lambda x: x % 2 == 0, seq)\n",
    "print(list(result))"
   ]
  },
  {
   "cell_type": "markdown",
   "id": "2acae969",
   "metadata": {},
   "source": [
    "### map()"
   ]
  },
  {
   "cell_type": "code",
   "execution_count": null,
   "id": "ddd31632",
   "metadata": {},
   "outputs": [],
   "source": [
    "bases=[10,15,20,25]\n",
    "index=[2,3,4,5]\n",
    "powers=list(map(lambda x,y:x**y,bases,index))\n",
    "print(powers)"
   ]
  },
  {
   "cell_type": "code",
   "execution_count": null,
   "id": "6e95ac0c",
   "metadata": {},
   "outputs": [],
   "source": []
  }
 ],
 "metadata": {
  "kernelspec": {
   "display_name": "Python 3 (ipykernel)",
   "language": "python",
   "name": "python3"
  },
  "language_info": {
   "codemirror_mode": {
    "name": "ipython",
    "version": 3
   },
   "file_extension": ".py",
   "mimetype": "text/x-python",
   "name": "python",
   "nbconvert_exporter": "python",
   "pygments_lexer": "ipython3",
   "version": "3.9.13"
  }
 },
 "nbformat": 4,
 "nbformat_minor": 5
}
