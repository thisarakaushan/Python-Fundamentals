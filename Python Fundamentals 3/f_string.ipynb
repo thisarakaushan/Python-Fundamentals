{
 "cells": [
  {
   "cell_type": "code",
   "execution_count": 1,
   "id": "66d77dd4",
   "metadata": {},
   "outputs": [
    {
     "name": "stdout",
     "output_type": "stream",
     "text": [
      "Enter a floating number : 1.234\n",
      "Number = 1.234000\n",
      "Number (1.2f) = 1.23\n",
      "Number (10.3f) =      1.234\n",
      "\n",
      "Number = 1.234\n",
      "Number (1.2f) = 1.23\n",
      "Number (10.3f) =      1.234\n",
      "\n",
      "Number = 1.234\n",
      "Number (1.2f) = 1.23\n",
      "Number (10.3f) =      1.234\n"
     ]
    }
   ],
   "source": [
    "#Take a floating point number as input from user and demonstrate the various combinations of field width \n",
    "#(minimum number of characters) and significant digits using all 3 formatting techniques with 3 examples of each.\n",
    "\n",
    "n=float(input(\"Enter a floating number : \"))\n",
    "\n",
    "print(\"Number = %f\" %n)\n",
    "print(\"Number (1.2f) = %1.2f\" %n)\n",
    "print(\"Number (10.3f) = %10.3f\" %n)\n",
    "\n",
    "print(\"\\nNumber = {}\".format(n))\n",
    "print(\"Number (1.2f) = {n:1.2f}\".format(n=n))\n",
    "print(\"Number (10.3f) = {n:10.3f}\".format(n=n))\n",
    "\n",
    "print(f\"\\nNumber = {n}\")\n",
    "print(f\"Number (1.2f) = {n:1.2f}\")\n",
    "print(f\"Number (10.3f) = {n:10.3f}\")"
   ]
  },
  {
   "cell_type": "code",
   "execution_count": null,
   "id": "05759703",
   "metadata": {},
   "outputs": [],
   "source": []
  }
 ],
 "metadata": {
  "kernelspec": {
   "display_name": "Python 3 (ipykernel)",
   "language": "python",
   "name": "python3"
  },
  "language_info": {
   "codemirror_mode": {
    "name": "ipython",
    "version": 3
   },
   "file_extension": ".py",
   "mimetype": "text/x-python",
   "name": "python",
   "nbconvert_exporter": "python",
   "pygments_lexer": "ipython3",
   "version": "3.9.13"
  }
 },
 "nbformat": 4,
 "nbformat_minor": 5
}
