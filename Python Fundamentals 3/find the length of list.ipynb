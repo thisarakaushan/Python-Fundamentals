{
 "cells": [
  {
   "cell_type": "markdown",
   "id": "675e9ded",
   "metadata": {},
   "source": []
  },
  {
   "cell_type": "markdown",
   "id": "66e00378",
   "metadata": {},
   "source": []
  },
  {
   "cell_type": "code",
   "execution_count": 16,
   "id": "27d86922",
   "metadata": {},
   "outputs": [
    {
     "name": "stdout",
     "output_type": "stream",
     "text": [
      "Enter the value of n :\n",
      "5\n",
      "Enter 5 values :\n",
      "1\n",
      "2\n",
      "3\n",
      "4\n",
      "5\n",
      "['1', '2', '3', '4', '5']\n",
      "Length of the list = 5\n"
     ]
    }
   ],
   "source": [
    "#1. WAP to create a list of 'n' elements and find length of the list using list() function.\n",
    "n=int(input(\"Enter the value of n :\\n\"))\n",
    "print(f\"Enter {n} values :\")\n",
    "list1=[]\n",
    "for i in range(0,n):\n",
    "    list1.append(input())\n",
    "print(list1)\n",
    "print(f\"Length of the list = {len(list1)}\")\n",
    "\n"
   ]
  },
  {
   "cell_type": "code",
   "execution_count": null,
   "id": "3473561c",
   "metadata": {},
   "outputs": [],
   "source": []
  }
 ],
 "metadata": {
  "kernelspec": {
   "display_name": "Python 3 (ipykernel)",
   "language": "python",
   "name": "python3"
  },
  "language_info": {
   "codemirror_mode": {
    "name": "ipython",
    "version": 3
   },
   "file_extension": ".py",
   "mimetype": "text/x-python",
   "name": "python",
   "nbconvert_exporter": "python",
   "pygments_lexer": "ipython3",
   "version": "3.9.13"
  }
 },
 "nbformat": 4,
 "nbformat_minor": 5
}
