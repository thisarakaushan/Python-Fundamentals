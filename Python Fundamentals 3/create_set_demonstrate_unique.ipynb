{
 "cells": [
  {
   "cell_type": "code",
   "execution_count": 7,
   "id": "376b82bc",
   "metadata": {},
   "outputs": [
    {
     "name": "stdout",
     "output_type": "stream",
     "text": [
      "Before adding the element : {1, 2, 3}\n",
      "\n",
      "After adding the element which is not existing : {1, 2, 3, 4}\n",
      "\n",
      "After adding the element which is exist : {1, 2, 3, 4}\n"
     ]
    }
   ],
   "source": [
    "#q5. Create a set with different elements and demonstrate it unique element feature by trying to add an\n",
    "#already existing element.\n",
    "\n",
    "s1=set()\n",
    "s1.add(1)\n",
    "s1.add(2)\n",
    "s1.add(3)\n",
    "print(f\"Before adding the element : {s1}\")\n",
    "s1.add(4)\n",
    "print(f\"\\nAfter adding the element which is not existing : {s1}\")\n",
    "\n",
    "s1.add(2)\n",
    "print(f\"\\nAfter adding the element which is exist : {s1}\")\n"
   ]
  },
  {
   "cell_type": "code",
   "execution_count": null,
   "id": "7a32cf52",
   "metadata": {},
   "outputs": [],
   "source": []
  }
 ],
 "metadata": {
  "kernelspec": {
   "display_name": "Python 3 (ipykernel)",
   "language": "python",
   "name": "python3"
  },
  "language_info": {
   "codemirror_mode": {
    "name": "ipython",
    "version": 3
   },
   "file_extension": ".py",
   "mimetype": "text/x-python",
   "name": "python",
   "nbconvert_exporter": "python",
   "pygments_lexer": "ipython3",
   "version": "3.9.13"
  }
 },
 "nbformat": 4,
 "nbformat_minor": 5
}
