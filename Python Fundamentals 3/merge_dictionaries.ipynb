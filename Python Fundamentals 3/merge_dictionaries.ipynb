{
 "cells": [
  {
   "cell_type": "code",
   "execution_count": 8,
   "id": "988044a1",
   "metadata": {},
   "outputs": [
    {
     "name": "stdout",
     "output_type": "stream",
     "text": [
      "First dictionary : {'key1': 50, 'key2': [1, 2.21, 'a']}\n"
     ]
    }
   ],
   "source": [
    "#q7. Create 2 dictionaries and merge them.\n",
    "\n",
    "d1={}\n",
    "d1['key1']=50\n",
    "d1['key2']=[1,2.21,'a']\n",
    "print(f\"First dictionary : {d1}\")"
   ]
  },
  {
   "cell_type": "code",
   "execution_count": 7,
   "id": "578fc63a",
   "metadata": {},
   "outputs": [
    {
     "name": "stdout",
     "output_type": "stream",
     "text": [
      "Second dictionary : {'k1': 'value1', 'k2': {'k2a': 'apple', 'k2b': 123, 'k2c': [1, 2, 3]}}\n"
     ]
    }
   ],
   "source": [
    "\n",
    "\n",
    "d2={}\n",
    "d2['k1']='value1'\n",
    "d2['k2']={}\n",
    "d2['k2']['k2a']='apple'\n",
    "d2['k2']['k2b']=123\n",
    "d2['k2']['k2c']=[1,2,3]\n",
    "print(f\"Second dictionary : {d2}\")"
   ]
  },
  {
   "cell_type": "code",
   "execution_count": 20,
   "id": "c90fc0bf",
   "metadata": {},
   "outputs": [
    {
     "name": "stdout",
     "output_type": "stream",
     "text": [
      "Merge dictionary : \n",
      "{'key1': 50, 'key2': [1, 2.21, 'a'], 'k1': 'value1', 'k2': {'k2a': 'apple', 'k2b': 123, 'k2c': [1, 2, 3]}} \n"
     ]
    }
   ],
   "source": [
    "d3={}\n",
    "d3 = {**d1, **d2}\n",
    "\n",
    "print(f\"Merge dictionary : \\n{d3} \")\n"
   ]
  },
  {
   "cell_type": "code",
   "execution_count": null,
   "id": "8c168803",
   "metadata": {},
   "outputs": [],
   "source": []
  }
 ],
 "metadata": {
  "kernelspec": {
   "display_name": "Python 3 (ipykernel)",
   "language": "python",
   "name": "python3"
  },
  "language_info": {
   "codemirror_mode": {
    "name": "ipython",
    "version": 3
   },
   "file_extension": ".py",
   "mimetype": "text/x-python",
   "name": "python",
   "nbconvert_exporter": "python",
   "pygments_lexer": "ipython3",
   "version": "3.9.13"
  }
 },
 "nbformat": 4,
 "nbformat_minor": 5
}
