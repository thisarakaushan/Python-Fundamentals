{
 "cells": [
  {
   "cell_type": "code",
   "execution_count": 4,
   "id": "c14a9666",
   "metadata": {},
   "outputs": [
    {
     "name": "stdout",
     "output_type": "stream",
     "text": [
      "Enter a number : 1\n",
      "1 is not a prime number.\n"
     ]
    }
   ],
   "source": [
    "#write a python program  to accept a number whether it is a prime number or not.\n",
    "\n",
    "n = int(input(\"Enter a number : \"))\n",
    "if n==1:\n",
    "    print(n, \"is not a prime number.\")\n",
    "elif n > 1:\n",
    "    for i in range(2, int(n/2)+1):\n",
    "        if n%i == 0:\n",
    "            print(n, \"is not a prime number.\")\n",
    "            break\n",
    "    else:\n",
    "        print(n, \"is a prime number.\")\n",
    "else:\n",
    "    print(n, \"is not a prime number.\")\n",
    "    "
   ]
  },
  {
   "cell_type": "code",
   "execution_count": null,
   "id": "d9c7eff6",
   "metadata": {},
   "outputs": [],
   "source": []
  },
  {
   "cell_type": "code",
   "execution_count": null,
   "id": "8dca45a5",
   "metadata": {},
   "outputs": [],
   "source": []
  },
  {
   "cell_type": "code",
   "execution_count": null,
   "id": "56a69d82",
   "metadata": {},
   "outputs": [],
   "source": []
  }
 ],
 "metadata": {
  "kernelspec": {
   "display_name": "Python 3 (ipykernel)",
   "language": "python",
   "name": "python3"
  },
  "language_info": {
   "codemirror_mode": {
    "name": "ipython",
    "version": 3
   },
   "file_extension": ".py",
   "mimetype": "text/x-python",
   "name": "python",
   "nbconvert_exporter": "python",
   "pygments_lexer": "ipython3",
   "version": "3.9.13"
  }
 },
 "nbformat": 4,
 "nbformat_minor": 5
}
