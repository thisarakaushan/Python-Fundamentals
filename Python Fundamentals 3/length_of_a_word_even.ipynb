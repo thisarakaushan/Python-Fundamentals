{
 "cells": [
  {
   "cell_type": "code",
   "execution_count": 4,
   "id": "0586f630",
   "metadata": {},
   "outputs": [
    {
     "name": "stdout",
     "output_type": "stream",
     "text": [
      "The length of word is 'even!'.\n",
      "The length of in is 'even!'.\n",
      "The length of this is 'even!'.\n",
      "The length of sentence is 'even!'.\n",
      "The length of that is 'even!'.\n",
      "The length of an is 'even!'.\n",
      "The length of even is 'even!'.\n",
      "The length of number is 'even!'.\n",
      "The length of of is 'even!'.\n"
     ]
    }
   ],
   "source": [
    "#Go through the string below and if the length of a word is even print \"even!\"\n",
    "#st = 'Print every word in this sentence that has an even number of letters'\n",
    "\n",
    "st = 'Print every word in this sentence that has an even number of letters'\n",
    "str = st.split()\n",
    "for i in str:\n",
    "    if len(i)%2==0:\n",
    "        print(f\"The length of {i} is 'even!'.\")"
   ]
  },
  {
   "cell_type": "code",
   "execution_count": null,
   "id": "de9433d3",
   "metadata": {},
   "outputs": [],
   "source": []
  }
 ],
 "metadata": {
  "kernelspec": {
   "display_name": "Python 3 (ipykernel)",
   "language": "python",
   "name": "python3"
  },
  "language_info": {
   "codemirror_mode": {
    "name": "ipython",
    "version": 3
   },
   "file_extension": ".py",
   "mimetype": "text/x-python",
   "name": "python",
   "nbconvert_exporter": "python",
   "pygments_lexer": "ipython3",
   "version": "3.9.13"
  }
 },
 "nbformat": 4,
 "nbformat_minor": 5
}
