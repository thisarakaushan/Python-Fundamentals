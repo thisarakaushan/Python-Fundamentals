{
 "cells": [
  {
   "cell_type": "code",
   "execution_count": 1,
   "id": "64a33782",
   "metadata": {},
   "outputs": [
    {
     "name": "stdout",
     "output_type": "stream",
     "text": [
      "Enter 3 integer values :\n",
      "1\n",
      "2\n",
      "3\n",
      "Enter 3 float values :\n",
      "3.1\n",
      "2.1\n",
      "1.1\n",
      "Enter 3 string values :\n",
      "apple\n",
      "mango\n",
      "orange\n"
     ]
    },
    {
     "data": {
      "text/plain": [
       "[[1, 2, 3], [3.1, 2.1, 1.1], ['apple', 'mango', 'orange']]"
      ]
     },
     "execution_count": 1,
     "metadata": {},
     "output_type": "execute_result"
    }
   ],
   "source": [
    "#8. WAP to create a 3x3 matrix comprising elements of different data types.\n",
    "list1=[]\n",
    "print(\"Enter 3 integer values :\")\n",
    "for i in range(0,3):\n",
    "    list1.append(int(input()))\n",
    "list2=[]\n",
    "print(\"Enter 3 float values :\")\n",
    "for i in range(0,3):\n",
    "    list2.append(float(input()))\n",
    "list3=[]\n",
    "print(\"Enter 3 string values :\")\n",
    "for i in range(0,3):\n",
    "    list3.append(input())\n",
    "matrix=[list1,list2,list3]\n",
    "matrix"
   ]
  },
  {
   "cell_type": "code",
   "execution_count": null,
   "id": "5a7b1c81",
   "metadata": {},
   "outputs": [],
   "source": []
  }
 ],
 "metadata": {
  "kernelspec": {
   "display_name": "Python 3 (ipykernel)",
   "language": "python",
   "name": "python3"
  },
  "language_info": {
   "codemirror_mode": {
    "name": "ipython",
    "version": 3
   },
   "file_extension": ".py",
   "mimetype": "text/x-python",
   "name": "python",
   "nbconvert_exporter": "python",
   "pygments_lexer": "ipython3",
   "version": "3.9.13"
  }
 },
 "nbformat": 4,
 "nbformat_minor": 5
}
