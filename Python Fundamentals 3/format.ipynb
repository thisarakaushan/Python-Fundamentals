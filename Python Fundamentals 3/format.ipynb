{
 "cells": [
  {
   "cell_type": "code",
   "execution_count": 3,
   "id": "71e42462",
   "metadata": {},
   "outputs": [
    {
     "name": "stdout",
     "output_type": "stream",
     "text": [
      "My name is Thisara Kaushan\n"
     ]
    }
   ],
   "source": [
    "#WAP to demonstrate string insertion into print statement using .format() with 3 print statements. \n",
    "\n",
    "#(i) Printing strings normally using .format() \n",
    " \n",
    "print(\"My name is {}\".format('Thisara Kaushan'))"
   ]
  },
  {
   "cell_type": "code",
   "execution_count": 12,
   "id": "6f654b37",
   "metadata": {},
   "outputs": [
    {
     "name": "stdout",
     "output_type": "stream",
     "text": [
      "My first name is Thisara,last name is Kaushan and I'm 23 years old\n",
      "\n",
      "Apples are red,and roses are also red.\n",
      "\n",
      "Apples are red,and roses are also red.\n"
     ]
    }
   ],
   "source": [
    "#(ii) Printing strings by their index position\n",
    "\n",
    "fname='Thisara'\n",
    "lname='Kaushan'\n",
    "age=23\n",
    "\n",
    "print(\"My first name is {2},last name is {0} and I'm {1} years old\".format(lname,age,fname))\n",
    "\n",
    "print(\"\\nApples are {0},and roses are also {0}.\".format(\"red\"))\n",
    "\n",
    "print(\"\\nApples are {},and roses are also {}.\".format('red','red'))"
   ]
  },
  {
   "cell_type": "code",
   "execution_count": 14,
   "id": "5764076f",
   "metadata": {},
   "outputs": [
    {
     "name": "stdout",
     "output_type": "stream",
     "text": [
      "My first name is Thisara,last name is Kaushan and I'm 23 years old.\n"
     ]
    }
   ],
   "source": [
    "#(iii) Printing strings by their keywords \n",
    "\n",
    "fname='Thisara'\n",
    "lname='Kaushan'\n",
    "age=23\n",
    "\n",
    "print(\"My first name is {fn},last name is {ln} and I'm {a} years old.\".format(ln=lname,a=age,fn=fname))"
   ]
  },
  {
   "cell_type": "code",
   "execution_count": 22,
   "id": "5703dec8",
   "metadata": {},
   "outputs": [
    {
     "name": "stdout",
     "output_type": "stream",
     "text": [
      "  Object  |   Type   | Quantity \n",
      "  Apples  |  Fruit   |6         \n",
      "  Roses   | Flowers  |10        \n",
      "  Chairs  |   Wood   |20        \n"
     ]
    }
   ],
   "source": [
    "#(iv) Build a table as follows using appropriate alignment symbols \n",
    "#Object |  Type   |Quantity \n",
    "#Apples |  Fruit  |6 \n",
    "# Roses | Flowers |10 \n",
    "#Chairs |  Wood   |20\n",
    "# All strings in above table are center aligned and numbers are left aligned.\n",
    "\n",
    "print(\"{0:^10}|{1:^10}|{2:^10}\".format('Object','Type','Quantity'))\n",
    "print(\"{0:^10}|{1:^10}|{2:<10}\".format('Apples','Fruit',6))\n",
    "print(\"{0:^10}|{1:^10}|{2:<10}\".format('Roses','Flowers',10))\n",
    "print(\"{0:^10}|{1:^10}|{2:<10}\".format('Chairs','Wood',20))\n"
   ]
  },
  {
   "cell_type": "code",
   "execution_count": null,
   "id": "13f63e2a",
   "metadata": {},
   "outputs": [],
   "source": []
  }
 ],
 "metadata": {
  "kernelspec": {
   "display_name": "Python 3 (ipykernel)",
   "language": "python",
   "name": "python3"
  },
  "language_info": {
   "codemirror_mode": {
    "name": "ipython",
    "version": 3
   },
   "file_extension": ".py",
   "mimetype": "text/x-python",
   "name": "python",
   "nbconvert_exporter": "python",
   "pygments_lexer": "ipython3",
   "version": "3.9.13"
  }
 },
 "nbformat": 4,
 "nbformat_minor": 5
}
