{
 "cells": [
  {
   "cell_type": "code",
   "execution_count": 9,
   "id": "64ae1baf",
   "metadata": {},
   "outputs": [
    {
     "name": "stdout",
     "output_type": "stream",
     "text": [
      "t1[0:] = (1, 2, 3, 4, 5)\n",
      "t1[1:] = (2, 3, 4, 5)\n",
      "t1[2:] = (3, 4, 5)\n",
      "t1[3:] = (4, 5)\n",
      "t1[4:] = (5,)\n",
      "(1, 2, 3, 4, 5)\n",
      "(3, 4)\n",
      "(1, 3, 5)\n",
      "(5, 4, 3, 2, 1)\n",
      "(2, 3, 4)\n"
     ]
    }
   ],
   "source": [
    "#q4.Create a tuple with different elements and perform 5 different slicing operations on it.\n",
    "\n",
    "t1=(1,2,3,4,5)\n",
    "for i in range(0,5):\n",
    "    print(f\"t1[{i}:] = {t1[i:]}\")\n",
    "    \n",
    "print(t1[0:5])\n",
    "print(t1[2:4:1])\n",
    "print(t1[0:5:2])\n",
    "print(t1[::-1])\n",
    "print(t1[1:4])"
   ]
  },
  {
   "cell_type": "code",
   "execution_count": null,
   "id": "252868a8",
   "metadata": {},
   "outputs": [],
   "source": []
  }
 ],
 "metadata": {
  "kernelspec": {
   "display_name": "Python 3 (ipykernel)",
   "language": "python",
   "name": "python3"
  },
  "language_info": {
   "codemirror_mode": {
    "name": "ipython",
    "version": 3
   },
   "file_extension": ".py",
   "mimetype": "text/x-python",
   "name": "python",
   "nbconvert_exporter": "python",
   "pygments_lexer": "ipython3",
   "version": "3.9.13"
  }
 },
 "nbformat": 4,
 "nbformat_minor": 5
}
