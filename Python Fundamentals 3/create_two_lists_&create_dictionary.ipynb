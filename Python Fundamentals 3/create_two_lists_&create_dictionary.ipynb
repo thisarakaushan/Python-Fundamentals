{
 "cells": [
  {
   "cell_type": "code",
   "execution_count": 1,
   "id": "c717b89d",
   "metadata": {},
   "outputs": [
    {
     "name": "stdout",
     "output_type": "stream",
     "text": [
      "Created dictionary : \n",
      "{'key0': 'value0', 'key1': 'value1', 'key2': 'value2', 'key3': 'value3', 'key4': 'value4'}\n"
     ]
    }
   ],
   "source": [
    "#q6. Create 2 lists. First list contains keys and second list contains values. Use these lists to create a dictionary. \n",
    "    \n",
    "keys=[]\n",
    "values=[]\n",
    "d1={}\n",
    "for i in range(0,5):\n",
    "    keys.append(f\"key{i}\")\n",
    "    values.append(f\"value{i}\")\n",
    "    d1[keys[i]]=values[i]\n",
    "print(f\"Created dictionary : \\n{d1}\")  "
   ]
  },
  {
   "cell_type": "code",
   "execution_count": 2,
   "id": "36d63297",
   "metadata": {},
   "outputs": [
    {
     "name": "stdout",
     "output_type": "stream",
     "text": [
      "Enter the value of n : 3\n",
      "Enter 3 values : \n",
      "1\n",
      "2\n",
      "3\n",
      "['key1', 'key2', 'key3']\n",
      "1\n",
      "2\n",
      "3\n",
      "[1, 2, 3]\n",
      "Created dictionary : \n",
      "{'key1': 1, 'key2': 2, 'key3': 3}\n"
     ]
    }
   ],
   "source": [
    "n = int(input(\"Enter the value of n : \"))\n",
    "print(f\"Enter {n} values : \")\n",
    "keys=[]\n",
    "for i in range(0,n):\n",
    "    keys.append(\"key\"+input())\n",
    "print(keys)\n",
    "values=[]\n",
    "for i in range(0,n):\n",
    "    values.append(int(input()))\n",
    "print(values)\n",
    "\n",
    "d1={}\n",
    "for i in range(0,n):\n",
    "    d1[keys[i]]=values[i]\n",
    "print(f\"Created dictionary : \\n{d1}\") "
   ]
  },
  {
   "cell_type": "code",
   "execution_count": 3,
   "id": "619032b8",
   "metadata": {},
   "outputs": [
    {
     "name": "stdout",
     "output_type": "stream",
     "text": [
      "Resultant dictionary is :{'key1': 20, 'key2': 'world', 'key3': [1, 3, 'app']} \n"
     ]
    }
   ],
   "source": [
    "keys=['key1','key2','key3']\n",
    "values=[20,'world',[1,3,'app']]\n",
    "d1={}\n",
    "for key in keys:\n",
    "    for value in values:\n",
    "        d1[key] = value\n",
    "        values.remove(value)\n",
    "        break\n",
    "print(f\"Resultant dictionary is :{d1} \" )"
   ]
  },
  {
   "cell_type": "code",
   "execution_count": null,
   "id": "158f2a78",
   "metadata": {},
   "outputs": [],
   "source": []
  },
  {
   "cell_type": "code",
   "execution_count": null,
   "id": "61d7523f",
   "metadata": {},
   "outputs": [],
   "source": []
  }
 ],
 "metadata": {
  "kernelspec": {
   "display_name": "Python 3 (ipykernel)",
   "language": "python",
   "name": "python3"
  },
  "language_info": {
   "codemirror_mode": {
    "name": "ipython",
    "version": 3
   },
   "file_extension": ".py",
   "mimetype": "text/x-python",
   "name": "python",
   "nbconvert_exporter": "python",
   "pygments_lexer": "ipython3",
   "version": "3.9.13"
  }
 },
 "nbformat": 4,
 "nbformat_minor": 5
}
