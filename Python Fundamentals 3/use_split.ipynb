{
 "cells": [
  {
   "cell_type": "code",
   "execution_count": 1,
   "id": "ba046ed2",
   "metadata": {},
   "outputs": [
    {
     "name": "stdout",
     "output_type": "stream",
     "text": [
      "Enter a sentence : \n",
      "She is a swimmer.\n",
      "She\n",
      "swimmer.\n"
     ]
    }
   ],
   "source": [
    "#Use for, .split(), and if to create a Statement that will print out words that start with 's'.\n",
    "\n",
    "str=input(\"Enter a sentence : \\n\")\n",
    "for i in str.split():\n",
    "    if(i[0]=='s' or i[0]=='S'):\n",
    "        print(i)"
   ]
  },
  {
   "cell_type": "code",
   "execution_count": null,
   "id": "b21fd71e",
   "metadata": {},
   "outputs": [],
   "source": []
  }
 ],
 "metadata": {
  "kernelspec": {
   "display_name": "Python 3 (ipykernel)",
   "language": "python",
   "name": "python3"
  },
  "language_info": {
   "codemirror_mode": {
    "name": "ipython",
    "version": 3
   },
   "file_extension": ".py",
   "mimetype": "text/x-python",
   "name": "python",
   "nbconvert_exporter": "python",
   "pygments_lexer": "ipython3",
   "version": "3.9.13"
  }
 },
 "nbformat": 4,
 "nbformat_minor": 5
}
