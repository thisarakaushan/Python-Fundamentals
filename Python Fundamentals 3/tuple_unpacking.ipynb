{
 "cells": [
  {
   "cell_type": "code",
   "execution_count": 9,
   "id": "72355b6f",
   "metadata": {},
   "outputs": [
    {
     "name": "stdout",
     "output_type": "stream",
     "text": [
      "The  values in 'x' index : \n",
      "1\n",
      "3\n",
      "5\n",
      "The values in 'y' index : \n",
      "2\n",
      "4\n",
      "6\n"
     ]
    }
   ],
   "source": [
    "#Demonstrate tuple unpacking with suitable example.\n",
    "\n",
    "print(\"The  values in 'x' index : \")\n",
    "for x,y in [(1,2),(3,4),(5,6)] :\n",
    "     print(x)\n",
    "    \n",
    "print(\"The values in 'y' index : \")\n",
    "for x,y in [(1,2),(3,4),(5,6)] :\n",
    "    print(y)"
   ]
  },
  {
   "cell_type": "code",
   "execution_count": null,
   "id": "91e4d7bd",
   "metadata": {},
   "outputs": [],
   "source": []
  }
 ],
 "metadata": {
  "kernelspec": {
   "display_name": "Python 3 (ipykernel)",
   "language": "python",
   "name": "python3"
  },
  "language_info": {
   "codemirror_mode": {
    "name": "ipython",
    "version": 3
   },
   "file_extension": ".py",
   "mimetype": "text/x-python",
   "name": "python",
   "nbconvert_exporter": "python",
   "pygments_lexer": "ipython3",
   "version": "3.9.13"
  }
 },
 "nbformat": 4,
 "nbformat_minor": 5
}
