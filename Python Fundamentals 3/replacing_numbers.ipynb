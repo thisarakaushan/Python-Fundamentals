{
 "cells": [
  {
   "cell_type": "code",
   "execution_count": 3,
   "id": "25cfdcd7",
   "metadata": {},
   "outputs": [
    {
     "name": "stdout",
     "output_type": "stream",
     "text": [
      "[1, 2, 'Multiple of 3', 4, 'Multiple of 5', 'Multiple of 3', 7, 8, 'Multiple of 3', 'Multiple of 5', 11, 'Multiple of 3', 13, 14, 'Multiple of 15', 16, 17, 'Multiple of 3', 19, 'Multiple of 5', 'Multiple of 3', 22, 23, 'Multiple of 3', 'Multiple of 5', 26, 'Multiple of 3', 28, 29, 'Multiple of 15', 31, 32, 'Multiple of 3', 34, 'Multiple of 5', 'Multiple of 3', 37, 38, 'Multiple of 3', 'Multiple of 5', 41, 'Multiple of 3', 43, 44, 'Multiple of 15', 46, 47, 'Multiple of 3', 49, 'Multiple of 5', 'Multiple of 3', 52, 53, 'Multiple of 3', 'Multiple of 5', 56, 'Multiple of 3', 58, 59, 'Multiple of 15', 61, 62, 'Multiple of 3', 64, 'Multiple of 5', 'Multiple of 3', 67, 68, 'Multiple of 3', 'Multiple of 5', 71, 'Multiple of 3', 73, 74, 'Multiple of 15', 76, 77, 'Multiple of 3', 79, 'Multiple of 5', 'Multiple of 3', 82, 83, 'Multiple of 3', 'Multiple of 5', 86, 'Multiple of 3', 88, 89, 'Multiple of 15', 91, 92, 'Multiple of 3', 94, 'Multiple of 5', 'Multiple of 3', 97, 98, 'Multiple of 3']\n"
     ]
    }
   ],
   "source": [
    "#WAP to print numbers from 1 to 100 replacing each number\n",
    "#which is divisible by 3 as “Multiple of 3”\n",
    "#which is divisible by 5 as “Multiple of 5”\n",
    "#which is divisible by 3 and 5 as “Multiple of 15”\n",
    "\n",
    "list1=[i for i in range(1,100)]\n",
    "for i in range(1,100):\n",
    "    if i%15 == 0:\n",
    "        list1[i-1]=\"Multiple of 15\"\n",
    "    elif i%5 == 0:\n",
    "        list1[i-1]=\"Multiple of 5\"\n",
    "    elif i%3 == 0:\n",
    "        list1[i-1]=\"Multiple of 3\"\n",
    "    else:\n",
    "        list1[i-1]=list1[i-1]\n",
    "print(list1)"
   ]
  },
  {
   "cell_type": "code",
   "execution_count": null,
   "id": "5bdfc027",
   "metadata": {},
   "outputs": [],
   "source": []
  }
 ],
 "metadata": {
  "kernelspec": {
   "display_name": "Python 3 (ipykernel)",
   "language": "python",
   "name": "python3"
  },
  "language_info": {
   "codemirror_mode": {
    "name": "ipython",
    "version": 3
   },
   "file_extension": ".py",
   "mimetype": "text/x-python",
   "name": "python",
   "nbconvert_exporter": "python",
   "pygments_lexer": "ipython3",
   "version": "3.9.13"
  }
 },
 "nbformat": 4,
 "nbformat_minor": 5
}
