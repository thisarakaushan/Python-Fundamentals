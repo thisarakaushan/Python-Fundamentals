{
 "cells": [
  {
   "cell_type": "code",
   "execution_count": 27,
   "id": "bd5c5d80",
   "metadata": {},
   "outputs": [
    {
     "name": "stdout",
     "output_type": "stream",
     "text": [
      "List[:] = [1, 'app', 3.1, 'class', 55]\n",
      "List[0:] = [1, 'app', 3.1, 'class', 55]\n",
      "List[1:] = ['app', 3.1, 'class', 55]\n",
      "List[2:] = [3.1, 'class', 55]\n",
      "List[3:] = ['class', 55]\n",
      "List[4:] = [55]\n",
      "List[:0] = []\n",
      "List[:1] = [1]\n",
      "List[:2] = [1, 'app']\n",
      "List[:3] = [1, 'app', 3.1]\n",
      "List[:4] = [1, 'app', 3.1, 'class']\n"
     ]
    }
   ],
   "source": [
    "#2. WAP to create a list of 5 elements of different types to demonstrate 10 slicing operations.\n",
    "list1=[1,\"app\",3.1,\"class\",55]\n",
    "print(f\"List[:] = {list1[:]}\")\n",
    "\n",
    "#for i in range(0,5):\n",
    "    #list1.append(i)list1.append(i)\n",
    "for i in range(0,5):\n",
    "    print(f\"List[{i}:] = {list1[i:]}\")\n",
    "for i in range(0,5):\n",
    "    print(f\"List[:{i}] = {list1[:i]}\")\n"
   ]
  },
  {
   "cell_type": "code",
   "execution_count": 26,
   "id": "245b106b",
   "metadata": {},
   "outputs": [
    {
     "name": "stdout",
     "output_type": "stream",
     "text": [
      "Enter the value of n :\n",
      "3\n",
      "Enter 3 values :\n",
      "1\n",
      "qpp\n",
      "1.1\n",
      "['1', 'qpp', '1.1']\n",
      "List[0:] = ['1', 'qpp', '1.1']\n",
      "List[1:] = ['qpp', '1.1']\n",
      "List[2:] = ['1.1']\n",
      "List[:0] = ['1', 'qpp', '1.1']\n",
      "List[:1] = ['1', 'qpp', '1.1']\n",
      "List[:2] = ['1', 'qpp', '1.1']\n"
     ]
    }
   ],
   "source": [
    "n=int(input(\"Enter the value of n :\\n\"))\n",
    "print(f\"Enter {n} values :\")\n",
    "list1=[]\n",
    "for i in range(0,n):\n",
    "    list1.append(input())\n",
    "print(list1)\n",
    "\n",
    "for i in range(0,n):\n",
    "    print(f\"List[{i}:] = {list1[i:]}\")\n",
    "for i in range(0,n):\n",
    "    print(f\"List[:{i}] = {list1[:]}\")"
   ]
  },
  {
   "cell_type": "code",
   "execution_count": null,
   "id": "2e91c146",
   "metadata": {},
   "outputs": [],
   "source": []
  }
 ],
 "metadata": {
  "kernelspec": {
   "display_name": "Python 3 (ipykernel)",
   "language": "python",
   "name": "python3"
  },
  "language_info": {
   "codemirror_mode": {
    "name": "ipython",
    "version": 3
   },
   "file_extension": ".py",
   "mimetype": "text/x-python",
   "name": "python",
   "nbconvert_exporter": "python",
   "pygments_lexer": "ipython3",
   "version": "3.9.13"
  }
 },
 "nbformat": 4,
 "nbformat_minor": 5
}
