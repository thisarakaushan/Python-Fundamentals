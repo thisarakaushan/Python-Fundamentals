{
 "cells": [
  {
   "cell_type": "code",
   "execution_count": 3,
   "id": "28bb0f3f",
   "metadata": {},
   "outputs": [
    {
     "name": "stdout",
     "output_type": "stream",
     "text": [
      "The Dictionary : \n",
      "{'k1': 'value1', 'k2': {'k2a': 'apple', 'k2b': 123, 'k2c': [1, 2, 3]}, 'k3': [4, 'orange', 5]}\n"
     ]
    }
   ],
   "source": [
    "#q2. Create a dictionary as follows:\n",
    "#d1 = {‘k1‘: ‘value1’, ‘k2’ : {‘k2a’ : ‘apple’, ‘k2b’ : 123, ‘k2c’ : [1,2,3]}, ‘k3’ : [4, ‘orange’, 5]}\n",
    "\n",
    "d1={}\n",
    "d1['k1']='value1'\n",
    "d1['k2']={}\n",
    "d1['k2']['k2a']='apple'\n",
    "d1['k2']['k2b']=123\n",
    "d1['k2']['k2c']=[1,2,3]\n",
    "d1['k3']=[4,'orange',5]\n",
    "print(f\"The Dictionary : \\n{d1}\")"
   ]
  },
  {
   "cell_type": "code",
   "execution_count": 4,
   "id": "1a5b0f36",
   "metadata": {},
   "outputs": [
    {
     "name": "stdout",
     "output_type": "stream",
     "text": [
      "The 2nd element from the value of key ‘k2c’ :  2\n"
     ]
    }
   ],
   "source": [
    "#Perform the following operations on the above dictionary.\n",
    "#(i) Print the 2nd element from the value of key ‘k2c’\n",
    "\n",
    "n = d1['k2']['k2c'][1]\n",
    "print(\"The 2nd element from the value of key ‘k2c’ : \",n)\n"
   ]
  },
  {
   "cell_type": "code",
   "execution_count": 5,
   "id": "87ebac9e",
   "metadata": {},
   "outputs": [
    {
     "name": "stdout",
     "output_type": "stream",
     "text": [
      "The 4th element from the value of k3’s 2nd element :  g\n"
     ]
    }
   ],
   "source": [
    "#(ii) Print the 4th element from the value of k3’s 2nd element\n",
    "\n",
    "n = d1['k3'][1][4]\n",
    "print(\"The 4th element from the value of k3’s 2nd element : \",n)"
   ]
  },
  {
   "cell_type": "code",
   "execution_count": 6,
   "id": "b1dc2b1f",
   "metadata": {},
   "outputs": [
    {
     "name": "stdout",
     "output_type": "stream",
     "text": [
      "Printed letter is : \n"
     ]
    },
    {
     "data": {
      "text/plain": [
       "'l'"
      ]
     },
     "execution_count": 6,
     "metadata": {},
     "output_type": "execute_result"
    }
   ],
   "source": [
    "#(iii) Print the letter ‘l’ from ‘apple’\n",
    "\n",
    "print(\"Printed letter is : \")\n",
    "d1['k2']['k2a'][3]"
   ]
  },
  {
   "cell_type": "code",
   "execution_count": null,
   "id": "7bc78ac7",
   "metadata": {},
   "outputs": [],
   "source": []
  }
 ],
 "metadata": {
  "kernelspec": {
   "display_name": "Python 3 (ipykernel)",
   "language": "python",
   "name": "python3"
  },
  "language_info": {
   "codemirror_mode": {
    "name": "ipython",
    "version": 3
   },
   "file_extension": ".py",
   "mimetype": "text/x-python",
   "name": "python",
   "nbconvert_exporter": "python",
   "pygments_lexer": "ipython3",
   "version": "3.9.13"
  }
 },
 "nbformat": 4,
 "nbformat_minor": 5
}
