{
 "cells": [
  {
   "cell_type": "code",
   "execution_count": 2,
   "id": "75ab7803",
   "metadata": {},
   "outputs": [
    {
     "name": "stdout",
     "output_type": "stream",
     "text": [
      "Enter the value of n :\n",
      "5\n",
      "Enter 5 values :\n",
      "1\n",
      "apple\n",
      "3.1\n",
      "class\n",
      "55\n",
      "['1', 'apple', '3.1', 'class', '55']\n",
      "Before the pop : ['1', 'apple', '3.1', 'class', '55']\n",
      "Default pop operation : 55\n",
      "After default pop the list : ['1', 'apple', '3.1', 'class']\n",
      "Enter the index to pop (index number < 4)\n",
      "3\n",
      "pop(3) : class\n",
      "After pop the list : ['1', 'apple', '3.1']\n"
     ]
    }
   ],
   "source": [
    "#7. WAP to create a list of elements and perform pop operation using default pop() and pop() with a given \n",
    "#index taken from user.\n",
    "n=int(input(\"Enter the value of n :\\n\"))\n",
    "print(f\"Enter {n} values :\")\n",
    "list1=[]\n",
    "for i in range(0,n):\n",
    "    list1.append(input())\n",
    "print(list1)\n",
    "print(f\"Before the pop : {list1}\")\n",
    "print(f\"Default pop operation : {list1.pop()}\")\n",
    "print(f\"After default pop the list : {list1}\")\n",
    "print(f\"Enter the index to pop (index number < {len(list1)})\")\n",
    "index =int(input())\n",
    "print(f\"pop({index}) : {list1.pop(index)}\")\n",
    "print(f\"After pop the list : {list1}\")"
   ]
  },
  {
   "cell_type": "code",
   "execution_count": null,
   "id": "1d988f06",
   "metadata": {},
   "outputs": [],
   "source": []
  }
 ],
 "metadata": {
  "kernelspec": {
   "display_name": "Python 3 (ipykernel)",
   "language": "python",
   "name": "python3"
  },
  "language_info": {
   "codemirror_mode": {
    "name": "ipython",
    "version": 3
   },
   "file_extension": ".py",
   "mimetype": "text/x-python",
   "name": "python",
   "nbconvert_exporter": "python",
   "pygments_lexer": "ipython3",
   "version": "3.9.13"
  }
 },
 "nbformat": 4,
 "nbformat_minor": 5
}
