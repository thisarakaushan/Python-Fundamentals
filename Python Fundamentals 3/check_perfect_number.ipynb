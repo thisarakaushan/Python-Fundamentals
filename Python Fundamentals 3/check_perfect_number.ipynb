{
 "cells": [
  {
   "cell_type": "code",
   "execution_count": 6,
   "id": "a38c580e",
   "metadata": {},
   "outputs": [
    {
     "name": "stdout",
     "output_type": "stream",
     "text": [
      "Enter the elements for list : 3\n",
      "4\n",
      "5\n",
      "6\n",
      "The list is : [4, 5, 6]\n",
      "4 is not a perfect number.\n",
      "5 is not a perfect number.\n",
      "6 is a perfect number.\n"
     ]
    }
   ],
   "source": [
    "#WAP to enter numbers into a list and print for each number whether it is a perfect number or not.\n",
    "\n",
    "list1=[]\n",
    "n=int(input(\"Enter the elements for list : \"))\n",
    "for i in range(0,n):\n",
    "    n1 = int(input())\n",
    "    list1.append(n1)\n",
    "    \n",
    "print(f\"The list is : {list1}\")\n",
    "\n",
    "for i in range(0,n): \n",
    "    sum=0 \n",
    "    for j in range(1,list1[i]): \n",
    "        if list1[i]%j == 0: \n",
    "            sum=sum+j \n",
    "    if list1[i]==sum:\n",
    "        print(f\"{sum} is a perfect number.\")\n",
    "    else:\n",
    "        print(f\"{list1[i]} is not a perfect number.\")"
   ]
  },
  {
   "cell_type": "markdown",
   "id": "10786a70",
   "metadata": {},
   "source": []
  }
 ],
 "metadata": {
  "kernelspec": {
   "display_name": "Python 3 (ipykernel)",
   "language": "python",
   "name": "python3"
  },
  "language_info": {
   "codemirror_mode": {
    "name": "ipython",
    "version": 3
   },
   "file_extension": ".py",
   "mimetype": "text/x-python",
   "name": "python",
   "nbconvert_exporter": "python",
   "pygments_lexer": "ipython3",
   "version": "3.9.13"
  }
 },
 "nbformat": 4,
 "nbformat_minor": 5
}
