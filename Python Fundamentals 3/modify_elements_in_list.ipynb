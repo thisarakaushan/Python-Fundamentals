{
 "cells": [
  {
   "cell_type": "code",
   "execution_count": 2,
   "id": "c6ccd114",
   "metadata": {},
   "outputs": [
    {
     "name": "stdout",
     "output_type": "stream",
     "text": [
      "Enter the value of n :\n",
      "5\n",
      "Enter 5 values :\n",
      "1\n",
      "apple\n",
      "3.1\n",
      "55\n",
      "orange\n",
      "Before modify the list : ['1', 'apple', '3.1', '55', 'orange']\n",
      "After modified the list : ['1', 'mod1', '3.1', '55', 'mod2']\n"
     ]
    }
   ],
   "source": [
    "#5. WAP to create a list of 5 elements and modify any 2 elements in the list. \n",
    "n=int(input(\"Enter the value of n :\\n\"))\n",
    "print(f\"Enter {n} values :\")\n",
    "list1=[]\n",
    "for i in range(0,n):\n",
    "    list1.append(input())\n",
    "\n",
    "print(f\"Before modify the list : {list1}\")\n",
    "list1[1]=\"mod1\"\n",
    "list1[4]=\"mod2\"\n",
    "print(f\"After modified the list : {list1}\")"
   ]
  },
  {
   "cell_type": "code",
   "execution_count": null,
   "id": "c5a99694",
   "metadata": {},
   "outputs": [],
   "source": [
    "\n"
   ]
  },
  {
   "cell_type": "code",
   "execution_count": null,
   "id": "5e0310a1",
   "metadata": {},
   "outputs": [],
   "source": []
  }
 ],
 "metadata": {
  "kernelspec": {
   "display_name": "Python 3 (ipykernel)",
   "language": "python",
   "name": "python3"
  },
  "language_info": {
   "codemirror_mode": {
    "name": "ipython",
    "version": 3
   },
   "file_extension": ".py",
   "mimetype": "text/x-python",
   "name": "python",
   "nbconvert_exporter": "python",
   "pygments_lexer": "ipython3",
   "version": "3.9.13"
  }
 },
 "nbformat": 4,
 "nbformat_minor": 5
}
