{
 "cells": [
  {
   "cell_type": "code",
   "execution_count": 23,
   "id": "d136c7b8",
   "metadata": {},
   "outputs": [],
   "source": [
    "list1=[1.1,5,\"apple\",'d',[1,2],'dog',[5,6,7]]\n"
   ]
  },
  {
   "cell_type": "code",
   "execution_count": 22,
   "id": "5fadec80",
   "metadata": {},
   "outputs": [],
   "source": [
    "list1.reverse()"
   ]
  },
  {
   "cell_type": "code",
   "execution_count": 12,
   "id": "92588aa2",
   "metadata": {},
   "outputs": [
    {
     "data": {
      "text/plain": [
       "[1.1, 5, 'apple', 'd', [1, 2], 'dog', [5, 6, 7]]"
      ]
     },
     "execution_count": 12,
     "metadata": {},
     "output_type": "execute_result"
    }
   ],
   "source": [
    "list1"
   ]
  },
  {
   "cell_type": "code",
   "execution_count": 13,
   "id": "127c4e14",
   "metadata": {},
   "outputs": [
    {
     "data": {
      "text/plain": [
       "6"
      ]
     },
     "execution_count": 13,
     "metadata": {},
     "output_type": "execute_result"
    }
   ],
   "source": [
    "list1[-1][1]\n"
   ]
  },
  {
   "cell_type": "code",
   "execution_count": 77,
   "id": "f6302ba0",
   "metadata": {},
   "outputs": [
    {
     "name": "stdout",
     "output_type": "stream",
     "text": [
      "[1.1, 5, 35.1, 4.5, 23, 0, 7]\n"
     ]
    }
   ],
   "source": [
    "list2=[1.1,5,35.1,4.5,23,0,7]\n",
    "print(list2)"
   ]
  },
  {
   "cell_type": "code",
   "execution_count": 74,
   "id": "948c1432",
   "metadata": {},
   "outputs": [
    {
     "name": "stdout",
     "output_type": "stream",
     "text": [
      "[0, 1.1, 4.5, 5, 7, 23, 35.1]\n"
     ]
    }
   ],
   "source": [
    "list2.sort()\n",
    "print(list2)"
   ]
  },
  {
   "cell_type": "code",
   "execution_count": 49,
   "id": "d460e8f0",
   "metadata": {},
   "outputs": [
    {
     "name": "stdout",
     "output_type": "stream",
     "text": [
      "[0, 1.1, 4.5, 23, 35.1]\n",
      "7\n"
     ]
    }
   ],
   "source": [
    "list2.pop(3)\n",
    "\n",
    "dele = list2.pop(3)\n",
    "print(list2)\n",
    "print(dele)"
   ]
  },
  {
   "cell_type": "code",
   "execution_count": 35,
   "id": "b1b6adad",
   "metadata": {},
   "outputs": [
    {
     "name": "stdout",
     "output_type": "stream",
     "text": [
      "23\n"
     ]
    }
   ],
   "source": [
    "print(dele)"
   ]
  },
  {
   "cell_type": "code",
   "execution_count": 78,
   "id": "fd996968",
   "metadata": {},
   "outputs": [
    {
     "name": "stdout",
     "output_type": "stream",
     "text": [
      "[1.1, 5, 35.1, 4.5, 23, 0, 7, 'orange']\n"
     ]
    }
   ],
   "source": [
    "print(list2+[\"orange\"])\n",
    "list2=list2+[\"orange\"]"
   ]
  },
  {
   "cell_type": "code",
   "execution_count": 79,
   "id": "d2c36e59",
   "metadata": {},
   "outputs": [
    {
     "name": "stdout",
     "output_type": "stream",
     "text": [
      "[1.1, 5, 35.1, 4.5, 23, 0, 7, 'orange', 'apple']\n"
     ]
    }
   ],
   "source": [
    "list2.append(\"apple\")\n",
    "print(list2)"
   ]
  },
  {
   "cell_type": "code",
   "execution_count": null,
   "id": "d63d0ce0",
   "metadata": {},
   "outputs": [],
   "source": []
  }
 ],
 "metadata": {
  "kernelspec": {
   "display_name": "Python 3 (ipykernel)",
   "language": "python",
   "name": "python3"
  },
  "language_info": {
   "codemirror_mode": {
    "name": "ipython",
    "version": 3
   },
   "file_extension": ".py",
   "mimetype": "text/x-python",
   "name": "python",
   "nbconvert_exporter": "python",
   "pygments_lexer": "ipython3",
   "version": "3.9.13"
  }
 },
 "nbformat": 4,
 "nbformat_minor": 5
}
