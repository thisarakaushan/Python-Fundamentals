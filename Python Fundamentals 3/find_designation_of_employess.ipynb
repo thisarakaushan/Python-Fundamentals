{
 "cells": [
  {
   "cell_type": "code",
   "execution_count": 1,
   "id": "8cc5ff21",
   "metadata": {},
   "outputs": [
    {
     "name": "stdout",
     "output_type": "stream",
     "text": [
      "Enter the salary of the employee : 250000\n",
      "Designation = Manager\n"
     ]
    }
   ],
   "source": [
    "#WAP to find the designation of an employess based on below data:\n",
    "#a) If salary > 500000, designation = Sr. Manager\n",
    "#b) If salary between 200000 to 400000 = Manager\n",
    "#c) If salary between 50000 to 150000 = Employee\n",
    "#d) If salary < 50000 = Clerk\n",
    "\n",
    "salary=int(input(\"Enter the salary of the employee : \"))\n",
    "if salary > 500000: \n",
    "    print(\"Designation = Sr. Manager\")\n",
    "elif salary in range(200000,400001):\n",
    "    print(\"Designation = Manager\")\n",
    "elif salary in range(50000,150001):\n",
    "    print(\"Designation = Employee\")\n",
    "elif salary < 50000:\n",
    "    print(\"Designation = Clerk\")\n",
    "else:\n",
    "    print(\"No info\")"
   ]
  },
  {
   "cell_type": "code",
   "execution_count": null,
   "id": "e31f4d89",
   "metadata": {},
   "outputs": [],
   "source": []
  },
  {
   "cell_type": "code",
   "execution_count": null,
   "id": "5ee964c3",
   "metadata": {},
   "outputs": [],
   "source": []
  }
 ],
 "metadata": {
  "kernelspec": {
   "display_name": "Python 3 (ipykernel)",
   "language": "python",
   "name": "python3"
  },
  "language_info": {
   "codemirror_mode": {
    "name": "ipython",
    "version": 3
   },
   "file_extension": ".py",
   "mimetype": "text/x-python",
   "name": "python",
   "nbconvert_exporter": "python",
   "pygments_lexer": "ipython3",
   "version": "3.9.13"
  }
 },
 "nbformat": 4,
 "nbformat_minor": 5
}
