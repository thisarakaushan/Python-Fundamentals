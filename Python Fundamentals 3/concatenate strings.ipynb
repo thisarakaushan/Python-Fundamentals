{
 "cells": [
  {
   "cell_type": "code",
   "execution_count": 10,
   "id": "8a26cea2",
   "metadata": {},
   "outputs": [
    {
     "name": "stdout",
     "output_type": "stream",
     "text": [
      "what is your name ? : I am Thisara.\n",
      "What is your year and course ?I am 3rd year B.Tech student.\n"
     ]
    }
   ],
   "source": [
    "#WAP to accept a strings\n",
    "\n",
    "str1 = input(\"what is your name ? : \")\n",
    "str2 = input(\"What is your year and course ?\")"
   ]
  },
  {
   "cell_type": "code",
   "execution_count": 2,
   "id": "d7d57e40",
   "metadata": {},
   "outputs": [
    {
     "name": "stdout",
     "output_type": "stream",
     "text": [
      "I am Thisara. I am 3rd year B.Tech student.\n"
     ]
    }
   ],
   "source": [
    "print(str1+\" \"+str2)"
   ]
  },
  {
   "cell_type": "code",
   "execution_count": 7,
   "id": "b3f23771",
   "metadata": {},
   "outputs": [
    {
     "name": "stdout",
     "output_type": "stream",
     "text": [
      "I am Thisara I am 3rd year B.Tech student\n"
     ]
    }
   ],
   "source": [
    "str1=str1+\" \"+str2\n",
    "print(str1)"
   ]
  },
  {
   "cell_type": "code",
   "execution_count": 11,
   "id": "e3f7d8aa",
   "metadata": {},
   "outputs": [
    {
     "name": "stdout",
     "output_type": "stream",
     "text": [
      "I am Thisara. I am 3rd year B.Tech student.\n"
     ]
    }
   ],
   "source": [
    "print(\"%s %s\"%(str1,str2))"
   ]
  },
  {
   "cell_type": "code",
   "execution_count": 13,
   "id": "2b9f31af",
   "metadata": {},
   "outputs": [
    {
     "name": "stdout",
     "output_type": "stream",
     "text": [
      "I am Thisara. I am 3rd year B.Tech student.\n"
     ]
    }
   ],
   "source": [
    "print(\"{} {}\".format(str1,str2))"
   ]
  },
  {
   "cell_type": "code",
   "execution_count": 14,
   "id": "2b954314",
   "metadata": {},
   "outputs": [
    {
     "name": "stdout",
     "output_type": "stream",
     "text": [
      "I am Thisara. I am 3rd year B.Tech student.\n"
     ]
    }
   ],
   "source": [
    "str1=str1+\" \"+str2\n",
    "print(f\"{str1}\")"
   ]
  },
  {
   "cell_type": "code",
   "execution_count": null,
   "id": "e4e13137",
   "metadata": {},
   "outputs": [],
   "source": []
  }
 ],
 "metadata": {
  "kernelspec": {
   "display_name": "Python 3 (ipykernel)",
   "language": "python",
   "name": "python3"
  },
  "language_info": {
   "codemirror_mode": {
    "name": "ipython",
    "version": 3
   },
   "file_extension": ".py",
   "mimetype": "text/x-python",
   "name": "python",
   "nbconvert_exporter": "python",
   "pygments_lexer": "ipython3",
   "version": "3.9.13"
  }
 },
 "nbformat": 4,
 "nbformat_minor": 5
}
