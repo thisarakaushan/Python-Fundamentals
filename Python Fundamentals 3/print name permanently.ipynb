{
 "cells": [
  {
   "cell_type": "code",
   "execution_count": 4,
   "id": "6672be69",
   "metadata": {},
   "outputs": [
    {
     "name": "stdout",
     "output_type": "stream",
     "text": [
      "List before : [0, 1, 2, 3, 4]\n",
      "List after : [0, 1, 2, 3, 4, 'Thisara']\n"
     ]
    }
   ],
   "source": [
    "#4. WAP to create a list of 5 elements and add your name to the list permanently and print it.\n",
    "list1=[]\n",
    "for i in range(0,5):\n",
    "    list1.append(i)\n",
    "print(f\"List before : {list1}\")\n",
    "list1.append('Thisara')\n",
    "print(f\"List after : {list1}\") "
   ]
  },
  {
   "cell_type": "code",
   "execution_count": null,
   "id": "4b00f768",
   "metadata": {},
   "outputs": [],
   "source": []
  }
 ],
 "metadata": {
  "kernelspec": {
   "display_name": "Python 3 (ipykernel)",
   "language": "python",
   "name": "python3"
  },
  "language_info": {
   "codemirror_mode": {
    "name": "ipython",
    "version": 3
   },
   "file_extension": ".py",
   "mimetype": "text/x-python",
   "name": "python",
   "nbconvert_exporter": "python",
   "pygments_lexer": "ipython3",
   "version": "3.9.13"
  }
 },
 "nbformat": 4,
 "nbformat_minor": 5
}
