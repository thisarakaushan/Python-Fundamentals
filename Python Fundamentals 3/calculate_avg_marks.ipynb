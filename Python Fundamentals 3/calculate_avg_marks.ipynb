{
 "cells": [
  {
   "cell_type": "code",
   "execution_count": 2,
   "id": "fc1fd380",
   "metadata": {},
   "outputs": [
    {
     "name": "stdout",
     "output_type": "stream",
     "text": [
      "[[99, 5, 25, 65, 49], [85, 22, 42, 70, 60], [41, 94, 77, 44, 72], [35, 62, 2, 49, 70], [84, 78, 65, 64, 70]]\n",
      "Total of student 1 = 243\n",
      "Average of student 1 = 48.6\n",
      "Total of student 2 = 279\n",
      "Average of student 2 = 55.8\n",
      "Total of student 3 = 328\n",
      "Average of student 3 = 65.6\n",
      "Total of student 4 = 218\n",
      "Average of student 4 = 43.6\n",
      "Total of student 5 = 361\n",
      "Average of student 5 = 72.2\n"
     ]
    }
   ],
   "source": [
    "#WAP to enter marks of 5 students in 5 subjects and calculate the average marks and grades using\n",
    "#for loop. The marks in 5 subjects should be stored in a list.\n",
    "\n",
    "from random import randint\n",
    "list1=[]\n",
    "for i in range(0,5):\n",
    "    list2=[]\n",
    "    for j in range(0,5):\n",
    "        list2.append(int(randint(0,100)))\n",
    "    list1.append(list2)\n",
    "print(list1)\n",
    "for i in range(0,5):\n",
    "    sum=0\n",
    "    for j in range(0,5):\n",
    "        sum=sum+list1[i][j]\n",
    "    print(f\"Total of student {i+1} = {sum}\")\n",
    "    print(f\"Average of student {i+1} = {sum/5}\")"
   ]
  },
  {
   "cell_type": "code",
   "execution_count": 18,
   "id": "fe6b4c66",
   "metadata": {},
   "outputs": [
    {
     "name": "stdout",
     "output_type": "stream",
     "text": [
      "[[62, 23, 31, 57, 49], [91, 5, 5, 4, 99], [84, 20, 6, 56, 15], [50, 18, 57, 2, 89], [41, 16, 74, 62, 98]]\n",
      "Total of student 1 = 222\n",
      "Average of student 1 = 44.4\n",
      "D Grade\n",
      "\n",
      "Total of student 2 = 204\n",
      "Average of student 2 = 40.8\n",
      "D Grade\n",
      "\n",
      "Total of student 3 = 181\n",
      "Average of student 3 = 36.2\n",
      "F Grade\n",
      "\n",
      "Total of student 4 = 216\n",
      "Average of student 4 = 43.2\n",
      "D Grade\n",
      "\n",
      "Total of student 5 = 291\n",
      "Average of student 5 = 58.2\n",
      "C Grade\n",
      "\n"
     ]
    }
   ],
   "source": [
    "from random import randint\n",
    "list1=[]\n",
    "for i in range(0,5):\n",
    "    list2=[]\n",
    "    for j in range(0,5):\n",
    "        list2.append(int(randint(0,100)))\n",
    "    list1.append(list2)\n",
    "print(list1)\n",
    "for i in range(0,5):\n",
    "    sum=0\n",
    "    for j in range(0,5):\n",
    "        sum=sum+list1[i][j]\n",
    "    print(f\"Total of student {i+1} = {sum}\")\n",
    "    print(f\"Average of student {i+1} = {sum/5}\")\n",
    "    if (sum/5)>=90 and  (sum/5)<=100:\n",
    "        print(\"O Grade\\n\")\n",
    "    elif (sum/5)>=80 and  (sum/5)<=89:\n",
    "        print(\"E Grade\\n\")\n",
    "    elif (sum/5)>=70 and  (sum/5)<=79:\n",
    "        print(\"A Grade\\n\")\n",
    "    elif (sum/5)>=60 and  (sum/5)<=69:\n",
    "        print(\"B Grade\\n\")\n",
    "    elif (sum/5)>=50 and  (sum/5)<=59:\n",
    "        print(\"C Grade\\n\")\n",
    "    elif (sum/5)>=40 and  (sum/5)<=49:\n",
    "        print(\"D Grade\\n\")\n",
    "    elif (sum/5)<40:\n",
    "        print(\"F Grade\\n\")"
   ]
  },
  {
   "cell_type": "code",
   "execution_count": null,
   "id": "e6755e54",
   "metadata": {},
   "outputs": [],
   "source": []
  },
  {
   "cell_type": "code",
   "execution_count": null,
   "id": "80f0b7e5",
   "metadata": {},
   "outputs": [],
   "source": []
  }
 ],
 "metadata": {
  "kernelspec": {
   "display_name": "Python 3 (ipykernel)",
   "language": "python",
   "name": "python3"
  },
  "language_info": {
   "codemirror_mode": {
    "name": "ipython",
    "version": 3
   },
   "file_extension": ".py",
   "mimetype": "text/x-python",
   "name": "python",
   "nbconvert_exporter": "python",
   "pygments_lexer": "ipython3",
   "version": "3.9.13"
  }
 },
 "nbformat": 4,
 "nbformat_minor": 5
}
