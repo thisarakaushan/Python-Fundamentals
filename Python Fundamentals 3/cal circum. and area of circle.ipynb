{
 "cells": [
  {
   "cell_type": "code",
   "execution_count": 1,
   "id": "b6b02a82",
   "metadata": {},
   "outputs": [
    {
     "name": "stdout",
     "output_type": "stream",
     "text": [
      "Enter the radius : 7\n",
      "Circumstance = 43.96\n",
      "Area = 153.86 \n"
     ]
    }
   ],
   "source": [
    "#write a python program to accept the radius of a circle and calculate circumstance and area.\n",
    "\n",
    "r = int(input(\"Enter the radius : \"))\n",
    "pi = 3.14\n",
    "c = 2*pi*r\n",
    "a = pi*r*r\n",
    "print(f\"Circumstance = {c}\\nArea = {a} \")"
   ]
  },
  {
   "cell_type": "code",
   "execution_count": null,
   "id": "6ab37321",
   "metadata": {},
   "outputs": [],
   "source": []
  }
 ],
 "metadata": {
  "kernelspec": {
   "display_name": "Python 3 (ipykernel)",
   "language": "python",
   "name": "python3"
  },
  "language_info": {
   "codemirror_mode": {
    "name": "ipython",
    "version": 3
   },
   "file_extension": ".py",
   "mimetype": "text/x-python",
   "name": "python",
   "nbconvert_exporter": "python",
   "pygments_lexer": "ipython3",
   "version": "3.9.13"
  }
 },
 "nbformat": 4,
 "nbformat_minor": 5
}
