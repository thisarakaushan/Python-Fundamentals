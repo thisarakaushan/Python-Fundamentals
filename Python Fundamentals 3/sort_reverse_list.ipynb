{
 "cells": [
  {
   "cell_type": "code",
   "execution_count": 4,
   "id": "b02614d4",
   "metadata": {},
   "outputs": [
    {
     "name": "stdout",
     "output_type": "stream",
     "text": [
      "List before : [10, 9, 8, 7, 6, 5, 4, 3, 2]\n",
      "List after sorting: [2, 3, 4, 5, 6, 7, 8, 9, 10]\n",
      "List after reversing: [10, 9, 8, 7, 6, 5, 4, 3, 2]\n"
     ]
    }
   ],
   "source": [
    "#6. WAP to create a list of elements and perform sort and reverse on it.\n",
    "list1=[]\n",
    "for i in range(10,1,-1):\n",
    "    list1.append(i)\n",
    "print(f\"List before : {list1}\")\n",
    "list1.sort()\n",
    "print(f\"List after sorting: {list1}\")\n",
    "list1.reverse()\n",
    "print(f\"List after reversing: {list1}\")"
   ]
  },
  {
   "cell_type": "code",
   "execution_count": null,
   "id": "e286387d",
   "metadata": {},
   "outputs": [],
   "source": []
  }
 ],
 "metadata": {
  "kernelspec": {
   "display_name": "Python 3 (ipykernel)",
   "language": "python",
   "name": "python3"
  },
  "language_info": {
   "codemirror_mode": {
    "name": "ipython",
    "version": 3
   },
   "file_extension": ".py",
   "mimetype": "text/x-python",
   "name": "python",
   "nbconvert_exporter": "python",
   "pygments_lexer": "ipython3",
   "version": "3.9.13"
  }
 },
 "nbformat": 4,
 "nbformat_minor": 5
}
