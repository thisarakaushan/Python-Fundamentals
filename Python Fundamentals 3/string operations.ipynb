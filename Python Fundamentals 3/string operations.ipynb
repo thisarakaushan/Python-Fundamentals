{
 "cells": [
  {
   "cell_type": "code",
   "execution_count": 8,
   "id": "e9bd07c1",
   "metadata": {},
   "outputs": [
    {
     "name": "stdout",
     "output_type": "stream",
     "text": [
      "What is your name?\n",
      "My name is Thisara\n"
     ]
    }
   ],
   "source": [
    "#WAP to accept a string and perform following operations.\n",
    "\n",
    "str1 = input(\"What is your name?\\n\")\n"
   ]
  },
  {
   "cell_type": "code",
   "execution_count": 9,
   "id": "5ad5aa51",
   "metadata": {},
   "outputs": [
    {
     "name": "stdout",
     "output_type": "stream",
     "text": [
      "18\n"
     ]
    }
   ],
   "source": [
    "#count the number of characters in str1\n",
    "\n",
    "print(len(str1))"
   ]
  },
  {
   "cell_type": "code",
   "execution_count": 13,
   "id": "7b1ff425",
   "metadata": {},
   "outputs": [
    {
     "name": "stdout",
     "output_type": "stream",
     "text": [
      "MY NAME IS THISARA\n"
     ]
    }
   ],
   "source": [
    "#convert str1 to uppercase\n",
    "\n",
    "print(str1.upper())"
   ]
  },
  {
   "cell_type": "markdown",
   "id": "eeb90821",
   "metadata": {},
   "source": []
  },
  {
   "cell_type": "code",
   "execution_count": 14,
   "id": "9edb7c21",
   "metadata": {},
   "outputs": [
    {
     "name": "stdout",
     "output_type": "stream",
     "text": [
      "my name is thisara\n"
     ]
    }
   ],
   "source": [
    "#convert str1 to lowercase\n",
    "\n",
    "print(str1.lower())\n"
   ]
  },
  {
   "cell_type": "code",
   "execution_count": 19,
   "id": "5459e908",
   "metadata": {},
   "outputs": [
    {
     "name": "stdout",
     "output_type": "stream",
     "text": [
      "['My', 'name', 'is', 'Thisara']\n"
     ]
    }
   ],
   "source": [
    "#perform split operation on str1\n",
    "\n",
    "print(str1.split())"
   ]
  },
  {
   "cell_type": "code",
   "execution_count": 21,
   "id": "0396f516",
   "metadata": {},
   "outputs": [
    {
     "name": "stdout",
     "output_type": "stream",
     "text": [
      "['My n', 'me is This', 'r', '']\n"
     ]
    }
   ],
   "source": [
    "#perform split operation on str1 using 'a'\n",
    "\n",
    "print(str1.split('a'))\n"
   ]
  },
  {
   "cell_type": "code",
   "execution_count": 29,
   "id": "58cd8cbf",
   "metadata": {},
   "outputs": [
    {
     "name": "stdout",
     "output_type": "stream",
     "text": [
      "My name is Thisara\n",
      "a\n",
      "M\n",
      "My name is Thisara\n",
      "My name is Thisar\n",
      "My name is Thisar\n",
      "name is This\n"
     ]
    }
   ],
   "source": [
    "#perform 5 types of slicing on str1 without step size parameter.\n",
    "\n",
    "\n",
    "print(str[:])\n",
    "\n",
    "print(str[-1])\n",
    "\n",
    "print(str1[0:1])\n",
    "\n",
    "print(str1[0:])\n",
    "\n",
    "print(str1[:len(str1)-1])\n",
    "\n",
    "print(str1[0:-1])\n",
    "\n",
    "print(str1[3:15])\n",
    "\n",
    "\n"
   ]
  },
  {
   "cell_type": "markdown",
   "id": "e99c7d9c",
   "metadata": {},
   "source": []
  },
  {
   "cell_type": "code",
   "execution_count": 34,
   "id": "b3d72a59",
   "metadata": {},
   "outputs": [
    {
     "name": "stdout",
     "output_type": "stream",
     "text": [
      "My name is Thisara\n",
      "M aei hsr\n",
      "M\n",
      "My name is Thisara\n",
      "M aei hsr\n",
      "Mnesha\n",
      "name is This\n"
     ]
    }
   ],
   "source": [
    "#perform 5 types of slicing on str1 with different step size parameter.\n",
    "\n",
    "\n",
    "print(str[: :])\n",
    "\n",
    "print(str[:-1:2])\n",
    "\n",
    "print(str1[0:1 : ])\n",
    "\n",
    "print(str1[0: : 1])\n",
    "\n",
    "print(str1[:len(str1)-1:2])\n",
    "\n",
    "print(str1[0:-1: 3])\n",
    "\n",
    "print(str1[3:15 : 1])"
   ]
  },
  {
   "cell_type": "code",
   "execution_count": 38,
   "id": "0e0b664e",
   "metadata": {},
   "outputs": [
    {
     "name": "stdout",
     "output_type": "stream",
     "text": [
      "Reverse str1 =  arasihT si eman yM\n"
     ]
    }
   ],
   "source": [
    "#reverse str1 using slicing technique\n",
    "\n",
    "print(\"Reverse str1 = \",str1[: : -1])"
   ]
  },
  {
   "cell_type": "code",
   "execution_count": null,
   "id": "49364492",
   "metadata": {},
   "outputs": [],
   "source": []
  }
 ],
 "metadata": {
  "kernelspec": {
   "display_name": "Python 3 (ipykernel)",
   "language": "python",
   "name": "python3"
  },
  "language_info": {
   "codemirror_mode": {
    "name": "ipython",
    "version": 3
   },
   "file_extension": ".py",
   "mimetype": "text/x-python",
   "name": "python",
   "nbconvert_exporter": "python",
   "pygments_lexer": "ipython3",
   "version": "3.9.13"
  }
 },
 "nbformat": 4,
 "nbformat_minor": 5
}
