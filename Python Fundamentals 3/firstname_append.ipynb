{
 "cells": [
  {
   "cell_type": "code",
   "execution_count": 1,
   "id": "cf97abbd",
   "metadata": {},
   "outputs": [
    {
     "name": "stdout",
     "output_type": "stream",
     "text": [
      "List with name appended : [0, 1, 2, 3, 4, 'Thisara']\n",
      "After append the list : [0, 1, 2, 3, 4]\n"
     ]
    }
   ],
   "source": [
    "#3. WAP to create a list of 5 elements and print it with your first name appended to it without making any changes in the original list.\n",
    "list1=[]\n",
    "for i in range(0,5):\n",
    "    list1.append(i)\n",
    "print(f\"List with name appended : {list1 + ['Thisara']}\")\n",
    "print(f\"After append the list : {list1}\")"
   ]
  },
  {
   "cell_type": "code",
   "execution_count": null,
   "id": "3e1bd944",
   "metadata": {},
   "outputs": [],
   "source": []
  },
  {
   "cell_type": "code",
   "execution_count": null,
   "id": "609667bc",
   "metadata": {},
   "outputs": [],
   "source": []
  }
 ],
 "metadata": {
  "kernelspec": {
   "display_name": "Python 3 (ipykernel)",
   "language": "python",
   "name": "python3"
  },
  "language_info": {
   "codemirror_mode": {
    "name": "ipython",
    "version": 3
   },
   "file_extension": ".py",
   "mimetype": "text/x-python",
   "name": "python",
   "nbconvert_exporter": "python",
   "pygments_lexer": "ipython3",
   "version": "3.9.13"
  }
 },
 "nbformat": 4,
 "nbformat_minor": 5
}
