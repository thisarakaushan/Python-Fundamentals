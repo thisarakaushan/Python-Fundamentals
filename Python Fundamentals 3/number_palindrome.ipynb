{
 "cells": [
  {
   "cell_type": "code",
   "execution_count": 3,
   "id": "bad2d5d3",
   "metadata": {},
   "outputs": [
    {
     "name": "stdout",
     "output_type": "stream",
     "text": [
      "Enter the elements for list : 5\n",
      "131\n",
      "424\n",
      "1111\n",
      "678\n",
      "123\n",
      "The list is : [131, 424, 1111, 678, 123]\n",
      "131 is a palindrome number.\n",
      "424 is a palindrome number.\n",
      "1111 is a palindrome number.\n",
      "678 is not a palindrome number.\n",
      "123 is not a palindrome number.\n"
     ]
    }
   ],
   "source": [
    "#WAP to enter numbers into a list and print for each number whether it is a palindrome or not.\n",
    "\n",
    "list1=[]\n",
    "n=int(input(\"Enter the elements for list : \"))\n",
    "for i in range(0,n):\n",
    "    n1 = int(input())\n",
    "    list1.append(n1)\n",
    "    \n",
    "print(f\"The list is : {list1}\")\n",
    "\n",
    "for i in range(0,n):\n",
    "    n2=list1[i]\n",
    "    sum=0\n",
    "    while int(n2)>0:\n",
    "        d=n2%10\n",
    "        sum=sum*10+d;\n",
    "        n2=n2//10\n",
    "    if(sum==list1[i]):\n",
    "        print(f\"{list1[i]} is a palindrome number.\")\n",
    "    else:\n",
    "        print(f\"{list1[i]} is not a palindrome number.\")"
   ]
  },
  {
   "cell_type": "code",
   "execution_count": null,
   "id": "20eab891",
   "metadata": {},
   "outputs": [],
   "source": []
  },
  {
   "cell_type": "code",
   "execution_count": null,
   "id": "14c6da95",
   "metadata": {},
   "outputs": [],
   "source": []
  }
 ],
 "metadata": {
  "kernelspec": {
   "display_name": "Python 3 (ipykernel)",
   "language": "python",
   "name": "python3"
  },
  "language_info": {
   "codemirror_mode": {
    "name": "ipython",
    "version": 3
   },
   "file_extension": ".py",
   "mimetype": "text/x-python",
   "name": "python",
   "nbconvert_exporter": "python",
   "pygments_lexer": "ipython3",
   "version": "3.9.13"
  }
 },
 "nbformat": 4,
 "nbformat_minor": 5
}
