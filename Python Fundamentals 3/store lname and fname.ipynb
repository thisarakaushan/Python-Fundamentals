{
 "cells": [
  {
   "cell_type": "code",
   "execution_count": 1,
   "id": "165a06f4",
   "metadata": {},
   "outputs": [
    {
     "name": "stdout",
     "output_type": "stream",
     "text": [
      "My name is Thisara Kaushan\n",
      "Enter your first name : Thisara\n",
      "Enter your last name : Kaushan\n",
      "My name is Thisara Kaushan\n"
     ]
    }
   ],
   "source": [
    "#write a python program to store your first and last name in different variables and printed together.\n",
    "\n",
    "fname = \"Thisara\"\n",
    "lname = \"Kaushan\"\n",
    "print(\"My name is \"+fname + \" \" + lname)\n",
    "\n",
    "fname = input(\"Enter your first name : \")\n",
    "lname = input(\"Enter your last name : \")\n",
    "print(\"My name is \"+fname + \" \" + lname)"
   ]
  },
  {
   "cell_type": "code",
   "execution_count": null,
   "id": "ad445a4e",
   "metadata": {},
   "outputs": [],
   "source": []
  }
 ],
 "metadata": {
  "kernelspec": {
   "display_name": "Python 3 (ipykernel)",
   "language": "python",
   "name": "python3"
  },
  "language_info": {
   "codemirror_mode": {
    "name": "ipython",
    "version": 3
   },
   "file_extension": ".py",
   "mimetype": "text/x-python",
   "name": "python",
   "nbconvert_exporter": "python",
   "pygments_lexer": "ipython3",
   "version": "3.9.13"
  }
 },
 "nbformat": 4,
 "nbformat_minor": 5
}
