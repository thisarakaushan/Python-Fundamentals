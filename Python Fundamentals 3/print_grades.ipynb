{
 "cells": [
  {
   "cell_type": "code",
   "execution_count": 1,
   "id": "fc8a8ed7",
   "metadata": {},
   "outputs": [
    {
     "name": "stdout",
     "output_type": "stream",
     "text": [
      "Enter the marks: 66\n",
      "B grade\n"
     ]
    }
   ],
   "source": [
    "#11. WAP to print the grades of students based on following data:\n",
    "#Marks Grade\n",
    "#90-100 O\n",
    "#80-89 E\n",
    "#70-79 A\n",
    "#60-69 B\n",
    "#50-59 C\n",
    "#40-49 D\n",
    "#Less than 40 F\n",
    "\n",
    "mark=int(input(\"Enter the marks: \"))\n",
    "if mark<=100 and mark>=90:\n",
    "    print(\"O grade\")\n",
    "elif mark<=89 and mark>=80:\n",
    "    print(\"E grade\")\n",
    "elif mark<=79 and mark>=70:\n",
    "    print(\"A grade\")\n",
    "elif mark<=69 and mark>=60:\n",
    "    print(\"B grade\")\n",
    "elif mark<=59 and mark>=50:\n",
    "    print(\"C grade\")\n",
    "elif mark<=49 and mark>=40:\n",
    "    print(\"D grade\")\n",
    "elif mark<40:\n",
    "    print(\"F grade\")"
   ]
  },
  {
   "cell_type": "code",
   "execution_count": null,
   "id": "0629df45",
   "metadata": {},
   "outputs": [],
   "source": []
  }
 ],
 "metadata": {
  "kernelspec": {
   "display_name": "Python 3 (ipykernel)",
   "language": "python",
   "name": "python3"
  },
  "language_info": {
   "codemirror_mode": {
    "name": "ipython",
    "version": 3
   },
   "file_extension": ".py",
   "mimetype": "text/x-python",
   "name": "python",
   "nbconvert_exporter": "python",
   "pygments_lexer": "ipython3",
   "version": "3.9.13"
  }
 },
 "nbformat": 4,
 "nbformat_minor": 5
}
