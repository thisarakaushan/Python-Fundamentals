{
 "cells": [
  {
   "cell_type": "code",
   "execution_count": 2,
   "id": "56d64b3a",
   "metadata": {},
   "outputs": [
    {
     "name": "stdout",
     "output_type": "stream",
     "text": [
      "My name is Thisara Kaushan\n"
     ]
    }
   ],
   "source": [
    "#WAP to demonstrate string insertion into print statement using placeholder (% operator) with 5 print statements. \n",
    "\n",
    "#(i) Without using variables by passing the string directly \n",
    "\n",
    "print(\"My name is %s\"%'Thisara Kaushan')"
   ]
  },
  {
   "cell_type": "code",
   "execution_count": 4,
   "id": "aea58f72",
   "metadata": {},
   "outputs": [
    {
     "name": "stdout",
     "output_type": "stream",
     "text": [
      "My name is Thisara Kaushan\n"
     ]
    }
   ],
   "source": [
    "#(ii) Using a variable \n",
    "\n",
    "name = 'Thisara Kaushan'\n",
    "print(\"My name is %s\"%name)"
   ]
  },
  {
   "cell_type": "code",
   "execution_count": 6,
   "id": "b8d62119",
   "metadata": {},
   "outputs": [
    {
     "name": "stdout",
     "output_type": "stream",
     "text": [
      "my name is Thisara Kaushan\n"
     ]
    }
   ],
   "source": [
    "#(iii) Using multiple variables \n",
    "\n",
    "fname='Thisara'\n",
    "lname='Kaushan'\n",
    "print(\"my name is %s %s\"%(fname,lname))"
   ]
  },
  {
   "cell_type": "code",
   "execution_count": 7,
   "id": "cdbd49cf",
   "metadata": {},
   "outputs": [
    {
     "name": "stdout",
     "output_type": "stream",
     "text": [
      "My name is 'Thisara Kaushan'\n"
     ]
    }
   ],
   "source": [
    "#(iv) Printing the strings in their string representation. \n",
    "\n",
    "print(\"My name is %r\"%'Thisara Kaushan')"
   ]
  },
  {
   "cell_type": "code",
   "execution_count": 11,
   "id": "9f8f1abd",
   "metadata": {},
   "outputs": [
    {
     "name": "stdout",
     "output_type": "stream",
     "text": [
      "My name is 'Thisara Kaushan' and I'm \t23 years old.\n"
     ]
    }
   ],
   "source": [
    "#(v) Demonstrate the use of \\t operator with %s and %r modulo operators.\n",
    "\n",
    "print(\"My name is %r and I'm \\t%s years old.\"%('Thisara Kaushan',23))"
   ]
  },
  {
   "cell_type": "code",
   "execution_count": null,
   "id": "4d492310",
   "metadata": {},
   "outputs": [],
   "source": []
  }
 ],
 "metadata": {
  "kernelspec": {
   "display_name": "Python 3 (ipykernel)",
   "language": "python",
   "name": "python3"
  },
  "language_info": {
   "codemirror_mode": {
    "name": "ipython",
    "version": 3
   },
   "file_extension": ".py",
   "mimetype": "text/x-python",
   "name": "python",
   "nbconvert_exporter": "python",
   "pygments_lexer": "ipython3",
   "version": "3.9.13"
  }
 },
 "nbformat": 4,
 "nbformat_minor": 5
}
