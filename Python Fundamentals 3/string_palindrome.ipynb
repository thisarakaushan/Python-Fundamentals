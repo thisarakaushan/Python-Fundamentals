{
 "cells": [
  {
   "cell_type": "code",
   "execution_count": 3,
   "id": "bb2bfab9",
   "metadata": {},
   "outputs": [
    {
     "name": "stdout",
     "output_type": "stream",
     "text": [
      "Enter a sentence : mm and my or coc\n",
      "'mm' is a palindrome.\n",
      "'and' is not a palindrome.\n",
      "'my' is not a palindrome.\n",
      "'or' is not a palindrome.\n",
      "'coc' is a palindrome.\n"
     ]
    }
   ],
   "source": [
    "#WAP to enter strings into a list and print for each number whether it is a palindrome or not.\n",
    "\n",
    "str=[]\n",
    "str=input(\"Enter a sentence : \").split()\n",
    "for word in str:\n",
    "    if word == word[::-1]:\n",
    "        print(f\"'{word}' is a palindrome.\")\n",
    "    else:\n",
    "        print(f\"'{word}' is not a palindrome.\")"
   ]
  },
  {
   "cell_type": "code",
   "execution_count": null,
   "id": "cd4b1d8b",
   "metadata": {},
   "outputs": [],
   "source": []
  }
 ],
 "metadata": {
  "kernelspec": {
   "display_name": "Python 3 (ipykernel)",
   "language": "python",
   "name": "python3"
  },
  "language_info": {
   "codemirror_mode": {
    "name": "ipython",
    "version": 3
   },
   "file_extension": ".py",
   "mimetype": "text/x-python",
   "name": "python",
   "nbconvert_exporter": "python",
   "pygments_lexer": "ipython3",
   "version": "3.9.13"
  }
 },
 "nbformat": 4,
 "nbformat_minor": 5
}
