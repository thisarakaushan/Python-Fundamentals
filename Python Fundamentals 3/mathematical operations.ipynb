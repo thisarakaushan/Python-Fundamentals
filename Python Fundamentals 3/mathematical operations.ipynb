{
 "cells": [
  {
   "cell_type": "code",
   "execution_count": 1,
   "id": "79384d4c",
   "metadata": {},
   "outputs": [
    {
     "name": "stdout",
     "output_type": "stream",
     "text": [
      "Enter first number : 2\n",
      "Enter second number : 4\n",
      "Sum is  6\n",
      "Subtraction is  -2\n",
      "Multiplication is  8\n",
      "Division is  0.5\n",
      "Modulus is  2\n",
      "Sum is 6\n",
      "Subtraction is -2\n",
      "Multiplication is 8\n",
      "Division is 0.5\n",
      "Modulus is 2\n"
     ]
    }
   ],
   "source": [
    "#write a python program to accept 2 number from the user and perfrom all the 5 mathemetical operations in it.\n",
    "\n",
    "n1 = int(input(\"Enter first number : \"))\n",
    "n2 = int(input(\"Enter second number : \"))\n",
    "\n",
    "sum = n1+n2\n",
    "sub = n1-n2\n",
    "mul = n1*n2\n",
    "div = n1/n2\n",
    "mod = n1%n2\n",
    "\n",
    "print(f\"Sum is \",sum)\n",
    "print(f\"Subtraction is \",sub)\n",
    "print(f\"Multiplication is \",mul)\n",
    "print(f\"Division is \",div)\n",
    "print(f\"Modulus is \",mod)\n",
    "\n",
    "print(f\"Sum is {sum}\")\n",
    "print(f\"Subtraction is {sub}\")\n",
    "print(f\"Multiplication is {mul}\")\n",
    "print(f\"Division is {div}\")\n",
    "print(f\"Modulus is {mod}\")"
   ]
  },
  {
   "cell_type": "code",
   "execution_count": null,
   "id": "9cb0ee13",
   "metadata": {},
   "outputs": [],
   "source": []
  }
 ],
 "metadata": {
  "kernelspec": {
   "display_name": "Python 3 (ipykernel)",
   "language": "python",
   "name": "python3"
  },
  "language_info": {
   "codemirror_mode": {
    "name": "ipython",
    "version": 3
   },
   "file_extension": ".py",
   "mimetype": "text/x-python",
   "name": "python",
   "nbconvert_exporter": "python",
   "pygments_lexer": "ipython3",
   "version": "3.9.13"
  }
 },
 "nbformat": 4,
 "nbformat_minor": 5
}
