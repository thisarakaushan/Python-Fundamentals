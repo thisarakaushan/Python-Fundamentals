{
 "cells": [
  {
   "cell_type": "markdown",
   "metadata": {
    "id": "aWvtBNu4Vcp1"
   },
   "source": [
    "## **Installing and importing packages**"
   ]
  },
  {
   "cell_type": "code",
   "execution_count": null,
   "metadata": {
    "id": "WML40IA8VjTi"
   },
   "outputs": [],
   "source": [
    "import numpy as np\n",
    "import matplotlib.pyplot as plt\n",
    "import pandas as pd\n",
    "import seaborn as sns"
   ]
  },
  {
   "cell_type": "code",
   "execution_count": null,
   "metadata": {
    "colab": {
     "base_uri": "https://localhost:8080/"
    },
    "executionInfo": {
     "elapsed": 3521,
     "status": "ok",
     "timestamp": 1630421406291,
     "user": {
      "displayName": "Bhaskar Goswami",
      "photoUrl": "https://lh3.googleusercontent.com/a-/AOh14GgDAQHyD6Iw8tWW5pq2HE0FRq9Of2V7uOCxZnwcfw=s64",
      "userId": "16193952757177378657"
     },
     "user_tz": -330
    },
    "id": "5GKxge6MVrbA",
    "outputId": "6e77c015-b46e-48d5-c748-6161c2a35a1c"
   },
   "outputs": [
    {
     "name": "stdout",
     "output_type": "stream",
     "text": [
      "Requirement already satisfied: bokeh in /usr/local/lib/python3.7/dist-packages (2.3.3)\n",
      "Requirement already satisfied: python-dateutil>=2.1 in /usr/local/lib/python3.7/dist-packages (from bokeh) (2.8.2)\n",
      "Requirement already satisfied: Jinja2>=2.9 in /usr/local/lib/python3.7/dist-packages (from bokeh) (2.11.3)\n",
      "Requirement already satisfied: packaging>=16.8 in /usr/local/lib/python3.7/dist-packages (from bokeh) (21.0)\n",
      "Requirement already satisfied: tornado>=5.1 in /usr/local/lib/python3.7/dist-packages (from bokeh) (5.1.1)\n",
      "Requirement already satisfied: pillow>=7.1.0 in /usr/local/lib/python3.7/dist-packages (from bokeh) (7.1.2)\n",
      "Requirement already satisfied: typing-extensions>=3.7.4 in /usr/local/lib/python3.7/dist-packages (from bokeh) (3.7.4.3)\n",
      "Requirement already satisfied: PyYAML>=3.10 in /usr/local/lib/python3.7/dist-packages (from bokeh) (3.13)\n",
      "Requirement already satisfied: numpy>=1.11.3 in /usr/local/lib/python3.7/dist-packages (from bokeh) (1.19.5)\n",
      "Requirement already satisfied: MarkupSafe>=0.23 in /usr/local/lib/python3.7/dist-packages (from Jinja2>=2.9->bokeh) (2.0.1)\n",
      "Requirement already satisfied: pyparsing>=2.0.2 in /usr/local/lib/python3.7/dist-packages (from packaging>=16.8->bokeh) (2.4.7)\n",
      "Requirement already satisfied: six>=1.5 in /usr/local/lib/python3.7/dist-packages (from python-dateutil>=2.1->bokeh) (1.15.0)\n"
     ]
    }
   ],
   "source": [
    "#installing a package\n",
    "!pip install bokeh        #for example"
   ]
  },
  {
   "cell_type": "markdown",
   "metadata": {
    "id": "z2KTrITkV26r"
   },
   "source": [
    "# Python basic operations"
   ]
  },
  {
   "cell_type": "code",
   "execution_count": null,
   "metadata": {
    "colab": {
     "base_uri": "https://localhost:8080/"
    },
    "executionInfo": {
     "elapsed": 7,
     "status": "ok",
     "timestamp": 1630421406862,
     "user": {
      "displayName": "Bhaskar Goswami",
      "photoUrl": "https://lh3.googleusercontent.com/a-/AOh14GgDAQHyD6Iw8tWW5pq2HE0FRq9Of2V7uOCxZnwcfw=s64",
      "userId": "16193952757177378657"
     },
     "user_tz": -330
    },
    "id": "hiR1O7tfUdrr",
    "outputId": "eba1765c-a3c3-4336-f2ce-2203d8883c8a"
   },
   "outputs": [
    {
     "name": "stdout",
     "output_type": "stream",
     "text": [
      "Hello World\n",
      "3\n"
     ]
    }
   ],
   "source": [
    "print(\"Hello World\")\n",
    "print(1+2)"
   ]
  },
  {
   "cell_type": "code",
   "execution_count": null,
   "metadata": {
    "colab": {
     "base_uri": "https://localhost:8080/"
    },
    "executionInfo": {
     "elapsed": 9,
     "status": "ok",
     "timestamp": 1630421408452,
     "user": {
      "displayName": "Bhaskar Goswami",
      "photoUrl": "https://lh3.googleusercontent.com/a-/AOh14GgDAQHyD6Iw8tWW5pq2HE0FRq9Of2V7uOCxZnwcfw=s64",
      "userId": "16193952757177378657"
     },
     "user_tz": -330
    },
    "id": "ZHKMVwngUd3u",
    "outputId": "45f60ab5-294c-4118-d060-f8a63cff47a8"
   },
   "outputs": [
    {
     "name": "stdout",
     "output_type": "stream",
     "text": [
      "Additon Example\n",
      "40\n"
     ]
    }
   ],
   "source": [
    "print(\"Additon Example\")\n",
    "a = 10\n",
    "b = 30\n",
    "print(a+b)"
   ]
  },
  {
   "cell_type": "markdown",
   "metadata": {
    "id": "hvwC85XPU31y"
   },
   "source": [
    "**Indentation**"
   ]
  },
  {
   "cell_type": "code",
   "execution_count": null,
   "metadata": {
    "colab": {
     "base_uri": "https://localhost:8080/",
     "height": 130
    },
    "executionInfo": {
     "elapsed": 7,
     "status": "error",
     "timestamp": 1630421408453,
     "user": {
      "displayName": "Bhaskar Goswami",
      "photoUrl": "https://lh3.googleusercontent.com/a-/AOh14GgDAQHyD6Iw8tWW5pq2HE0FRq9Of2V7uOCxZnwcfw=s64",
      "userId": "16193952757177378657"
     },
     "user_tz": -330
    },
    "id": "eTSZpT4YU2X0",
    "outputId": "03016829-ec58-4cb1-9bf3-670311c56946"
   },
   "outputs": [
    {
     "ename": "IndentationError",
     "evalue": "ignored",
     "output_type": "error",
     "traceback": [
      "\u001b[0;36m  File \u001b[0;32m\"<ipython-input-5-1e6fca0a7e8e>\"\u001b[0;36m, line \u001b[0;32m2\u001b[0m\n\u001b[0;31m    a = 10\u001b[0m\n\u001b[0m    ^\u001b[0m\n\u001b[0;31mIndentationError\u001b[0m\u001b[0;31m:\u001b[0m unexpected indent\n"
     ]
    }
   ],
   "source": [
    "print(\"Additon Example\")\n",
    "  a = 10\n",
    "  b = 30\n",
    "print(a+b)"
   ]
  },
  {
   "cell_type": "code",
   "execution_count": null,
   "metadata": {
    "colab": {
     "base_uri": "https://localhost:8080/",
     "height": 182
    },
    "executionInfo": {
     "elapsed": 12,
     "status": "error",
     "timestamp": 1630421409502,
     "user": {
      "displayName": "Bhaskar Goswami",
      "photoUrl": "https://lh3.googleusercontent.com/a-/AOh14GgDAQHyD6Iw8tWW5pq2HE0FRq9Of2V7uOCxZnwcfw=s64",
      "userId": "16193952757177378657"
     },
     "user_tz": -330
    },
    "id": "muCqMp6MVbAU",
    "outputId": "857ea24f-a7f8-4543-9b5d-3e131400045b"
   },
   "outputs": [
    {
     "ename": "TypeError",
     "evalue": "ignored",
     "output_type": "error",
     "traceback": [
      "\u001b[0;31m---------------------------------------------------------------------------\u001b[0m",
      "\u001b[0;31mTypeError\u001b[0m                                 Traceback (most recent call last)",
      "\u001b[0;32m<ipython-input-6-a238315bcc9f>\u001b[0m in \u001b[0;36m<module>\u001b[0;34m()\u001b[0m\n\u001b[1;32m      1\u001b[0m \u001b[0ma\u001b[0m \u001b[0;34m=\u001b[0m \u001b[0;34m[\u001b[0m\u001b[0;36m1\u001b[0m\u001b[0;34m,\u001b[0m\u001b[0;36m2\u001b[0m\u001b[0;34m]\u001b[0m\u001b[0;34m\u001b[0m\u001b[0;34m\u001b[0m\u001b[0m\n\u001b[0;32m----> 2\u001b[0;31m \u001b[0ma\u001b[0m\u001b[0;34m+\u001b[0m\u001b[0;34m\"hi\"\u001b[0m\u001b[0;34m\u001b[0m\u001b[0;34m\u001b[0m\u001b[0m\n\u001b[0m",
      "\u001b[0;31mTypeError\u001b[0m: can only concatenate list (not \"str\") to list"
     ]
    }
   ],
   "source": [
    "a = [1,2]\n",
    "a+\"hi\""
   ]
  },
  {
   "cell_type": "code",
   "execution_count": null,
   "metadata": {
    "colab": {
     "base_uri": "https://localhost:8080/"
    },
    "executionInfo": {
     "elapsed": 12,
     "status": "ok",
     "timestamp": 1630421422312,
     "user": {
      "displayName": "Bhaskar Goswami",
      "photoUrl": "https://lh3.googleusercontent.com/a-/AOh14GgDAQHyD6Iw8tWW5pq2HE0FRq9Of2V7uOCxZnwcfw=s64",
      "userId": "16193952757177378657"
     },
     "user_tz": -330
    },
    "id": "xCyAGZzCVs1y",
    "outputId": "aa16c902-69de-4110-c39e-0c0f3314657f"
   },
   "outputs": [
    {
     "name": "stdout",
     "output_type": "stream",
     "text": [
      "10 3.14 Hello True\n"
     ]
    }
   ],
   "source": [
    "#creating variables\n",
    "a = 10  #integer type\n",
    "b = 3.14 #float type\n",
    "c = 'Hello' #string type\n",
    "d = True #boolean type\n",
    "print(a,b,c,d)\n"
   ]
  },
  {
   "cell_type": "code",
   "execution_count": null,
   "metadata": {
    "colab": {
     "base_uri": "https://localhost:8080/"
    },
    "executionInfo": {
     "elapsed": 9,
     "status": "ok",
     "timestamp": 1630421424132,
     "user": {
      "displayName": "Bhaskar Goswami",
      "photoUrl": "https://lh3.googleusercontent.com/a-/AOh14GgDAQHyD6Iw8tWW5pq2HE0FRq9Of2V7uOCxZnwcfw=s64",
      "userId": "16193952757177378657"
     },
     "user_tz": -330
    },
    "id": "eML5b81LV9MT",
    "outputId": "2f1a680b-9dfa-4f59-e0a4-3f872154ce62"
   },
   "outputs": [
    {
     "name": "stdout",
     "output_type": "stream",
     "text": [
      "13.14 31.400000000000002 3.184713375796178 1380.3842646028852 Hello! HelloHelloHello\n"
     ]
    }
   ],
   "source": [
    "#arithmetic operations\n",
    "add = a+b #adding int and float type;returns a float number\n",
    "mul = a*b\n",
    "div = a/b\n",
    "exp = a**b    # a to the power of b\n",
    "concat = c+'!'\n",
    "mul_string = c*3\n",
    "print(add,mul,div,exp,concat,mul_string)"
   ]
  },
  {
   "cell_type": "code",
   "execution_count": null,
   "metadata": {
    "colab": {
     "base_uri": "https://localhost:8080/"
    },
    "executionInfo": {
     "elapsed": 1002,
     "status": "ok",
     "timestamp": 1630421428769,
     "user": {
      "displayName": "Bhaskar Goswami",
      "photoUrl": "https://lh3.googleusercontent.com/a-/AOh14GgDAQHyD6Iw8tWW5pq2HE0FRq9Of2V7uOCxZnwcfw=s64",
      "userId": "16193952757177378657"
     },
     "user_tz": -330
    },
    "id": "V4xjMItTV-8J",
    "outputId": "c2b87861-de47-4238-c694-f80179408405"
   },
   "outputs": [
    {
     "name": "stdout",
     "output_type": "stream",
     "text": [
      "False True False True True False\n"
     ]
    }
   ],
   "source": [
    "#logical operations returns boolean\n",
    "a = 5\n",
    "b= 2\n",
    "print(a==b , a>b, a<b , a!=b , a>=b , a<=b)"
   ]
  },
  {
   "cell_type": "code",
   "execution_count": null,
   "metadata": {
    "colab": {
     "base_uri": "https://localhost:8080/"
    },
    "executionInfo": {
     "elapsed": 3197,
     "status": "ok",
     "timestamp": 1630421431942,
     "user": {
      "displayName": "Bhaskar Goswami",
      "photoUrl": "https://lh3.googleusercontent.com/a-/AOh14GgDAQHyD6Iw8tWW5pq2HE0FRq9Of2V7uOCxZnwcfw=s64",
      "userId": "16193952757177378657"
     },
     "user_tz": -330
    },
    "id": "J8dreiNzWADn",
    "outputId": "f64cde59-ba66-483c-a88e-a0145309bb1b"
   },
   "outputs": [
    {
     "name": "stdout",
     "output_type": "stream",
     "text": [
      "Enter a number: \n",
      "\n",
      "value entered \n"
     ]
    }
   ],
   "source": [
    "#taking input from user\n",
    "x = input(\"Enter a number: \\n\")\n",
    "print(f\"value entered {x}\")"
   ]
  },
  {
   "cell_type": "markdown",
   "metadata": {
    "id": "kzLvt1m9pmEb"
   },
   "source": [
    "# Data Types"
   ]
  },
  {
   "cell_type": "markdown",
   "metadata": {
    "id": "24MBjjTKWJ1t"
   },
   "source": [
    "\n",
    "\n",
    "\n",
    "\n",
    "*   Integer - This value is represented by int class. It contains positive or negative whole numbers.\n",
    "\n",
    "*   Float - This value is represented by float class. It is a real number with floating point representation. It is specified by a decimal point.\n",
    "*   Tuple -  Tuple is an ordered collection of Python objects.Tuples are immutable. It is represented by tuple class.\n",
    "\n",
    "\n",
    "*  Boolean - Boolean objects that are equal to True are truthy (true), and those equal to False are falsy (false). It is denoted by the class bool.\n",
    "\n",
    "\n"
   ]
  },
  {
   "cell_type": "code",
   "execution_count": 10,
   "metadata": {
    "colab": {
     "base_uri": "https://localhost:8080/"
    },
    "executionInfo": {
     "elapsed": 416,
     "status": "ok",
     "timestamp": 1642671782802,
     "user": {
      "displayName": "Shivanjali S",
      "photoUrl": "https://lh3.googleusercontent.com/a/default-user=s64",
      "userId": "04728940809119916650"
     },
     "user_tz": -330
    },
    "id": "nf6-Blzr3Awr",
    "outputId": "95af40ce-2f9f-43e3-c371-94a991716690"
   },
   "outputs": [
    {
     "name": "stdout",
     "output_type": "stream",
     "text": [
      "Data type of x is:  <class 'int'>\n"
     ]
    }
   ],
   "source": [
    "# integer\n",
    "x = 5\n",
    "print(\"Data type of x is: \", type(x))"
   ]
  },
  {
   "cell_type": "code",
   "execution_count": 11,
   "metadata": {
    "colab": {
     "base_uri": "https://localhost:8080/"
    },
    "executionInfo": {
     "elapsed": 614,
     "status": "ok",
     "timestamp": 1642671833896,
     "user": {
      "displayName": "Shivanjali S",
      "photoUrl": "https://lh3.googleusercontent.com/a/default-user=s64",
      "userId": "04728940809119916650"
     },
     "user_tz": -330
    },
    "id": "IyJD5mFz3ZFi",
    "outputId": "40d2d9ac-6bee-4d6f-db60-be2d5becd395"
   },
   "outputs": [
    {
     "name": "stdout",
     "output_type": "stream",
     "text": [
      "Data Type of x is:  <class 'float'>\n"
     ]
    }
   ],
   "source": [
    "# float\n",
    "x = 5.0\n",
    "print(\"Data Type of x is: \", type(x))"
   ]
  },
  {
   "cell_type": "code",
   "execution_count": null,
   "metadata": {
    "id": "KrAfbe3d3yVG"
   },
   "outputs": [],
   "source": [
    "# tuple\n"
   ]
  },
  {
   "cell_type": "code",
   "execution_count": null,
   "metadata": {
    "colab": {
     "base_uri": "https://localhost:8080/"
    },
    "executionInfo": {
     "elapsed": 21,
     "status": "ok",
     "timestamp": 1630421431944,
     "user": {
      "displayName": "Bhaskar Goswami",
      "photoUrl": "https://lh3.googleusercontent.com/a-/AOh14GgDAQHyD6Iw8tWW5pq2HE0FRq9Of2V7uOCxZnwcfw=s64",
      "userId": "16193952757177378657"
     },
     "user_tz": -330
    },
    "id": "7xyLasDWWBO2",
    "outputId": "6f3ece25-9b80-4abc-ce5d-ec52b846a6ff"
   },
   "outputs": [
    {
     "name": "stdout",
     "output_type": "stream",
     "text": [
      "2 2.0\n",
      "[1, 3, 3, 4, 5] {1, 3, 4, 5}\n"
     ]
    }
   ],
   "source": [
    "a=2\n",
    "b=float(a)\n",
    "print(a,b)\n",
    "l = [1,3,3,4,5]\n",
    "s= set(l)\n",
    "print(l,s)"
   ]
  },
  {
   "cell_type": "markdown",
   "metadata": {
    "id": "XTyUbKx5YG4A"
   },
   "source": [
    "# Conditional Statements"
   ]
  },
  {
   "cell_type": "markdown",
   "metadata": {
    "id": "9qgMFn1QYLtp"
   },
   "source": [
    "## If-else"
   ]
  },
  {
   "cell_type": "code",
   "execution_count": null,
   "metadata": {
    "colab": {
     "base_uri": "https://localhost:8080/"
    },
    "executionInfo": {
     "elapsed": 19,
     "status": "ok",
     "timestamp": 1630421459524,
     "user": {
      "displayName": "Bhaskar Goswami",
      "photoUrl": "https://lh3.googleusercontent.com/a-/AOh14GgDAQHyD6Iw8tWW5pq2HE0FRq9Of2V7uOCxZnwcfw=s64",
      "userId": "16193952757177378657"
     },
     "user_tz": -330
    },
    "id": "0W9ZSrGuYFAB",
    "outputId": "758337c5-761f-429a-ff55-556c1062dc2e"
   },
   "outputs": [
    {
     "name": "stdout",
     "output_type": "stream",
     "text": [
      "b is greater than a\n"
     ]
    }
   ],
   "source": [
    "a = 33\n",
    "b = 200                    #be mindful of indent\n",
    "if b > a:\n",
    "  print(\"b is greater than a\")"
   ]
  },
  {
   "cell_type": "code",
   "execution_count": null,
   "metadata": {
    "colab": {
     "base_uri": "https://localhost:8080/"
    },
    "executionInfo": {
     "elapsed": 8,
     "status": "ok",
     "timestamp": 1630421459524,
     "user": {
      "displayName": "Bhaskar Goswami",
      "photoUrl": "https://lh3.googleusercontent.com/a-/AOh14GgDAQHyD6Iw8tWW5pq2HE0FRq9Of2V7uOCxZnwcfw=s64",
      "userId": "16193952757177378657"
     },
     "user_tz": -330
    },
    "id": "bqx_l6xNYNFe",
    "outputId": "e452fe20-83b7-4c10-e243-4f912c15a922"
   },
   "outputs": [
    {
     "name": "stdout",
     "output_type": "stream",
     "text": [
      "b is greater than a\n"
     ]
    }
   ],
   "source": [
    "#elif keyword\n",
    "if b > a:\n",
    "  print(\"b is greater than a\")\n",
    "elif a == b:\n",
    "  print(\"a and b are equal\")"
   ]
  },
  {
   "cell_type": "code",
   "execution_count": null,
   "metadata": {
    "colab": {
     "base_uri": "https://localhost:8080/"
    },
    "executionInfo": {
     "elapsed": 12,
     "status": "ok",
     "timestamp": 1630421460213,
     "user": {
      "displayName": "Bhaskar Goswami",
      "photoUrl": "https://lh3.googleusercontent.com/a-/AOh14GgDAQHyD6Iw8tWW5pq2HE0FRq9Of2V7uOCxZnwcfw=s64",
      "userId": "16193952757177378657"
     },
     "user_tz": -330
    },
    "id": "0UM3THGaYPU-",
    "outputId": "738081d1-7036-4d95-9c3b-5a710d1d01ed"
   },
   "outputs": [
    {
     "name": "stdout",
     "output_type": "stream",
     "text": [
      "b is greater than a\n"
     ]
    }
   ],
   "source": [
    "#else keyword\n",
    "if b > a:\n",
    "  print(\"b is greater than a\")\n",
    "elif a == b:\n",
    "  print(\"a and b are equal\")\n",
    "else:\n",
    "  print(\"a is greater than b\")"
   ]
  },
  {
   "cell_type": "code",
   "execution_count": null,
   "metadata": {
    "colab": {
     "base_uri": "https://localhost:8080/"
    },
    "executionInfo": {
     "elapsed": 10,
     "status": "ok",
     "timestamp": 1630421460213,
     "user": {
      "displayName": "Bhaskar Goswami",
      "photoUrl": "https://lh3.googleusercontent.com/a-/AOh14GgDAQHyD6Iw8tWW5pq2HE0FRq9Of2V7uOCxZnwcfw=s64",
      "userId": "16193952757177378657"
     },
     "user_tz": -330
    },
    "id": "BZ75__ayYSJh",
    "outputId": "3802545a-e689-45fb-eaaf-82d10a4709c2"
   },
   "outputs": [
    {
     "name": "stdout",
     "output_type": "stream",
     "text": [
      "B\n"
     ]
    }
   ],
   "source": [
    "#short hand if-else\n",
    "a = 2\n",
    "b = 330\n",
    "print(\"A\") if a > b else print(\"B\")"
   ]
  },
  {
   "cell_type": "code",
   "execution_count": null,
   "metadata": {
    "colab": {
     "base_uri": "https://localhost:8080/"
    },
    "executionInfo": {
     "elapsed": 7,
     "status": "ok",
     "timestamp": 1630421460214,
     "user": {
      "displayName": "Bhaskar Goswami",
      "photoUrl": "https://lh3.googleusercontent.com/a-/AOh14GgDAQHyD6Iw8tWW5pq2HE0FRq9Of2V7uOCxZnwcfw=s64",
      "userId": "16193952757177378657"
     },
     "user_tz": -330
    },
    "id": "0eLLa6vEYTag",
    "outputId": "fe932ee2-f0f1-474d-8c6d-89a3bc26d8f6"
   },
   "outputs": [
    {
     "name": "stdout",
     "output_type": "stream",
     "text": [
      "Both conditions are True\n",
      "At least one of the conditions is True\n"
     ]
    }
   ],
   "source": [
    "# 'and' 'or' keywords\n",
    "a = 200\n",
    "b = 33\n",
    "c = 500\n",
    "if a > b and c > a:\n",
    "  print(\"Both conditions are True\")\n",
    "\n",
    "if a > b or a > c:\n",
    "  print(\"At least one of the conditions is True\")"
   ]
  },
  {
   "cell_type": "markdown",
   "metadata": {
    "id": "DK3Uk_W5YW23"
   },
   "source": [
    "# Iterations and Looping"
   ]
  },
  {
   "cell_type": "code",
   "execution_count": null,
   "metadata": {
    "colab": {
     "base_uri": "https://localhost:8080/"
    },
    "executionInfo": {
     "elapsed": 15,
     "status": "ok",
     "timestamp": 1630421461119,
     "user": {
      "displayName": "Bhaskar Goswami",
      "photoUrl": "https://lh3.googleusercontent.com/a-/AOh14GgDAQHyD6Iw8tWW5pq2HE0FRq9Of2V7uOCxZnwcfw=s64",
      "userId": "16193952757177378657"
     },
     "user_tz": -330
    },
    "id": "eELhMh3vYUfs",
    "outputId": "97d43132-47cc-4cba-a7c5-6afb829fb13f"
   },
   "outputs": [
    {
     "name": "stdout",
     "output_type": "stream",
     "text": [
      "apple\n",
      "banana\n",
      "cherry\n"
     ]
    }
   ],
   "source": [
    "#for loop\n",
    "fruits = [\"apple\", \"banana\", \"cherry\"]\n",
    "for x in fruits:\n",
    "  print(x)\n",
    "#for loop does not require indexing"
   ]
  },
  {
   "cell_type": "code",
   "execution_count": null,
   "metadata": {
    "colab": {
     "base_uri": "https://localhost:8080/"
    },
    "executionInfo": {
     "elapsed": 12,
     "status": "ok",
     "timestamp": 1630421461119,
     "user": {
      "displayName": "Bhaskar Goswami",
      "photoUrl": "https://lh3.googleusercontent.com/a-/AOh14GgDAQHyD6Iw8tWW5pq2HE0FRq9Of2V7uOCxZnwcfw=s64",
      "userId": "16193952757177378657"
     },
     "user_tz": -330
    },
    "id": "kVxBTI1wbQiL",
    "outputId": "07ae0a82-b95d-42da-e370-e44db3a27404"
   },
   "outputs": [
    {
     "name": "stdout",
     "output_type": "stream",
     "text": [
      "1\n",
      "2\n",
      "3\n",
      "4\n",
      "5\n"
     ]
    }
   ],
   "source": [
    "#while loop\n",
    "i = 1\n",
    "while i < 6:\n",
    "  print(i)\n",
    "  i += 1"
   ]
  },
  {
   "cell_type": "code",
   "execution_count": null,
   "metadata": {
    "colab": {
     "base_uri": "https://localhost:8080/"
    },
    "executionInfo": {
     "elapsed": 15,
     "status": "ok",
     "timestamp": 1630421461773,
     "user": {
      "displayName": "Bhaskar Goswami",
      "photoUrl": "https://lh3.googleusercontent.com/a-/AOh14GgDAQHyD6Iw8tWW5pq2HE0FRq9Of2V7uOCxZnwcfw=s64",
      "userId": "16193952757177378657"
     },
     "user_tz": -330
    },
    "id": "YxDBVC6eYYzJ",
    "outputId": "23079b18-9eee-4d3e-c658-4c903f66825c"
   },
   "outputs": [
    {
     "name": "stdout",
     "output_type": "stream",
     "text": [
      "0\n",
      "1\n",
      "2\n",
      "3\n",
      "4\n",
      "5\n"
     ]
    }
   ],
   "source": [
    "#using functions with for loop:\n",
    "for x in range(6):\n",
    "  print(x)\n"
   ]
  },
  {
   "cell_type": "code",
   "execution_count": null,
   "metadata": {
    "colab": {
     "base_uri": "https://localhost:8080/"
    },
    "executionInfo": {
     "elapsed": 13,
     "status": "ok",
     "timestamp": 1630421461773,
     "user": {
      "displayName": "Bhaskar Goswami",
      "photoUrl": "https://lh3.googleusercontent.com/a-/AOh14GgDAQHyD6Iw8tWW5pq2HE0FRq9Of2V7uOCxZnwcfw=s64",
      "userId": "16193952757177378657"
     },
     "user_tz": -330
    },
    "id": "yOCugrbCYZ9k",
    "outputId": "fa6d8b78-045f-4c46-d623-042ad74c842d"
   },
   "outputs": [
    {
     "name": "stdout",
     "output_type": "stream",
     "text": [
      "apple\n",
      "banana\n"
     ]
    }
   ],
   "source": [
    "#break statement\n",
    "fruits = [\"apple\", \"banana\", \"cherry\"]\n",
    "for x in fruits:\n",
    "  print(x)\n",
    "  if x == \"banana\":\n",
    "    break"
   ]
  },
  {
   "cell_type": "code",
   "execution_count": null,
   "metadata": {
    "colab": {
     "base_uri": "https://localhost:8080/"
    },
    "executionInfo": {
     "elapsed": 9,
     "status": "ok",
     "timestamp": 1630421461774,
     "user": {
      "displayName": "Bhaskar Goswami",
      "photoUrl": "https://lh3.googleusercontent.com/a-/AOh14GgDAQHyD6Iw8tWW5pq2HE0FRq9Of2V7uOCxZnwcfw=s64",
      "userId": "16193952757177378657"
     },
     "user_tz": -330
    },
    "id": "O3MXRxMaYbfW",
    "outputId": "3f51e1b4-7b85-4072-d199-50a32c2bb89a"
   },
   "outputs": [
    {
     "name": "stdout",
     "output_type": "stream",
     "text": [
      "apple\n",
      "cherry\n"
     ]
    }
   ],
   "source": [
    "#continue statement\n",
    "fruits = [\"apple\", \"banana\", \"cherry\"]\n",
    "for x in fruits:\n",
    "  if x == \"banana\":\n",
    "    continue\n",
    "  print(x)"
   ]
  },
  {
   "cell_type": "code",
   "execution_count": null,
   "metadata": {
    "colab": {
     "base_uri": "https://localhost:8080/"
    },
    "executionInfo": {
     "elapsed": 8,
     "status": "ok",
     "timestamp": 1630421458362,
     "user": {
      "displayName": "Bhaskar Goswami",
      "photoUrl": "https://lh3.googleusercontent.com/a-/AOh14GgDAQHyD6Iw8tWW5pq2HE0FRq9Of2V7uOCxZnwcfw=s64",
      "userId": "16193952757177378657"
     },
     "user_tz": -330
    },
    "id": "ZVTXkiALYEJB",
    "outputId": "9eb16cce-ccda-42f3-c554-ba22af3105b7"
   },
   "outputs": [
    {
     "name": "stdout",
     "output_type": "stream",
     "text": [
      "cherry\n"
     ]
    }
   ],
   "source": [
    "#negative indexing with tuples\n",
    "thistuple = (\"apple\", \"banana\", \"cherry\")\n",
    "print(thistuple[-1])\n"
   ]
  },
  {
   "cell_type": "code",
   "execution_count": null,
   "metadata": {
    "colab": {
     "base_uri": "https://localhost:8080/"
    },
    "executionInfo": {
     "elapsed": 9,
     "status": "ok",
     "timestamp": 1630421458361,
     "user": {
      "displayName": "Bhaskar Goswami",
      "photoUrl": "https://lh3.googleusercontent.com/a-/AOh14GgDAQHyD6Iw8tWW5pq2HE0FRq9Of2V7uOCxZnwcfw=s64",
      "userId": "16193952757177378657"
     },
     "user_tz": -330
    },
    "id": "_X1O6URnX2o-",
    "outputId": "344f06f2-6e35-400a-e64f-3ddbe3166419"
   },
   "outputs": [
    {
     "name": "stdout",
     "output_type": "stream",
     "text": [
      "['orange', 'kiwi', 'melon']\n"
     ]
    }
   ],
   "source": [
    "#negative indexing with lists\n",
    "thislist = [\"apple\", \"banana\", \"cherry\", \"orange\", \"kiwi\", \"melon\", \"mango\"]\n",
    "print(thislist[-4:-1])"
   ]
  },
  {
   "cell_type": "code",
   "execution_count": null,
   "metadata": {
    "colab": {
     "base_uri": "https://localhost:8080/"
    },
    "executionInfo": {
     "elapsed": 8,
     "status": "ok",
     "timestamp": 1630421441691,
     "user": {
      "displayName": "Bhaskar Goswami",
      "photoUrl": "https://lh3.googleusercontent.com/a-/AOh14GgDAQHyD6Iw8tWW5pq2HE0FRq9Of2V7uOCxZnwcfw=s64",
      "userId": "16193952757177378657"
     },
     "user_tz": -330
    },
    "id": "Pn9KDpUMV38N",
    "outputId": "6ed28425-3323-4437-8415-a5f70dbf5a79"
   },
   "outputs": [
    {
     "name": "stdout",
     "output_type": "stream",
     "text": [
      "[2, 4, 6, 8]\n"
     ]
    }
   ],
   "source": [
    "def add(x):\n",
    "  return x*2\n",
    "y = list(map(add,x))\n",
    "print(y)"
   ]
  },
  {
   "cell_type": "markdown",
   "metadata": {
    "id": "v7g2uYHLWTH_"
   },
   "source": [
    "# Data structures in Python"
   ]
  },
  {
   "cell_type": "markdown",
   "metadata": {
    "id": "iGODL0CSWVhv"
   },
   "source": [
    "* list \n",
    "* dictionary\n",
    "* tuple \n",
    "* set"
   ]
  },
  {
   "cell_type": "code",
   "execution_count": null,
   "metadata": {
    "id": "dDtH2DqKWD6K"
   },
   "outputs": [],
   "source": [
    "#defining a list\n",
    "l1 = [] #empty list\n",
    "l2 = ['a',1,'word',True]\n",
    "l3 = list(s)"
   ]
  },
  {
   "cell_type": "code",
   "execution_count": null,
   "metadata": {
    "colab": {
     "base_uri": "https://localhost:8080/"
    },
    "executionInfo": {
     "elapsed": 898,
     "status": "ok",
     "timestamp": 1630421439934,
     "user": {
      "displayName": "Bhaskar Goswami",
      "photoUrl": "https://lh3.googleusercontent.com/a-/AOh14GgDAQHyD6Iw8tWW5pq2HE0FRq9Of2V7uOCxZnwcfw=s64",
      "userId": "16193952757177378657"
     },
     "user_tz": -330
    },
    "id": "0HQLLSsQVva3",
    "outputId": "4a3159dd-1e68-42eb-ce7d-72e3d8482eb8"
   },
   "outputs": [
    {
     "data": {
      "text/plain": [
       "10"
      ]
     },
     "execution_count": 14,
     "metadata": {},
     "output_type": "execute_result"
    }
   ],
   "source": [
    "x = [1,2,3]\n",
    "x.append(4)\n",
    "sum(x)"
   ]
  },
  {
   "cell_type": "markdown",
   "metadata": {
    "id": "EoVgKxPgWfG4"
   },
   "source": [
    "# List Operations "
   ]
  },
  {
   "cell_type": "code",
   "execution_count": null,
   "metadata": {
    "colab": {
     "base_uri": "https://localhost:8080/"
    },
    "executionInfo": {
     "elapsed": 581,
     "status": "ok",
     "timestamp": 1630421446478,
     "user": {
      "displayName": "Bhaskar Goswami",
      "photoUrl": "https://lh3.googleusercontent.com/a-/AOh14GgDAQHyD6Iw8tWW5pq2HE0FRq9Of2V7uOCxZnwcfw=s64",
      "userId": "16193952757177378657"
     },
     "user_tz": -330
    },
    "id": "fnCjhjlKWb_W",
    "outputId": "0335ef67-fdb9-462a-be73-4d0253551e34"
   },
   "outputs": [
    {
     "data": {
      "text/plain": [
       "[0, 1, 2, 3, 4, 5, 6, 7, 8, 9]"
      ]
     },
     "execution_count": 16,
     "metadata": {},
     "output_type": "execute_result"
    }
   ],
   "source": [
    "#adding elements to an empty list\n",
    "l = []\n",
    "\n",
    "for i in range(10):\n",
    "    l.append(i)\n",
    "l"
   ]
  },
  {
   "cell_type": "code",
   "execution_count": null,
   "metadata": {
    "colab": {
     "base_uri": "https://localhost:8080/"
    },
    "executionInfo": {
     "elapsed": 15,
     "status": "ok",
     "timestamp": 1630421447098,
     "user": {
      "displayName": "Bhaskar Goswami",
      "photoUrl": "https://lh3.googleusercontent.com/a-/AOh14GgDAQHyD6Iw8tWW5pq2HE0FRq9Of2V7uOCxZnwcfw=s64",
      "userId": "16193952757177378657"
     },
     "user_tz": -330
    },
    "id": "2jwk0QneWhFo",
    "outputId": "5a486f66-e79a-4a7d-f734-364fe04db9b9"
   },
   "outputs": [
    {
     "data": {
      "text/plain": [
       "[0, 1, 2, 3, 4, 5, 6, 7, 8, 9, 0, 1, 2, 3, 4, 5, 6, 7, 8, 9]"
      ]
     },
     "execution_count": 17,
     "metadata": {},
     "output_type": "execute_result"
    }
   ],
   "source": [
    "l = l+l #concatenation\n",
    "l"
   ]
  },
  {
   "cell_type": "code",
   "execution_count": null,
   "metadata": {
    "colab": {
     "base_uri": "https://localhost:8080/"
    },
    "executionInfo": {
     "elapsed": 5,
     "status": "ok",
     "timestamp": 1630421448436,
     "user": {
      "displayName": "Bhaskar Goswami",
      "photoUrl": "https://lh3.googleusercontent.com/a-/AOh14GgDAQHyD6Iw8tWW5pq2HE0FRq9Of2V7uOCxZnwcfw=s64",
      "userId": "16193952757177378657"
     },
     "user_tz": -330
    },
    "id": "2nke5dHgWiJU",
    "outputId": "2f6a3100-3048-412c-c512-c3a51cc5ea4a"
   },
   "outputs": [
    {
     "data": {
      "text/plain": [
       "[0, 1, 2, 3, 4, 5, 6, 7, 8, 9, 0, 1, 2, 3, 4]"
      ]
     },
     "execution_count": 18,
     "metadata": {},
     "output_type": "execute_result"
    }
   ],
   "source": [
    "l = l[0:15]   #slicing;python follows 0-indexing. 0:15 will give values from index 0 to 14.\n",
    "l"
   ]
  },
  {
   "cell_type": "code",
   "execution_count": null,
   "metadata": {
    "colab": {
     "base_uri": "https://localhost:8080/"
    },
    "executionInfo": {
     "elapsed": 11,
     "status": "ok",
     "timestamp": 1630421449794,
     "user": {
      "displayName": "Bhaskar Goswami",
      "photoUrl": "https://lh3.googleusercontent.com/a-/AOh14GgDAQHyD6Iw8tWW5pq2HE0FRq9Of2V7uOCxZnwcfw=s64",
      "userId": "16193952757177378657"
     },
     "user_tz": -330
    },
    "id": "XRJWXRSzWjRe",
    "outputId": "746279c7-ca86-48b4-8e5a-53ee7a03b623"
   },
   "outputs": [
    {
     "data": {
      "text/plain": [
       "[0, 15, 2, 3, 4, 5, 6, 7, 8, 9, 0, 1, 2, 3, 4]"
      ]
     },
     "execution_count": 19,
     "metadata": {},
     "output_type": "execute_result"
    }
   ],
   "source": [
    "l[1] = 15    #lists are mutable; i.e., their contents can be changed.\n",
    "l"
   ]
  },
  {
   "cell_type": "markdown",
   "metadata": {
    "id": "s3FijMCXWnGI"
   },
   "source": [
    "# List Comprehensions"
   ]
  },
  {
   "cell_type": "markdown",
   "metadata": {
    "id": "MqY6lmSqWtee"
   },
   "source": [
    "List comprehensions are used for creating new lists from other iterables.\n",
    "\n",
    "As list comprehensions return lists, they consist of brackets containing the expression, which is executed for each element along with the for loop to iterate over each element."
   ]
  },
  {
   "cell_type": "code",
   "execution_count": null,
   "metadata": {
    "colab": {
     "base_uri": "https://localhost:8080/"
    },
    "executionInfo": {
     "elapsed": 11,
     "status": "ok",
     "timestamp": 1630421449796,
     "user": {
      "displayName": "Bhaskar Goswami",
      "photoUrl": "https://lh3.googleusercontent.com/a-/AOh14GgDAQHyD6Iw8tWW5pq2HE0FRq9Of2V7uOCxZnwcfw=s64",
      "userId": "16193952757177378657"
     },
     "user_tz": -330
    },
    "id": "bEwBqMnrWkjA",
    "outputId": "84f0366a-6496-4cd5-92bd-eaaa41d285b2"
   },
   "outputs": [
    {
     "name": "stdout",
     "output_type": "stream",
     "text": [
      "[1, 4, 9, 16]\n"
     ]
    }
   ],
   "source": [
    "#example:\n",
    "numbers = [1, 2, 3, 4]\n",
    "squares = [n**2 for n in numbers]\n",
    "\n",
    "print(squares)"
   ]
  },
  {
   "cell_type": "markdown",
   "metadata": {
    "id": "qZosCE0kWyqm"
   },
   "source": [
    "## List methods"
   ]
  },
  {
   "cell_type": "markdown",
   "metadata": {
    "id": "5HVTTSpqW0v7"
   },
   "source": [
    "* append()\tAdds an element at the end of the list\n",
    "* clear()\tRemoves all the elements from the list\n",
    "* copy()\tReturns a copy of the list\n",
    "* count()\tReturns the number of elements with the specified value\n",
    "* extend()\tAdd the elements of a list (or any iterable), to the end of the current list\n",
    "* index()\tReturns the index of the first element with the specified value\n",
    "* insert()\tAdds an element at the specified position\n",
    "* pop()\tRemoves the element at the specified position\n",
    "* remove()\tRemoves the item with the specified value\n",
    "* reverse()\tReverses the order of the list\n",
    "* sort()\tSorts the list"
   ]
  },
  {
   "cell_type": "markdown",
   "metadata": {
    "id": "_8BhTmRlWgEu"
   },
   "source": [
    "#Tuple"
   ]
  },
  {
   "cell_type": "code",
   "execution_count": null,
   "metadata": {
    "colab": {
     "base_uri": "https://localhost:8080/"
    },
    "executionInfo": {
     "elapsed": 5,
     "status": "ok",
     "timestamp": 1630421450462,
     "user": {
      "displayName": "Bhaskar Goswami",
      "photoUrl": "https://lh3.googleusercontent.com/a-/AOh14GgDAQHyD6Iw8tWW5pq2HE0FRq9Of2V7uOCxZnwcfw=s64",
      "userId": "16193952757177378657"
     },
     "user_tz": -330
    },
    "id": "SSa4DTGwWmsQ",
    "outputId": "9a664e95-f485-46e2-baba-e0f3929697e4"
   },
   "outputs": [
    {
     "name": "stdout",
     "output_type": "stream",
     "text": [
      "banana\n"
     ]
    }
   ],
   "source": [
    "#access tuple items\n",
    "thistuple = (\"apple\", \"banana\", \"cherry\")\n",
    "print(thistuple[1])"
   ]
  },
  {
   "cell_type": "markdown",
   "metadata": {
    "id": "jGsjThBuXe7e"
   },
   "source": [
    "# Tuple operations"
   ]
  },
  {
   "cell_type": "markdown",
   "metadata": {
    "id": "qkk6v_htXhWU"
   },
   "source": [
    "Note that, tuples are immutable,i.e., once created, its elements cannot be changed"
   ]
  },
  {
   "cell_type": "code",
   "execution_count": null,
   "metadata": {
    "colab": {
     "base_uri": "https://localhost:8080/"
    },
    "executionInfo": {
     "elapsed": 10,
     "status": "ok",
     "timestamp": 1630421452647,
     "user": {
      "displayName": "Bhaskar Goswami",
      "photoUrl": "https://lh3.googleusercontent.com/a-/AOh14GgDAQHyD6Iw8tWW5pq2HE0FRq9Of2V7uOCxZnwcfw=s64",
      "userId": "16193952757177378657"
     },
     "user_tz": -330
    },
    "id": "SIXTN5HmXA0r",
    "outputId": "4dde549f-4a48-45ad-ee6a-437e991ed27d"
   },
   "outputs": [
    {
     "name": "stdout",
     "output_type": "stream",
     "text": [
      "banana\n"
     ]
    }
   ],
   "source": [
    "#access tuple items\n",
    "thistuple = (\"apple\", \"banana\", \"cherry\")\n",
    "print(thistuple[1])"
   ]
  },
  {
   "cell_type": "code",
   "execution_count": null,
   "metadata": {
    "colab": {
     "base_uri": "https://localhost:8080/",
     "height": 165
    },
    "executionInfo": {
     "elapsed": 10,
     "status": "error",
     "timestamp": 1630421452649,
     "user": {
      "displayName": "Bhaskar Goswami",
      "photoUrl": "https://lh3.googleusercontent.com/a-/AOh14GgDAQHyD6Iw8tWW5pq2HE0FRq9Of2V7uOCxZnwcfw=s64",
      "userId": "16193952757177378657"
     },
     "user_tz": -330
    },
    "id": "5EPt0pBNWvuE",
    "outputId": "806c6f85-1aa4-4619-ffa1-0b447bf23005"
   },
   "outputs": [
    {
     "ename": "TypeError",
     "evalue": "ignored",
     "output_type": "error",
     "traceback": [
      "\u001b[0;31m---------------------------------------------------------------------------\u001b[0m",
      "\u001b[0;31mTypeError\u001b[0m                                 Traceback (most recent call last)",
      "\u001b[0;32m<ipython-input-23-5410d42e4faf>\u001b[0m in \u001b[0;36m<module>\u001b[0;34m()\u001b[0m\n\u001b[0;32m----> 1\u001b[0;31m \u001b[0mthistuple\u001b[0m\u001b[0;34m[\u001b[0m\u001b[0;36m2\u001b[0m\u001b[0;34m]\u001b[0m \u001b[0;34m=\u001b[0m \u001b[0;34m\"orange\"\u001b[0m\u001b[0;34m\u001b[0m\u001b[0;34m\u001b[0m\u001b[0m\n\u001b[0m",
      "\u001b[0;31mTypeError\u001b[0m: 'tuple' object does not support item assignment"
     ]
    }
   ],
   "source": [
    "thistuple[2] = \"orange\""
   ]
  },
  {
   "cell_type": "markdown",
   "metadata": {
    "id": "5cFNLQ3VXoQT"
   },
   "source": [
    "## Tuple Methods"
   ]
  },
  {
   "cell_type": "markdown",
   "metadata": {
    "id": "gwedXawZXrPM"
   },
   "source": [
    "* count()\tReturns the number of times a specified value occurs in a tuple\n",
    "* index()\tSearches the tuple for a specified value and returns the position of where it was found"
   ]
  },
  {
   "cell_type": "markdown",
   "metadata": {
    "id": "GWzQdL_RXv1C"
   },
   "source": [
    "# Set Operations"
   ]
  },
  {
   "cell_type": "code",
   "execution_count": null,
   "metadata": {
    "colab": {
     "base_uri": "https://localhost:8080/"
    },
    "executionInfo": {
     "elapsed": 13,
     "status": "ok",
     "timestamp": 1630421453253,
     "user": {
      "displayName": "Bhaskar Goswami",
      "photoUrl": "https://lh3.googleusercontent.com/a-/AOh14GgDAQHyD6Iw8tWW5pq2HE0FRq9Of2V7uOCxZnwcfw=s64",
      "userId": "16193952757177378657"
     },
     "user_tz": -330
    },
    "id": "zLxBy-F1Xjnn",
    "outputId": "11da9e01-ba7d-491b-dc35-29b76152307e"
   },
   "outputs": [
    {
     "name": "stdout",
     "output_type": "stream",
     "text": [
      "apple\n",
      "banana\n",
      "cherry\n"
     ]
    }
   ],
   "source": [
    "#access items; cannot access items by referring to an index\n",
    "#example\n",
    "thisset = {\"apple\", \"banana\", \"cherry\"}\n",
    "for x in thisset:\n",
    "  print(x)"
   ]
  },
  {
   "cell_type": "markdown",
   "metadata": {
    "id": "6xpgHQUXXzHa"
   },
   "source": [
    "Sets are immutable. Once created, we cannot change its contents.\n"
   ]
  },
  {
   "cell_type": "code",
   "execution_count": null,
   "metadata": {
    "id": "VFZD7f52XxYk"
   },
   "outputs": [],
   "source": [
    "#adding items\n",
    "thisset.add(\"orange\")      #adding one item at a time\n",
    "thisset.update([\"orange\", \"mango\", \"grapes\"])       #adding more than one item at a time."
   ]
  },
  {
   "cell_type": "markdown",
   "metadata": {
    "id": "YP8C-JpSNdEg"
   },
   "source": [
    "Removing items from set"
   ]
  },
  {
   "cell_type": "code",
   "execution_count": null,
   "metadata": {
    "id": "20zelmuXX0hT"
   },
   "outputs": [],
   "source": [
    "#removing items\n",
    "thisset.remove(\"banana\")\n",
    "thisset.discard(\"banana\")\n",
    "x = thisset.pop()    #pop will remove only the last added element\n",
    "thisset.clear()   #empties the set\n",
    "del thisset   #delete the set completely"
   ]
  },
  {
   "cell_type": "code",
   "execution_count": null,
   "metadata": {
    "colab": {
     "base_uri": "https://localhost:8080/"
    },
    "executionInfo": {
     "elapsed": 848,
     "status": "ok",
     "timestamp": 1630421454840,
     "user": {
      "displayName": "Bhaskar Goswami",
      "photoUrl": "https://lh3.googleusercontent.com/a-/AOh14GgDAQHyD6Iw8tWW5pq2HE0FRq9Of2V7uOCxZnwcfw=s64",
      "userId": "16193952757177378657"
     },
     "user_tz": -330
    },
    "id": "tvFsPm81X1oa",
    "outputId": "b5056aeb-0741-42b3-9e7c-10e02484e2fa"
   },
   "outputs": [
    {
     "name": "stdout",
     "output_type": "stream",
     "text": [
      "{1, 2, 3, 'a', 'c', 'b'}\n"
     ]
    }
   ],
   "source": [
    "#join two sets\n",
    "set1 = {\"a\", \"b\" , \"c\"}\n",
    "set2 = {1, 2, 3}\n",
    "set3 = set1.union(set2)\n",
    "print(set3)"
   ]
  },
  {
   "cell_type": "markdown",
   "metadata": {
    "id": "UaXQ0y9WX6RO"
   },
   "source": [
    "## Set methods"
   ]
  },
  {
   "cell_type": "markdown",
   "metadata": {
    "id": "vDGSB7b2X8Yf"
   },
   "source": [
    "* add()\tAdds an element to the set\n",
    "* clear()\tRemoves all the elements from the set\n",
    "* copy()\tReturns a copy of the set\n",
    "* difference()\tReturns a set containing the difference between two or more sets\n",
    "* difference_update()\tRemoves the items in this set that are also included in another, specified set\n",
    "* discard()\tRemove the specified item\n",
    "* intersection()\tReturns a set, that is the intersection of two other sets\n",
    "* intersection_update()\tRemoves the items in this set that are not present in other, specified set(s)\n",
    "* isdisjoint()\tReturns whether two sets have a intersection or not\n",
    "* issubset()\tReturns whether another set contains this set or not\n",
    "* issuperset()\tReturns whether this set contains another set or not\n",
    "* pop()\tRemoves an element from the set\n",
    "* remove()\tRemoves the specified element\n",
    "* symmetric_difference()\tReturns a set with the symmetric differences of two sets\n",
    "* symmetric_difference_update()\tinserts the symmetric differences from this set and another\n",
    "* union()\tReturn a set containing the union of sets\n",
    "* update()\tUpdate the set with the union of this set and others"
   ]
  },
  {
   "cell_type": "markdown",
   "metadata": {
    "id": "GptO0szkZRiB"
   },
   "source": [
    "#Dictionary"
   ]
  },
  {
   "cell_type": "code",
   "execution_count": null,
   "metadata": {
    "colab": {
     "base_uri": "https://localhost:8080/"
    },
    "executionInfo": {
     "elapsed": 9,
     "status": "ok",
     "timestamp": 1630421454841,
     "user": {
      "displayName": "Bhaskar Goswami",
      "photoUrl": "https://lh3.googleusercontent.com/a-/AOh14GgDAQHyD6Iw8tWW5pq2HE0FRq9Of2V7uOCxZnwcfw=s64",
      "userId": "16193952757177378657"
     },
     "user_tz": -330
    },
    "id": "U0UIrlgIZVGG",
    "outputId": "fff00c21-0bd8-4007-8325-e96cfd75fcdf"
   },
   "outputs": [
    {
     "name": "stdout",
     "output_type": "stream",
     "text": [
      "{'e-id': 1221, 'e-name': 'Robert', 'dob': '01-01-1990'}\n"
     ]
    }
   ],
   "source": [
    "employee = {\"e-id\":1221,\n",
    "            \"e-name\":\"Robert\",\n",
    "            \"dob\":'01-01-1990'\n",
    "            }\n",
    "print(employee)"
   ]
  },
  {
   "cell_type": "markdown",
   "metadata": {
    "id": "ZmriR9PdW5Hj"
   },
   "source": [
    "# Dictionary Operations"
   ]
  },
  {
   "cell_type": "code",
   "execution_count": null,
   "metadata": {
    "id": "2tbx7tMhN338"
   },
   "outputs": [],
   "source": [
    "thisdict= {\"brand\": \"Ford\",\n",
    "  \"model\": \"Mustang\",\n",
    "  \"year\": 1964}\n",
    "#accessing items\n"
   ]
  },
  {
   "cell_type": "code",
   "execution_count": null,
   "metadata": {
    "colab": {
     "base_uri": "https://localhost:8080/"
    },
    "executionInfo": {
     "elapsed": 401,
     "status": "ok",
     "timestamp": 1642661047793,
     "user": {
      "displayName": "Shivanjali S",
      "photoUrl": "https://lh3.googleusercontent.com/a/default-user=s64",
      "userId": "04728940809119916650"
     },
     "user_tz": -330
    },
    "id": "X_0MddHUORrz",
    "outputId": "7105bc61-663d-4e97-ef1a-d29c7b50ec3d"
   },
   "outputs": [
    {
     "name": "stdout",
     "output_type": "stream",
     "text": [
      "Mustang\n"
     ]
    }
   ],
   "source": [
    "x = thisdict[\"model\"]  #or\n",
    "print(x) \n"
   ]
  },
  {
   "cell_type": "code",
   "execution_count": null,
   "metadata": {
    "colab": {
     "base_uri": "https://localhost:8080/"
    },
    "executionInfo": {
     "elapsed": 6,
     "status": "ok",
     "timestamp": 1642661050768,
     "user": {
      "displayName": "Shivanjali S",
      "photoUrl": "https://lh3.googleusercontent.com/a/default-user=s64",
      "userId": "04728940809119916650"
     },
     "user_tz": -330
    },
    "id": "Jq4Tgm84Oei8",
    "outputId": "1fa0223f-5db2-4a35-b81a-59f46dc94bfb"
   },
   "outputs": [
    {
     "name": "stdout",
     "output_type": "stream",
     "text": [
      "Mustang\n"
     ]
    }
   ],
   "source": [
    "x = thisdict.get(\"model\") #using get() method\n",
    "print(x)"
   ]
  },
  {
   "cell_type": "code",
   "execution_count": null,
   "metadata": {
    "colab": {
     "base_uri": "https://localhost:8080/"
    },
    "executionInfo": {
     "elapsed": 14,
     "status": "ok",
     "timestamp": 1630421455455,
     "user": {
      "displayName": "Bhaskar Goswami",
      "photoUrl": "https://lh3.googleusercontent.com/a-/AOh14GgDAQHyD6Iw8tWW5pq2HE0FRq9Of2V7uOCxZnwcfw=s64",
      "userId": "16193952757177378657"
     },
     "user_tz": -330
    },
    "id": "LKBAROduWvYn",
    "outputId": "0063431c-cca0-448f-f625-74923accd2be"
   },
   "outputs": [
    {
     "name": "stdout",
     "output_type": "stream",
     "text": [
      "brand\n",
      "model\n",
      "year\n",
      "Ford\n",
      "Mustang\n",
      "2018\n",
      "brand Ford\n",
      "model Mustang\n",
      "year 2018\n"
     ]
    }
   ],
   "source": [
    "\n",
    "#changing values\n",
    "thisdict[\"year\"] = 2018\n",
    "\n",
    "#looping through dictionary\n",
    "for x in thisdict:\n",
    "  print(x)\n",
    "#or\n",
    "for x in thisdict.values():   #looping using the dict. values\n",
    "  print(x)\n",
    "#or\n",
    "for key, value in thisdict.items():   #looping using key and value\n",
    "  print(key, value)"
   ]
  },
  {
   "cell_type": "code",
   "execution_count": null,
   "metadata": {
    "colab": {
     "base_uri": "https://localhost:8080/"
    },
    "executionInfo": {
     "elapsed": 13,
     "status": "ok",
     "timestamp": 1630421455457,
     "user": {
      "displayName": "Bhaskar Goswami",
      "photoUrl": "https://lh3.googleusercontent.com/a-/AOh14GgDAQHyD6Iw8tWW5pq2HE0FRq9Of2V7uOCxZnwcfw=s64",
      "userId": "16193952757177378657"
     },
     "user_tz": -330
    },
    "id": "bjiRybRVW8vW",
    "outputId": "adc3c617-f9b0-4468-923b-69600b00b941"
   },
   "outputs": [
    {
     "name": "stdout",
     "output_type": "stream",
     "text": [
      "Yes, 'model' is one of the keys in the thisdict dictionary\n"
     ]
    }
   ],
   "source": [
    "#check if a key exists\n",
    "if \"model\" in thisdict:#using membership operator 'in'\n",
    "  print(\"Yes, 'model' is one of the keys in the thisdict dictionary\") \n"
   ]
  },
  {
   "cell_type": "code",
   "execution_count": null,
   "metadata": {
    "colab": {
     "base_uri": "https://localhost:8080/"
    },
    "executionInfo": {
     "elapsed": 13,
     "status": "ok",
     "timestamp": 1630421456195,
     "user": {
      "displayName": "Bhaskar Goswami",
      "photoUrl": "https://lh3.googleusercontent.com/a-/AOh14GgDAQHyD6Iw8tWW5pq2HE0FRq9Of2V7uOCxZnwcfw=s64",
      "userId": "16193952757177378657"
     },
     "user_tz": -330
    },
    "id": "T4t-BjhdW-j0",
    "outputId": "3d552d84-2d81-48ba-a1be-87aec88fcdac"
   },
   "outputs": [
    {
     "name": "stdout",
     "output_type": "stream",
     "text": [
      "{'brand': 'Ford', 'model': 'Mustang', 'year': 2018, 'color': 'red'}\n"
     ]
    }
   ],
   "source": [
    "#adding items to dictionary\n",
    "thisdict[\"color\"] = \"red\"\n",
    "print(thisdict)"
   ]
  },
  {
   "cell_type": "code",
   "execution_count": null,
   "metadata": {
    "colab": {
     "base_uri": "https://localhost:8080/"
    },
    "executionInfo": {
     "elapsed": 10,
     "status": "ok",
     "timestamp": 1630421456197,
     "user": {
      "displayName": "Bhaskar Goswami",
      "photoUrl": "https://lh3.googleusercontent.com/a-/AOh14GgDAQHyD6Iw8tWW5pq2HE0FRq9Of2V7uOCxZnwcfw=s64",
      "userId": "16193952757177378657"
     },
     "user_tz": -330
    },
    "id": "9Ea5EDlrW_3M",
    "outputId": "eeebe78c-d4a6-4d11-de5e-4036218f1a73"
   },
   "outputs": [
    {
     "name": "stdout",
     "output_type": "stream",
     "text": [
      "{'brand': 'Ford', 'year': 2018, 'color': 'red'}\n",
      "{'brand': 'Ford', 'year': 2018}\n",
      "{}\n"
     ]
    }
   ],
   "source": [
    "#removing items\n",
    "thisdict.pop(\"model\")  #using pop() method\n",
    "print(thisdict)\n",
    "\n",
    "thisdict.popitem()    #popitem() removes the last inserted item from the dictionary;in versions before 3.7 , it removes a random item\n",
    "print(thisdict)\n",
    "\n",
    "thisdict.clear()   #clear method clears the dictionary\n",
    "print(thisdict)\n",
    "\n",
    "#del can also delete the complete dictionary\n",
    "del thisdict"
   ]
  },
  {
   "cell_type": "markdown",
   "metadata": {
    "id": "UMr8G4ZAXDKW"
   },
   "source": [
    "# Dictionary methods\n",
    "* clear()-\tRemoves all the elements from the dictionary - example\n",
    "\n",
    "* copy()-\tReturns a copy of the dictionary -example\n",
    "\n",
    "* fromkeys()-\tReturns a dictionary with the specified keys and value\n",
    "\n",
    "* get()-\tReturns the value of the specified key\n",
    "\n",
    "* items()-\tReturns a list containing a tuple for each key value pair\n",
    "\n",
    "* keys()-\tReturns a list containing the dictionary's keys -example\n",
    "\n",
    "* values()-\tReturns a list of all the values in the dictionary -example\n",
    "\n",
    "* pop()-\tRemoves the element with the specified key -example\n",
    "\n",
    "* popitem()-\tRemoves the last inserted key-value pair\n",
    "\n",
    "* setdefault()-\tReturns the value of the specified key. If the key does not exist: insert the key, with the specified value\n",
    "\n",
    "* update()-\tUpdates the dictionary with the specified key-value pairs -example\n",
    "\n"
   ]
  },
  {
   "cell_type": "markdown",
   "metadata": {
    "id": "KhBDluqwaAsx"
   },
   "source": [
    "#Strings"
   ]
  },
  {
   "cell_type": "code",
   "execution_count": null,
   "metadata": {
    "colab": {
     "base_uri": "https://localhost:8080/"
    },
    "executionInfo": {
     "elapsed": 396,
     "status": "ok",
     "timestamp": 1642661510570,
     "user": {
      "displayName": "Shivanjali S",
      "photoUrl": "https://lh3.googleusercontent.com/a/default-user=s64",
      "userId": "04728940809119916650"
     },
     "user_tz": -330
    },
    "id": "4WoNsJnmaC2r",
    "outputId": "022c5cb8-9def-4c5a-958f-a3dbb6a3b2a0"
   },
   "outputs": [
    {
     "name": "stdout",
     "output_type": "stream",
     "text": [
      "['Hello', 'World']\n",
      "Hi-World\n"
     ]
    }
   ],
   "source": [
    "word = \"Hello-World\"\n",
    "\n",
    "print(type(word))\n"
   ]
  },
  {
   "cell_type": "markdown",
   "metadata": {
    "id": "Xyx6rsxAQE5c"
   },
   "source": [
    "Replace() Split() "
   ]
  },
  {
   "cell_type": "code",
   "execution_count": null,
   "metadata": {
    "id": "DEh1qtbzQmcD"
   },
   "outputs": [],
   "source": [
    "print(word.split(\"-\"))"
   ]
  },
  {
   "cell_type": "code",
   "execution_count": null,
   "metadata": {
    "id": "nDOSt1ZiQmTB"
   },
   "outputs": [],
   "source": [
    "print(word.replace(\"Hello\",\"Hi\"))"
   ]
  },
  {
   "cell_type": "markdown",
   "metadata": {
    "id": "l-kMTrEJfNKC"
   },
   "source": [
    "#Itertools"
   ]
  },
  {
   "cell_type": "code",
   "execution_count": null,
   "metadata": {
    "colab": {
     "base_uri": "https://localhost:8080/"
    },
    "executionInfo": {
     "elapsed": 23,
     "status": "ok",
     "timestamp": 1630421457616,
     "user": {
      "displayName": "Bhaskar Goswami",
      "photoUrl": "https://lh3.googleusercontent.com/a-/AOh14GgDAQHyD6Iw8tWW5pq2HE0FRq9Of2V7uOCxZnwcfw=s64",
      "userId": "16193952757177378657"
     },
     "user_tz": -330
    },
    "id": "7mEAJvmSfPXH",
    "outputId": "50df4024-938d-4758-8e33-bbeb4ff70387"
   },
   "outputs": [
    {
     "name": "stdout",
     "output_type": "stream",
     "text": [
      "5 10 15 20 25 30 "
     ]
    }
   ],
   "source": [
    "import itertools\n",
    "   \n",
    "# for in loop\n",
    "for i in itertools.count(5, 5):\n",
    "    if i == 35:\n",
    "        break\n",
    "    else:\n",
    "        print(i, end =\" \")"
   ]
  },
  {
   "cell_type": "code",
   "execution_count": null,
   "metadata": {
    "colab": {
     "base_uri": "https://localhost:8080/"
    },
    "executionInfo": {
     "elapsed": 17,
     "status": "ok",
     "timestamp": 1630421457617,
     "user": {
      "displayName": "Bhaskar Goswami",
      "photoUrl": "https://lh3.googleusercontent.com/a-/AOh14GgDAQHyD6Iw8tWW5pq2HE0FRq9Of2V7uOCxZnwcfw=s64",
      "userId": "16193952757177378657"
     },
     "user_tz": -330
    },
    "id": "aqnYpiLJfPZ3",
    "outputId": "09aa951a-ef79-44e8-b00b-e7e803191bae"
   },
   "outputs": [
    {
     "name": "stdout",
     "output_type": "stream",
     "text": [
      "A B A B A B A B "
     ]
    }
   ],
   "source": [
    "import itertools\n",
    "count = 0\n",
    "# for in loop\n",
    "for i in itertools.cycle('AB'):\n",
    "    if count > 7:\n",
    "        break\n",
    "    else:\n",
    "        print(i, end = \" \")\n",
    "        count += 1"
   ]
  },
  {
   "cell_type": "code",
   "execution_count": null,
   "metadata": {
    "colab": {
     "base_uri": "https://localhost:8080/"
    },
    "executionInfo": {
     "elapsed": 14,
     "status": "ok",
     "timestamp": 1630421457618,
     "user": {
      "displayName": "Bhaskar Goswami",
      "photoUrl": "https://lh3.googleusercontent.com/a-/AOh14GgDAQHyD6Iw8tWW5pq2HE0FRq9Of2V7uOCxZnwcfw=s64",
      "userId": "16193952757177378657"
     },
     "user_tz": -330
    },
    "id": "uuGjU9jTfPdg",
    "outputId": "2b781900-4145-4d77-dfc5-8f30e8910486"
   },
   "outputs": [
    {
     "name": "stdout",
     "output_type": "stream",
     "text": [
      "Geeks for Geeks Geeks for Geeks "
     ]
    }
   ],
   "source": [
    "import itertools\n",
    "l = ['Geeks', 'for', 'Geeks']\n",
    "# defining iterator\n",
    "iterators = itertools.cycle(l)\n",
    "# for in loop\n",
    "for i in range(6):\n",
    "    # Using next function\n",
    "    print(next(iterators), end = \" \")"
   ]
  },
  {
   "cell_type": "markdown",
   "metadata": {
    "id": "hjd9s9xfYAtY"
   },
   "source": [
    "# python slicing operation"
   ]
  },
  {
   "cell_type": "markdown",
   "metadata": {
    "id": "nJlD-fZTYC5v"
   },
   "source": [
    "Used with lists, tuples etc."
   ]
  },
  {
   "cell_type": "markdown",
   "metadata": {
    "id": "TjIad5fBYwr8"
   },
   "source": [
    "# Functions"
   ]
  },
  {
   "cell_type": "code",
   "execution_count": null,
   "metadata": {
    "id": "5MR90brIYup3"
   },
   "outputs": [],
   "source": [
    "#defining a function\n",
    "def my_function():\n",
    "  print(\"Hello from a function\")"
   ]
  },
  {
   "cell_type": "code",
   "execution_count": null,
   "metadata": {
    "colab": {
     "base_uri": "https://localhost:8080/"
    },
    "executionInfo": {
     "elapsed": 27,
     "status": "ok",
     "timestamp": 1630421465620,
     "user": {
      "displayName": "Bhaskar Goswami",
      "photoUrl": "https://lh3.googleusercontent.com/a-/AOh14GgDAQHyD6Iw8tWW5pq2HE0FRq9Of2V7uOCxZnwcfw=s64",
      "userId": "16193952757177378657"
     },
     "user_tz": -330
    },
    "id": "7ozpJYl7Yym-",
    "outputId": "eb98aff9-a560-41ee-cc41-1a4c2883dc78"
   },
   "outputs": [
    {
     "name": "stdout",
     "output_type": "stream",
     "text": [
      "Hello from a function\n"
     ]
    }
   ],
   "source": [
    "#calling\n",
    "my_function()"
   ]
  },
  {
   "cell_type": "code",
   "execution_count": null,
   "metadata": {
    "colab": {
     "base_uri": "https://localhost:8080/"
    },
    "executionInfo": {
     "elapsed": 24,
     "status": "ok",
     "timestamp": 1630421465620,
     "user": {
      "displayName": "Bhaskar Goswami",
      "photoUrl": "https://lh3.googleusercontent.com/a-/AOh14GgDAQHyD6Iw8tWW5pq2HE0FRq9Of2V7uOCxZnwcfw=s64",
      "userId": "16193952757177378657"
     },
     "user_tz": -330
    },
    "id": "PL51IXGIcsgv",
    "outputId": "9d76c777-afee-416c-ea75-ba6979e90bf4"
   },
   "outputs": [
    {
     "name": "stdout",
     "output_type": "stream",
     "text": [
      "5\n"
     ]
    }
   ],
   "source": [
    "def add(a,b):\n",
    "  c = a+b\n",
    "  print(c)\n",
    "add(2,3)"
   ]
  },
  {
   "cell_type": "code",
   "execution_count": null,
   "metadata": {
    "colab": {
     "base_uri": "https://localhost:8080/"
    },
    "executionInfo": {
     "elapsed": 18,
     "status": "ok",
     "timestamp": 1630421465621,
     "user": {
      "displayName": "Bhaskar Goswami",
      "photoUrl": "https://lh3.googleusercontent.com/a-/AOh14GgDAQHyD6Iw8tWW5pq2HE0FRq9Of2V7uOCxZnwcfw=s64",
      "userId": "16193952757177378657"
     },
     "user_tz": -330
    },
    "id": "g6M2BnmWc4uT",
    "outputId": "dd73c0d4-37c9-4dac-bb30-1cf9ebf6feb9"
   },
   "outputs": [
    {
     "name": "stdout",
     "output_type": "stream",
     "text": [
      "5\n"
     ]
    }
   ],
   "source": [
    "def add(a,b):\n",
    "  c = a+b\n",
    "  return c\n",
    "x = add(2,3)\n",
    "print(x)"
   ]
  },
  {
   "cell_type": "code",
   "execution_count": null,
   "metadata": {
    "id": "FNBD9l46Yzr2"
   },
   "outputs": [],
   "source": [
    "#passing arguments\n",
    "def my_function(fname):\n",
    "  print(fname + \" Refsnes\")   #always call function with the require number of args;not less,not more"
   ]
  },
  {
   "cell_type": "code",
   "execution_count": null,
   "metadata": {
    "id": "F5QzbMswY2HE"
   },
   "outputs": [],
   "source": [
    "#default parameters\n",
    "def my_function(country = \"Norway\"):\n",
    "  print(\"I am from \" + country)"
   ]
  },
  {
   "cell_type": "code",
   "execution_count": null,
   "metadata": {
    "id": "ctXcsaJBY3Oz"
   },
   "outputs": [],
   "source": [
    "#return values\n",
    "def my_function(x):\n",
    "  return 5 * x"
   ]
  },
  {
   "cell_type": "markdown",
   "metadata": {
    "id": "ev4iBto-Y5-f"
   },
   "source": [
    "# Lambda Functions"
   ]
  },
  {
   "cell_type": "markdown",
   "metadata": {
    "id": "2v5dsviZY8TW"
   },
   "source": [
    "A lambda function is a small anonymous function.\n",
    "\n",
    "A lambda function can take any number of arguments, but can only have one expression."
   ]
  },
  {
   "cell_type": "code",
   "execution_count": null,
   "metadata": {
    "colab": {
     "base_uri": "https://localhost:8080/"
    },
    "executionInfo": {
     "elapsed": 6,
     "status": "ok",
     "timestamp": 1630421467195,
     "user": {
      "displayName": "Bhaskar Goswami",
      "photoUrl": "https://lh3.googleusercontent.com/a-/AOh14GgDAQHyD6Iw8tWW5pq2HE0FRq9Of2V7uOCxZnwcfw=s64",
      "userId": "16193952757177378657"
     },
     "user_tz": -330
    },
    "id": "pJIKOnorY6dA",
    "outputId": "a3625347-28e4-4a7f-f821-f2feeee9f720"
   },
   "outputs": [
    {
     "name": "stdout",
     "output_type": "stream",
     "text": [
      "30\n"
     ]
    }
   ],
   "source": [
    "#example\n",
    "x = lambda a, b : a * b\n",
    "print(x(5, 6))"
   ]
  },
  {
   "cell_type": "markdown",
   "metadata": {
    "id": "nSTwLt_Do_bw"
   },
   "source": [
    "#Classes and Objects"
   ]
  },
  {
   "cell_type": "code",
   "execution_count": null,
   "metadata": {
    "colab": {
     "base_uri": "https://localhost:8080/"
    },
    "executionInfo": {
     "elapsed": 6,
     "status": "ok",
     "timestamp": 1630421468190,
     "user": {
      "displayName": "Bhaskar Goswami",
      "photoUrl": "https://lh3.googleusercontent.com/a-/AOh14GgDAQHyD6Iw8tWW5pq2HE0FRq9Of2V7uOCxZnwcfw=s64",
      "userId": "16193952757177378657"
     },
     "user_tz": -330
    },
    "id": "RPWyZCG_pBFt",
    "outputId": "c91fffe0-392c-4cb7-9c21-5b6d9612a391"
   },
   "outputs": [
    {
     "name": "stdout",
     "output_type": "stream",
     "text": [
      "Petrol\n",
      "Engine Started : Engine Type  Petrol\n",
      "Ready to GO : Horse Power  750 HP\n"
     ]
    }
   ],
   "source": [
    "# Python3 program to\n",
    "# demonstrate instantiating\n",
    "# a class\n",
    "class Car:\n",
    "    # A simple class\n",
    "    # attribute\n",
    "    attr1 = \"Petrol\"\n",
    "    attr2 = \"750 HP\"\n",
    "    # A sample method \n",
    "    def start(self):\n",
    "        print(\"Engine Started : Engine Type \", self.attr1)\n",
    "        print(\"Ready to GO : Horse Power \", self.attr2)\n",
    "# Driver code\n",
    "# Object instantiation\n",
    "BMW = Car()\n",
    "# Accessing class attributes\n",
    "# and method through objects\n",
    "print(BMW.attr1)\n",
    "BMW.start()"
   ]
  },
  {
   "cell_type": "code",
   "execution_count": null,
   "metadata": {
    "colab": {
     "base_uri": "https://localhost:8080/"
    },
    "executionInfo": {
     "elapsed": 12,
     "status": "ok",
     "timestamp": 1630421468793,
     "user": {
      "displayName": "Bhaskar Goswami",
      "photoUrl": "https://lh3.googleusercontent.com/a-/AOh14GgDAQHyD6Iw8tWW5pq2HE0FRq9Of2V7uOCxZnwcfw=s64",
      "userId": "16193952757177378657"
     },
     "user_tz": -330
    },
    "id": "AxPQFQHapft1",
    "outputId": "5c366519-1726-4129-91b9-62aff682acfd"
   },
   "outputs": [
    {
     "name": "stdout",
     "output_type": "stream",
     "text": [
      "Hello, my name is Robert\n"
     ]
    }
   ],
   "source": [
    "class Person:\n",
    "    # init method or constructor \n",
    "    def __init__(self, name):\n",
    "        self.name = name\n",
    "    # Sample Method \n",
    "    def say_hi(self):\n",
    "        print('Hello, my name is', self.name)\n",
    "p = Person('Robert')\n",
    "p.say_hi()"
   ]
  },
  {
   "cell_type": "code",
   "execution_count": null,
   "metadata": {
    "id": "4M4DmAT_sUD8"
   },
   "outputs": [],
   "source": []
  }
 ],
 "metadata": {
  "colab": {
   "collapsed_sections": [],
   "name": "Introduction to Python.ipynb",
   "provenance": [
    {
     "file_id": "1xxVxiNCfLa0DM9_SB2h_znxNTcicBDMW",
     "timestamp": 1642657639054
    }
   ]
  },
  "kernelspec": {
   "display_name": "Python 3 (ipykernel)",
   "language": "python",
   "name": "python3"
  },
  "language_info": {
   "codemirror_mode": {
    "name": "ipython",
    "version": 3
   },
   "file_extension": ".py",
   "mimetype": "text/x-python",
   "name": "python",
   "nbconvert_exporter": "python",
   "pygments_lexer": "ipython3",
   "version": "3.9.13"
  }
 },
 "nbformat": 4,
 "nbformat_minor": 1
}
