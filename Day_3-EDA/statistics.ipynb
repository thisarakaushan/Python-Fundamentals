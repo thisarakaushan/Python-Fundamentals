{
 "cells": [
  {
   "cell_type": "markdown",
   "id": "d10e744b",
   "metadata": {},
   "source": [
    "# Mean"
   ]
  },
  {
   "cell_type": "code",
   "execution_count": 29,
   "id": "a4bcd3bb",
   "metadata": {},
   "outputs": [],
   "source": [
    "import numpy as np"
   ]
  },
  {
   "cell_type": "code",
   "execution_count": 30,
   "id": "12b0e115",
   "metadata": {},
   "outputs": [
    {
     "data": {
      "text/plain": [
       "5.5"
      ]
     },
     "execution_count": 30,
     "metadata": {},
     "output_type": "execute_result"
    }
   ],
   "source": [
    "np.mean([1,2,3,4,5,6,7,8,9,10])"
   ]
  },
  {
   "cell_type": "markdown",
   "id": "1bf05b85",
   "metadata": {},
   "source": [
    "# Median"
   ]
  },
  {
   "cell_type": "code",
   "execution_count": 31,
   "id": "3b756d77",
   "metadata": {},
   "outputs": [
    {
     "data": {
      "text/plain": [
       "5.0"
      ]
     },
     "execution_count": 31,
     "metadata": {},
     "output_type": "execute_result"
    }
   ],
   "source": [
    "np.median([1,2,3,4,5,6,7,8,9])"
   ]
  },
  {
   "cell_type": "code",
   "execution_count": 32,
   "id": "bd2fa1d2",
   "metadata": {},
   "outputs": [
    {
     "data": {
      "text/plain": [
       "5.5"
      ]
     },
     "execution_count": 32,
     "metadata": {},
     "output_type": "execute_result"
    }
   ],
   "source": [
    "np.median([1,2,3,4,5,6,7,8,9,10])"
   ]
  },
  {
   "cell_type": "markdown",
   "id": "79fe5c80",
   "metadata": {},
   "source": [
    "# Mode"
   ]
  },
  {
   "cell_type": "code",
   "execution_count": 34,
   "id": "e8a1929f",
   "metadata": {},
   "outputs": [
    {
     "data": {
      "text/plain": [
       "ModeResult(mode=array([1]), count=array([1]))"
      ]
     },
     "execution_count": 34,
     "metadata": {},
     "output_type": "execute_result"
    }
   ],
   "source": [
    "from scipy import stats\n",
    "stats.mode([1,2,3,4,5,6,7,8,9,10])"
   ]
  },
  {
   "cell_type": "markdown",
   "id": "c2015e0f",
   "metadata": {},
   "source": [
    "# Varience"
   ]
  },
  {
   "cell_type": "code",
   "execution_count": 35,
   "id": "c277a44e",
   "metadata": {},
   "outputs": [
    {
     "name": "stdout",
     "output_type": "stream",
     "text": [
      "8.25\n"
     ]
    }
   ],
   "source": [
    "a = np.var([1,2,3,4,5,6,7,8,9,10])\n",
    "print(a)"
   ]
  },
  {
   "cell_type": "code",
   "execution_count": 36,
   "id": "utility-shadow",
   "metadata": {},
   "outputs": [
    {
     "data": {
      "text/plain": [
       "2.8722813232690143"
      ]
     },
     "execution_count": 36,
     "metadata": {},
     "output_type": "execute_result"
    }
   ],
   "source": [
    "a**0.5"
   ]
  },
  {
   "cell_type": "markdown",
   "id": "0b8462e7",
   "metadata": {},
   "source": [
    "# Standard Daviation"
   ]
  },
  {
   "cell_type": "code",
   "execution_count": 37,
   "id": "22bfac5e",
   "metadata": {},
   "outputs": [
    {
     "data": {
      "text/plain": [
       "2.8722813232690143"
      ]
     },
     "execution_count": 37,
     "metadata": {},
     "output_type": "execute_result"
    }
   ],
   "source": [
    "np.std([1,2,3,4,5,6,7,8,9,10])"
   ]
  },
  {
   "cell_type": "markdown",
   "id": "ee89251c",
   "metadata": {},
   "source": [
    "# Skewness"
   ]
  },
  {
   "cell_type": "code",
   "execution_count": 38,
   "id": "994ad3fa",
   "metadata": {},
   "outputs": [
    {
     "data": {
      "text/plain": [
       "0.0326966578855933"
      ]
     },
     "execution_count": 38,
     "metadata": {},
     "output_type": "execute_result"
    }
   ],
   "source": [
    "from scipy.stats import skew\n",
    "skew([88, 85, 82, 97, 67, 77, 74, 86, 81, 95, 77, 88, 85, 76, 81],bias = False)"
   ]
  },
  {
   "cell_type": "markdown",
   "id": "96be9c6c",
   "metadata": {},
   "source": [
    "# Kurtosis"
   ]
  },
  {
   "cell_type": "code",
   "execution_count": 39,
   "id": "c3d22819",
   "metadata": {},
   "outputs": [
    {
     "data": {
      "text/plain": [
       "0.11815715154945083"
      ]
     },
     "execution_count": 39,
     "metadata": {},
     "output_type": "execute_result"
    }
   ],
   "source": [
    "from scipy.stats import kurtosis\n",
    "kurtosis([88, 85, 82, 97, 67, 77, 74, 86, 81, 95, 77, 88, 85, 76, 81],bias=False)"
   ]
  },
  {
   "cell_type": "code",
   "execution_count": 40,
   "id": "427d35f9",
   "metadata": {},
   "outputs": [],
   "source": [
    "import pandas as pd"
   ]
  },
  {
   "cell_type": "code",
   "execution_count": 45,
   "id": "d426098e",
   "metadata": {},
   "outputs": [],
   "source": [
    "df = pd.DataFrame()\n",
    "df['Column1'] = np.random.randint(1,100,10)\n",
    "df['Column2'] = np.random.randint(1,100,10)\n",
    "df['Column3'] = np.random.randint(1,100,10)\n",
    "df['Column4'] = np.random.randint(1,100,10)\n",
    "df['Column5'] = np.random.randint(1,100,10)\n",
    "df['Column6'] = np.random.randint(1,100,10)\n",
    "df['Column7'] = np.random.randint(1,100,10)\n",
    "df['Column8'] = np.random.randint(1,100,10)\n",
    "df['Column9'] = np.random.randint(1,100,10)\n",
    "df['Column10'] = np.random.randint(1,100,10)"
   ]
  },
  {
   "cell_type": "code",
   "execution_count": 46,
   "id": "ecc75f65",
   "metadata": {},
   "outputs": [
    {
     "data": {
      "text/html": [
       "<div>\n",
       "<style scoped>\n",
       "    .dataframe tbody tr th:only-of-type {\n",
       "        vertical-align: middle;\n",
       "    }\n",
       "\n",
       "    .dataframe tbody tr th {\n",
       "        vertical-align: top;\n",
       "    }\n",
       "\n",
       "    .dataframe thead th {\n",
       "        text-align: right;\n",
       "    }\n",
       "</style>\n",
       "<table border=\"1\" class=\"dataframe\">\n",
       "  <thead>\n",
       "    <tr style=\"text-align: right;\">\n",
       "      <th></th>\n",
       "      <th>Column1</th>\n",
       "      <th>Column2</th>\n",
       "      <th>Column3</th>\n",
       "      <th>Column4</th>\n",
       "      <th>Column5</th>\n",
       "      <th>Column6</th>\n",
       "      <th>Column7</th>\n",
       "      <th>Column8</th>\n",
       "      <th>Column9</th>\n",
       "      <th>Column10</th>\n",
       "    </tr>\n",
       "  </thead>\n",
       "  <tbody>\n",
       "    <tr>\n",
       "      <th>0</th>\n",
       "      <td>2</td>\n",
       "      <td>13</td>\n",
       "      <td>38</td>\n",
       "      <td>37</td>\n",
       "      <td>69</td>\n",
       "      <td>73</td>\n",
       "      <td>33</td>\n",
       "      <td>64</td>\n",
       "      <td>59</td>\n",
       "      <td>32</td>\n",
       "    </tr>\n",
       "    <tr>\n",
       "      <th>1</th>\n",
       "      <td>17</td>\n",
       "      <td>21</td>\n",
       "      <td>7</td>\n",
       "      <td>85</td>\n",
       "      <td>86</td>\n",
       "      <td>25</td>\n",
       "      <td>90</td>\n",
       "      <td>83</td>\n",
       "      <td>74</td>\n",
       "      <td>79</td>\n",
       "    </tr>\n",
       "    <tr>\n",
       "      <th>2</th>\n",
       "      <td>11</td>\n",
       "      <td>82</td>\n",
       "      <td>68</td>\n",
       "      <td>74</td>\n",
       "      <td>78</td>\n",
       "      <td>19</td>\n",
       "      <td>95</td>\n",
       "      <td>3</td>\n",
       "      <td>2</td>\n",
       "      <td>42</td>\n",
       "    </tr>\n",
       "    <tr>\n",
       "      <th>3</th>\n",
       "      <td>34</td>\n",
       "      <td>43</td>\n",
       "      <td>57</td>\n",
       "      <td>60</td>\n",
       "      <td>38</td>\n",
       "      <td>33</td>\n",
       "      <td>53</td>\n",
       "      <td>77</td>\n",
       "      <td>10</td>\n",
       "      <td>38</td>\n",
       "    </tr>\n",
       "    <tr>\n",
       "      <th>4</th>\n",
       "      <td>82</td>\n",
       "      <td>77</td>\n",
       "      <td>18</td>\n",
       "      <td>52</td>\n",
       "      <td>46</td>\n",
       "      <td>89</td>\n",
       "      <td>71</td>\n",
       "      <td>25</td>\n",
       "      <td>73</td>\n",
       "      <td>43</td>\n",
       "    </tr>\n",
       "    <tr>\n",
       "      <th>5</th>\n",
       "      <td>38</td>\n",
       "      <td>90</td>\n",
       "      <td>88</td>\n",
       "      <td>22</td>\n",
       "      <td>58</td>\n",
       "      <td>96</td>\n",
       "      <td>73</td>\n",
       "      <td>33</td>\n",
       "      <td>45</td>\n",
       "      <td>67</td>\n",
       "    </tr>\n",
       "    <tr>\n",
       "      <th>6</th>\n",
       "      <td>82</td>\n",
       "      <td>44</td>\n",
       "      <td>78</td>\n",
       "      <td>93</td>\n",
       "      <td>43</td>\n",
       "      <td>9</td>\n",
       "      <td>33</td>\n",
       "      <td>55</td>\n",
       "      <td>82</td>\n",
       "      <td>83</td>\n",
       "    </tr>\n",
       "    <tr>\n",
       "      <th>7</th>\n",
       "      <td>50</td>\n",
       "      <td>58</td>\n",
       "      <td>53</td>\n",
       "      <td>43</td>\n",
       "      <td>34</td>\n",
       "      <td>33</td>\n",
       "      <td>69</td>\n",
       "      <td>57</td>\n",
       "      <td>45</td>\n",
       "      <td>27</td>\n",
       "    </tr>\n",
       "    <tr>\n",
       "      <th>8</th>\n",
       "      <td>13</td>\n",
       "      <td>99</td>\n",
       "      <td>77</td>\n",
       "      <td>32</td>\n",
       "      <td>11</td>\n",
       "      <td>73</td>\n",
       "      <td>69</td>\n",
       "      <td>10</td>\n",
       "      <td>18</td>\n",
       "      <td>86</td>\n",
       "    </tr>\n",
       "    <tr>\n",
       "      <th>9</th>\n",
       "      <td>94</td>\n",
       "      <td>93</td>\n",
       "      <td>84</td>\n",
       "      <td>35</td>\n",
       "      <td>46</td>\n",
       "      <td>93</td>\n",
       "      <td>72</td>\n",
       "      <td>93</td>\n",
       "      <td>90</td>\n",
       "      <td>86</td>\n",
       "    </tr>\n",
       "  </tbody>\n",
       "</table>\n",
       "</div>"
      ],
      "text/plain": [
       "   Column1  Column2  Column3  Column4  Column5  Column6  Column7  Column8  \\\n",
       "0        2       13       38       37       69       73       33       64   \n",
       "1       17       21        7       85       86       25       90       83   \n",
       "2       11       82       68       74       78       19       95        3   \n",
       "3       34       43       57       60       38       33       53       77   \n",
       "4       82       77       18       52       46       89       71       25   \n",
       "5       38       90       88       22       58       96       73       33   \n",
       "6       82       44       78       93       43        9       33       55   \n",
       "7       50       58       53       43       34       33       69       57   \n",
       "8       13       99       77       32       11       73       69       10   \n",
       "9       94       93       84       35       46       93       72       93   \n",
       "\n",
       "   Column9  Column10  \n",
       "0       59        32  \n",
       "1       74        79  \n",
       "2        2        42  \n",
       "3       10        38  \n",
       "4       73        43  \n",
       "5       45        67  \n",
       "6       82        83  \n",
       "7       45        27  \n",
       "8       18        86  \n",
       "9       90        86  "
      ]
     },
     "execution_count": 46,
     "metadata": {},
     "output_type": "execute_result"
    }
   ],
   "source": [
    "df"
   ]
  },
  {
   "cell_type": "markdown",
   "id": "d9a90f20",
   "metadata": {},
   "source": [
    "# Correlation "
   ]
  },
  {
   "cell_type": "code",
   "execution_count": 47,
   "id": "951c6d7f",
   "metadata": {},
   "outputs": [
    {
     "data": {
      "text/html": [
       "<div>\n",
       "<style scoped>\n",
       "    .dataframe tbody tr th:only-of-type {\n",
       "        vertical-align: middle;\n",
       "    }\n",
       "\n",
       "    .dataframe tbody tr th {\n",
       "        vertical-align: top;\n",
       "    }\n",
       "\n",
       "    .dataframe thead th {\n",
       "        text-align: right;\n",
       "    }\n",
       "</style>\n",
       "<table border=\"1\" class=\"dataframe\">\n",
       "  <thead>\n",
       "    <tr style=\"text-align: right;\">\n",
       "      <th></th>\n",
       "      <th>Column1</th>\n",
       "      <th>Column2</th>\n",
       "      <th>Column3</th>\n",
       "      <th>Column4</th>\n",
       "      <th>Column5</th>\n",
       "      <th>Column6</th>\n",
       "      <th>Column7</th>\n",
       "      <th>Column8</th>\n",
       "      <th>Column9</th>\n",
       "      <th>Column10</th>\n",
       "    </tr>\n",
       "  </thead>\n",
       "  <tbody>\n",
       "    <tr>\n",
       "      <th>Column1</th>\n",
       "      <td>1.000000</td>\n",
       "      <td>0.301329</td>\n",
       "      <td>0.191949</td>\n",
       "      <td>0.056544</td>\n",
       "      <td>-0.313672</td>\n",
       "      <td>0.193128</td>\n",
       "      <td>-0.155462</td>\n",
       "      <td>0.275793</td>\n",
       "      <td>0.641585</td>\n",
       "      <td>0.265851</td>\n",
       "    </tr>\n",
       "    <tr>\n",
       "      <th>Column2</th>\n",
       "      <td>0.301329</td>\n",
       "      <td>1.000000</td>\n",
       "      <td>0.606251</td>\n",
       "      <td>-0.471717</td>\n",
       "      <td>-0.457372</td>\n",
       "      <td>0.478703</td>\n",
       "      <td>0.453216</td>\n",
       "      <td>-0.536393</td>\n",
       "      <td>-0.221868</td>\n",
       "      <td>0.311198</td>\n",
       "    </tr>\n",
       "    <tr>\n",
       "      <th>Column3</th>\n",
       "      <td>0.191949</td>\n",
       "      <td>0.606251</td>\n",
       "      <td>1.000000</td>\n",
       "      <td>-0.332501</td>\n",
       "      <td>-0.429395</td>\n",
       "      <td>0.143089</td>\n",
       "      <td>-0.136585</td>\n",
       "      <td>-0.197993</td>\n",
       "      <td>-0.231159</td>\n",
       "      <td>0.345384</td>\n",
       "    </tr>\n",
       "    <tr>\n",
       "      <th>Column4</th>\n",
       "      <td>0.056544</td>\n",
       "      <td>-0.471717</td>\n",
       "      <td>-0.332501</td>\n",
       "      <td>1.000000</td>\n",
       "      <td>0.388070</td>\n",
       "      <td>-0.843621</td>\n",
       "      <td>0.015922</td>\n",
       "      <td>0.116576</td>\n",
       "      <td>0.111080</td>\n",
       "      <td>0.108380</td>\n",
       "    </tr>\n",
       "    <tr>\n",
       "      <th>Column5</th>\n",
       "      <td>-0.313672</td>\n",
       "      <td>-0.457372</td>\n",
       "      <td>-0.429395</td>\n",
       "      <td>0.388070</td>\n",
       "      <td>1.000000</td>\n",
       "      <td>-0.216029</td>\n",
       "      <td>0.307056</td>\n",
       "      <td>0.163253</td>\n",
       "      <td>0.156625</td>\n",
       "      <td>-0.144218</td>\n",
       "    </tr>\n",
       "    <tr>\n",
       "      <th>Column6</th>\n",
       "      <td>0.193128</td>\n",
       "      <td>0.478703</td>\n",
       "      <td>0.143089</td>\n",
       "      <td>-0.843621</td>\n",
       "      <td>-0.216029</td>\n",
       "      <td>1.000000</td>\n",
       "      <td>0.018662</td>\n",
       "      <td>-0.069891</td>\n",
       "      <td>0.233130</td>\n",
       "      <td>0.120313</td>\n",
       "    </tr>\n",
       "    <tr>\n",
       "      <th>Column7</th>\n",
       "      <td>-0.155462</td>\n",
       "      <td>0.453216</td>\n",
       "      <td>-0.136585</td>\n",
       "      <td>0.015922</td>\n",
       "      <td>0.307056</td>\n",
       "      <td>0.018662</td>\n",
       "      <td>1.000000</td>\n",
       "      <td>-0.281468</td>\n",
       "      <td>-0.246311</td>\n",
       "      <td>0.106508</td>\n",
       "    </tr>\n",
       "    <tr>\n",
       "      <th>Column8</th>\n",
       "      <td>0.275793</td>\n",
       "      <td>-0.536393</td>\n",
       "      <td>-0.197993</td>\n",
       "      <td>0.116576</td>\n",
       "      <td>0.163253</td>\n",
       "      <td>-0.069891</td>\n",
       "      <td>-0.281468</td>\n",
       "      <td>1.000000</td>\n",
       "      <td>0.542095</td>\n",
       "      <td>0.112163</td>\n",
       "    </tr>\n",
       "    <tr>\n",
       "      <th>Column9</th>\n",
       "      <td>0.641585</td>\n",
       "      <td>-0.221868</td>\n",
       "      <td>-0.231159</td>\n",
       "      <td>0.111080</td>\n",
       "      <td>0.156625</td>\n",
       "      <td>0.233130</td>\n",
       "      <td>-0.246311</td>\n",
       "      <td>0.542095</td>\n",
       "      <td>1.000000</td>\n",
       "      <td>0.387513</td>\n",
       "    </tr>\n",
       "    <tr>\n",
       "      <th>Column10</th>\n",
       "      <td>0.265851</td>\n",
       "      <td>0.311198</td>\n",
       "      <td>0.345384</td>\n",
       "      <td>0.108380</td>\n",
       "      <td>-0.144218</td>\n",
       "      <td>0.120313</td>\n",
       "      <td>0.106508</td>\n",
       "      <td>0.112163</td>\n",
       "      <td>0.387513</td>\n",
       "      <td>1.000000</td>\n",
       "    </tr>\n",
       "  </tbody>\n",
       "</table>\n",
       "</div>"
      ],
      "text/plain": [
       "           Column1   Column2   Column3   Column4   Column5   Column6  \\\n",
       "Column1   1.000000  0.301329  0.191949  0.056544 -0.313672  0.193128   \n",
       "Column2   0.301329  1.000000  0.606251 -0.471717 -0.457372  0.478703   \n",
       "Column3   0.191949  0.606251  1.000000 -0.332501 -0.429395  0.143089   \n",
       "Column4   0.056544 -0.471717 -0.332501  1.000000  0.388070 -0.843621   \n",
       "Column5  -0.313672 -0.457372 -0.429395  0.388070  1.000000 -0.216029   \n",
       "Column6   0.193128  0.478703  0.143089 -0.843621 -0.216029  1.000000   \n",
       "Column7  -0.155462  0.453216 -0.136585  0.015922  0.307056  0.018662   \n",
       "Column8   0.275793 -0.536393 -0.197993  0.116576  0.163253 -0.069891   \n",
       "Column9   0.641585 -0.221868 -0.231159  0.111080  0.156625  0.233130   \n",
       "Column10  0.265851  0.311198  0.345384  0.108380 -0.144218  0.120313   \n",
       "\n",
       "           Column7   Column8   Column9  Column10  \n",
       "Column1  -0.155462  0.275793  0.641585  0.265851  \n",
       "Column2   0.453216 -0.536393 -0.221868  0.311198  \n",
       "Column3  -0.136585 -0.197993 -0.231159  0.345384  \n",
       "Column4   0.015922  0.116576  0.111080  0.108380  \n",
       "Column5   0.307056  0.163253  0.156625 -0.144218  \n",
       "Column6   0.018662 -0.069891  0.233130  0.120313  \n",
       "Column7   1.000000 -0.281468 -0.246311  0.106508  \n",
       "Column8  -0.281468  1.000000  0.542095  0.112163  \n",
       "Column9  -0.246311  0.542095  1.000000  0.387513  \n",
       "Column10  0.106508  0.112163  0.387513  1.000000  "
      ]
     },
     "execution_count": 47,
     "metadata": {},
     "output_type": "execute_result"
    }
   ],
   "source": [
    "df.corr()"
   ]
  },
  {
   "cell_type": "markdown",
   "id": "f9c51717",
   "metadata": {},
   "source": [
    "#  Covarience"
   ]
  },
  {
   "cell_type": "code",
   "execution_count": 48,
   "id": "568a6629",
   "metadata": {},
   "outputs": [
    {
     "data": {
      "text/html": [
       "<div>\n",
       "<style scoped>\n",
       "    .dataframe tbody tr th:only-of-type {\n",
       "        vertical-align: middle;\n",
       "    }\n",
       "\n",
       "    .dataframe tbody tr th {\n",
       "        vertical-align: top;\n",
       "    }\n",
       "\n",
       "    .dataframe thead th {\n",
       "        text-align: right;\n",
       "    }\n",
       "</style>\n",
       "<table border=\"1\" class=\"dataframe\">\n",
       "  <thead>\n",
       "    <tr style=\"text-align: right;\">\n",
       "      <th></th>\n",
       "      <th>Column1</th>\n",
       "      <th>Column2</th>\n",
       "      <th>Column3</th>\n",
       "      <th>Column4</th>\n",
       "      <th>Column5</th>\n",
       "      <th>Column6</th>\n",
       "      <th>Column7</th>\n",
       "      <th>Column8</th>\n",
       "      <th>Column9</th>\n",
       "      <th>Column10</th>\n",
       "    </tr>\n",
       "  </thead>\n",
       "  <tbody>\n",
       "    <tr>\n",
       "      <th>Column1</th>\n",
       "      <td>1119.344444</td>\n",
       "      <td>310.222222</td>\n",
       "      <td>179.733333</td>\n",
       "      <td>45.455556</td>\n",
       "      <td>-234.633333</td>\n",
       "      <td>217.566667</td>\n",
       "      <td>-108.155556</td>\n",
       "      <td>286.222222</td>\n",
       "      <td>670.733333</td>\n",
       "      <td>214.455556</td>\n",
       "    </tr>\n",
       "    <tr>\n",
       "      <th>Column2</th>\n",
       "      <td>310.222222</td>\n",
       "      <td>946.888889</td>\n",
       "      <td>522.111111</td>\n",
       "      <td>-348.777778</td>\n",
       "      <td>-314.666667</td>\n",
       "      <td>496.000000</td>\n",
       "      <td>290.000000</td>\n",
       "      <td>-512.000000</td>\n",
       "      <td>-213.333333</td>\n",
       "      <td>230.888889</td>\n",
       "    </tr>\n",
       "    <tr>\n",
       "      <th>Column3</th>\n",
       "      <td>179.733333</td>\n",
       "      <td>522.111111</td>\n",
       "      <td>783.288889</td>\n",
       "      <td>-223.600000</td>\n",
       "      <td>-268.688889</td>\n",
       "      <td>134.844444</td>\n",
       "      <td>-79.488889</td>\n",
       "      <td>-171.888889</td>\n",
       "      <td>-202.155556</td>\n",
       "      <td>233.066667</td>\n",
       "    </tr>\n",
       "    <tr>\n",
       "      <th>Column4</th>\n",
       "      <td>45.455556</td>\n",
       "      <td>-348.777778</td>\n",
       "      <td>-223.600000</td>\n",
       "      <td>577.344444</td>\n",
       "      <td>208.477778</td>\n",
       "      <td>-682.544444</td>\n",
       "      <td>7.955556</td>\n",
       "      <td>86.888889</td>\n",
       "      <td>83.400000</td>\n",
       "      <td>62.788889</td>\n",
       "    </tr>\n",
       "    <tr>\n",
       "      <th>Column5</th>\n",
       "      <td>-234.633333</td>\n",
       "      <td>-314.666667</td>\n",
       "      <td>-268.688889</td>\n",
       "      <td>208.477778</td>\n",
       "      <td>499.877778</td>\n",
       "      <td>-162.633333</td>\n",
       "      <td>142.755556</td>\n",
       "      <td>113.222222</td>\n",
       "      <td>109.422222</td>\n",
       "      <td>-77.744444</td>\n",
       "    </tr>\n",
       "    <tr>\n",
       "      <th>Column6</th>\n",
       "      <td>217.566667</td>\n",
       "      <td>496.000000</td>\n",
       "      <td>134.844444</td>\n",
       "      <td>-682.544444</td>\n",
       "      <td>-162.633333</td>\n",
       "      <td>1133.788889</td>\n",
       "      <td>13.066667</td>\n",
       "      <td>-73.000000</td>\n",
       "      <td>245.288889</td>\n",
       "      <td>97.677778</td>\n",
       "    </tr>\n",
       "    <tr>\n",
       "      <th>Column7</th>\n",
       "      <td>-108.155556</td>\n",
       "      <td>290.000000</td>\n",
       "      <td>-79.488889</td>\n",
       "      <td>7.955556</td>\n",
       "      <td>142.755556</td>\n",
       "      <td>13.066667</td>\n",
       "      <td>432.400000</td>\n",
       "      <td>-181.555556</td>\n",
       "      <td>-160.044444</td>\n",
       "      <td>53.400000</td>\n",
       "    </tr>\n",
       "    <tr>\n",
       "      <th>Column8</th>\n",
       "      <td>286.222222</td>\n",
       "      <td>-512.000000</td>\n",
       "      <td>-171.888889</td>\n",
       "      <td>86.888889</td>\n",
       "      <td>113.222222</td>\n",
       "      <td>-73.000000</td>\n",
       "      <td>-181.555556</td>\n",
       "      <td>962.222222</td>\n",
       "      <td>525.444444</td>\n",
       "      <td>83.888889</td>\n",
       "    </tr>\n",
       "    <tr>\n",
       "      <th>Column9</th>\n",
       "      <td>670.733333</td>\n",
       "      <td>-213.333333</td>\n",
       "      <td>-202.155556</td>\n",
       "      <td>83.400000</td>\n",
       "      <td>109.422222</td>\n",
       "      <td>245.288889</td>\n",
       "      <td>-160.044444</td>\n",
       "      <td>525.444444</td>\n",
       "      <td>976.400000</td>\n",
       "      <td>291.955556</td>\n",
       "    </tr>\n",
       "    <tr>\n",
       "      <th>Column10</th>\n",
       "      <td>214.455556</td>\n",
       "      <td>230.888889</td>\n",
       "      <td>233.066667</td>\n",
       "      <td>62.788889</td>\n",
       "      <td>-77.744444</td>\n",
       "      <td>97.677778</td>\n",
       "      <td>53.400000</td>\n",
       "      <td>83.888889</td>\n",
       "      <td>291.955556</td>\n",
       "      <td>581.344444</td>\n",
       "    </tr>\n",
       "  </tbody>\n",
       "</table>\n",
       "</div>"
      ],
      "text/plain": [
       "              Column1     Column2     Column3     Column4     Column5  \\\n",
       "Column1   1119.344444  310.222222  179.733333   45.455556 -234.633333   \n",
       "Column2    310.222222  946.888889  522.111111 -348.777778 -314.666667   \n",
       "Column3    179.733333  522.111111  783.288889 -223.600000 -268.688889   \n",
       "Column4     45.455556 -348.777778 -223.600000  577.344444  208.477778   \n",
       "Column5   -234.633333 -314.666667 -268.688889  208.477778  499.877778   \n",
       "Column6    217.566667  496.000000  134.844444 -682.544444 -162.633333   \n",
       "Column7   -108.155556  290.000000  -79.488889    7.955556  142.755556   \n",
       "Column8    286.222222 -512.000000 -171.888889   86.888889  113.222222   \n",
       "Column9    670.733333 -213.333333 -202.155556   83.400000  109.422222   \n",
       "Column10   214.455556  230.888889  233.066667   62.788889  -77.744444   \n",
       "\n",
       "              Column6     Column7     Column8     Column9    Column10  \n",
       "Column1    217.566667 -108.155556  286.222222  670.733333  214.455556  \n",
       "Column2    496.000000  290.000000 -512.000000 -213.333333  230.888889  \n",
       "Column3    134.844444  -79.488889 -171.888889 -202.155556  233.066667  \n",
       "Column4   -682.544444    7.955556   86.888889   83.400000   62.788889  \n",
       "Column5   -162.633333  142.755556  113.222222  109.422222  -77.744444  \n",
       "Column6   1133.788889   13.066667  -73.000000  245.288889   97.677778  \n",
       "Column7     13.066667  432.400000 -181.555556 -160.044444   53.400000  \n",
       "Column8    -73.000000 -181.555556  962.222222  525.444444   83.888889  \n",
       "Column9    245.288889 -160.044444  525.444444  976.400000  291.955556  \n",
       "Column10    97.677778   53.400000   83.888889  291.955556  581.344444  "
      ]
     },
     "execution_count": 48,
     "metadata": {},
     "output_type": "execute_result"
    }
   ],
   "source": [
    "df.cov()"
   ]
  },
  {
   "cell_type": "markdown",
   "id": "cc149b38",
   "metadata": {},
   "source": [
    "# PCA"
   ]
  },
  {
   "cell_type": "code",
   "execution_count": 49,
   "id": "historical-validity",
   "metadata": {},
   "outputs": [
    {
     "data": {
      "text/html": [
       "<div>\n",
       "<style scoped>\n",
       "    .dataframe tbody tr th:only-of-type {\n",
       "        vertical-align: middle;\n",
       "    }\n",
       "\n",
       "    .dataframe tbody tr th {\n",
       "        vertical-align: top;\n",
       "    }\n",
       "\n",
       "    .dataframe thead th {\n",
       "        text-align: right;\n",
       "    }\n",
       "</style>\n",
       "<table border=\"1\" class=\"dataframe\">\n",
       "  <thead>\n",
       "    <tr style=\"text-align: right;\">\n",
       "      <th></th>\n",
       "      <th>Column1</th>\n",
       "      <th>Column2</th>\n",
       "      <th>Column3</th>\n",
       "      <th>Column4</th>\n",
       "      <th>Column5</th>\n",
       "      <th>Column6</th>\n",
       "      <th>Column7</th>\n",
       "      <th>Column8</th>\n",
       "      <th>Column9</th>\n",
       "      <th>Column10</th>\n",
       "    </tr>\n",
       "  </thead>\n",
       "  <tbody>\n",
       "    <tr>\n",
       "      <th>0</th>\n",
       "      <td>2</td>\n",
       "      <td>13</td>\n",
       "      <td>38</td>\n",
       "      <td>37</td>\n",
       "      <td>69</td>\n",
       "      <td>73</td>\n",
       "      <td>33</td>\n",
       "      <td>64</td>\n",
       "      <td>59</td>\n",
       "      <td>32</td>\n",
       "    </tr>\n",
       "    <tr>\n",
       "      <th>1</th>\n",
       "      <td>17</td>\n",
       "      <td>21</td>\n",
       "      <td>7</td>\n",
       "      <td>85</td>\n",
       "      <td>86</td>\n",
       "      <td>25</td>\n",
       "      <td>90</td>\n",
       "      <td>83</td>\n",
       "      <td>74</td>\n",
       "      <td>79</td>\n",
       "    </tr>\n",
       "    <tr>\n",
       "      <th>2</th>\n",
       "      <td>11</td>\n",
       "      <td>82</td>\n",
       "      <td>68</td>\n",
       "      <td>74</td>\n",
       "      <td>78</td>\n",
       "      <td>19</td>\n",
       "      <td>95</td>\n",
       "      <td>3</td>\n",
       "      <td>2</td>\n",
       "      <td>42</td>\n",
       "    </tr>\n",
       "    <tr>\n",
       "      <th>3</th>\n",
       "      <td>34</td>\n",
       "      <td>43</td>\n",
       "      <td>57</td>\n",
       "      <td>60</td>\n",
       "      <td>38</td>\n",
       "      <td>33</td>\n",
       "      <td>53</td>\n",
       "      <td>77</td>\n",
       "      <td>10</td>\n",
       "      <td>38</td>\n",
       "    </tr>\n",
       "    <tr>\n",
       "      <th>4</th>\n",
       "      <td>82</td>\n",
       "      <td>77</td>\n",
       "      <td>18</td>\n",
       "      <td>52</td>\n",
       "      <td>46</td>\n",
       "      <td>89</td>\n",
       "      <td>71</td>\n",
       "      <td>25</td>\n",
       "      <td>73</td>\n",
       "      <td>43</td>\n",
       "    </tr>\n",
       "  </tbody>\n",
       "</table>\n",
       "</div>"
      ],
      "text/plain": [
       "   Column1  Column2  Column3  Column4  Column5  Column6  Column7  Column8  \\\n",
       "0        2       13       38       37       69       73       33       64   \n",
       "1       17       21        7       85       86       25       90       83   \n",
       "2       11       82       68       74       78       19       95        3   \n",
       "3       34       43       57       60       38       33       53       77   \n",
       "4       82       77       18       52       46       89       71       25   \n",
       "\n",
       "   Column9  Column10  \n",
       "0       59        32  \n",
       "1       74        79  \n",
       "2        2        42  \n",
       "3       10        38  \n",
       "4       73        43  "
      ]
     },
     "execution_count": 49,
     "metadata": {},
     "output_type": "execute_result"
    }
   ],
   "source": [
    "df.head()"
   ]
  },
  {
   "cell_type": "code",
   "execution_count": 50,
   "id": "7d237459",
   "metadata": {},
   "outputs": [],
   "source": [
    "from sklearn.decomposition import PCA\n",
    "pca = PCA(n_components = 3)"
   ]
  },
  {
   "cell_type": "code",
   "execution_count": 51,
   "id": "cb52a694",
   "metadata": {},
   "outputs": [],
   "source": [
    "df1 = pca.fit_transform(df)"
   ]
  },
  {
   "cell_type": "code",
   "execution_count": 52,
   "id": "92eae0b8",
   "metadata": {},
   "outputs": [
    {
     "data": {
      "text/plain": [
       "array([[ 42.95986308,   4.13750075, -63.89969284],\n",
       "       [ 86.11690064, -14.7385719 ,  -9.47754893],\n",
       "       [  5.2373759 ,  84.55898421,  30.82096704],\n",
       "       [ 29.58458242,  21.73255442,   4.4325188 ],\n",
       "       [-24.05328975, -28.90491942, -20.30546957],\n",
       "       [-61.70024748,   7.93396327, -19.34870092],\n",
       "       [ 30.64997135, -46.49247906,  66.94300727],\n",
       "       [  9.99016345,   5.62520958,   2.88538424],\n",
       "       [-65.88463987,  47.91012779,   5.66698483],\n",
       "       [-52.90067975, -81.76236964,   2.28255009]])"
      ]
     },
     "execution_count": 52,
     "metadata": {},
     "output_type": "execute_result"
    }
   ],
   "source": [
    "df1"
   ]
  },
  {
   "cell_type": "markdown",
   "id": "198efc2e",
   "metadata": {},
   "source": [
    "# Boxplot"
   ]
  },
  {
   "cell_type": "code",
   "execution_count": 53,
   "id": "b83fea38",
   "metadata": {},
   "outputs": [],
   "source": [
    "def boxplot(df):\n",
    "    print()\n",
    "    print()\n",
    "    print(\"Boxplot Analysis for column : \\n\",df)\n",
    "    Q1 = df.quantile(0.25)\n",
    "    median = df.quantile(0.50)\n",
    "    Q3 = df.quantile(0.75)\n",
    "\n",
    "    IQR= Q3-Q1\n",
    "\n",
    "    Lower_Whiskers = df.quantile(0.25) - (1.5*IQR)\n",
    "    upper_Whiskers = df.quantile(0.75) + (1.5*IQR)\n",
    "    print()\n",
    "    print()\n",
    "\n",
    "    print(\"Q1 : \",Q1)\n",
    "    print(\"Median : \",median)\n",
    "    print(\"Q3 : \",Q3)\n",
    "    print(\"IQR : \",IQR)\n",
    "    print(\"Lower Whiskers : \",Lower_Whiskers)\n",
    "    print(\"Upper Whiskers : \",upper_Whiskers)\n",
    "    print(\"Minimum : \",min(df))\n",
    "    print(\"Maximum : \", max(df))\n"
   ]
  },
  {
   "cell_type": "code",
   "execution_count": 54,
   "id": "accepting-consultation",
   "metadata": {},
   "outputs": [
    {
     "name": "stdout",
     "output_type": "stream",
     "text": [
      "\n",
      "\n",
      "Boxplot Analysis for column : \n",
      " 0    69\n",
      "1    86\n",
      "2    78\n",
      "3    38\n",
      "4    46\n",
      "5    58\n",
      "6    43\n",
      "7    34\n",
      "8    11\n",
      "9    46\n",
      "Name: Column5, dtype: int32\n",
      "\n",
      "\n",
      "Q1 :  39.25\n",
      "Median :  46.0\n",
      "Q3 :  66.25\n",
      "IQR :  27.0\n",
      "Lower Whiskers :  -1.25\n",
      "Upper Whiskers :  106.75\n",
      "Minimum :  11\n",
      "Maximum :  86\n"
     ]
    }
   ],
   "source": [
    "boxplot(df['Column5'])"
   ]
  },
  {
   "cell_type": "code",
   "execution_count": 55,
   "id": "invalid-acoustic",
   "metadata": {},
   "outputs": [],
   "source": [
    "import plotly.express as px"
   ]
  },
  {
   "cell_type": "code",
   "execution_count": 56,
   "id": "bacterial-biotechnology",
   "metadata": {},
   "outputs": [
    {
     "data": {
      "application/vnd.plotly.v1+json": {
       "config": {
        "plotlyServerURL": "https://plot.ly"
       },
       "data": [
        {
         "alignmentgroup": "True",
         "boxpoints": "all",
         "hovertemplate": "Column5=%{y}<extra></extra>",
         "legendgroup": "",
         "marker": {
          "color": "#636efa"
         },
         "name": "",
         "notched": false,
         "offsetgroup": "",
         "orientation": "v",
         "showlegend": false,
         "type": "box",
         "x0": " ",
         "xaxis": "x",
         "y": [
          69,
          86,
          78,
          38,
          46,
          58,
          43,
          34,
          11,
          46
         ],
         "y0": " ",
         "yaxis": "y"
        }
       ],
       "layout": {
        "boxmode": "group",
        "legend": {
         "tracegroupgap": 0
        },
        "margin": {
         "t": 60
        },
        "template": {
         "data": {
          "bar": [
           {
            "error_x": {
             "color": "#2a3f5f"
            },
            "error_y": {
             "color": "#2a3f5f"
            },
            "marker": {
             "line": {
              "color": "#E5ECF6",
              "width": 0.5
             },
             "pattern": {
              "fillmode": "overlay",
              "size": 10,
              "solidity": 0.2
             }
            },
            "type": "bar"
           }
          ],
          "barpolar": [
           {
            "marker": {
             "line": {
              "color": "#E5ECF6",
              "width": 0.5
             },
             "pattern": {
              "fillmode": "overlay",
              "size": 10,
              "solidity": 0.2
             }
            },
            "type": "barpolar"
           }
          ],
          "carpet": [
           {
            "aaxis": {
             "endlinecolor": "#2a3f5f",
             "gridcolor": "white",
             "linecolor": "white",
             "minorgridcolor": "white",
             "startlinecolor": "#2a3f5f"
            },
            "baxis": {
             "endlinecolor": "#2a3f5f",
             "gridcolor": "white",
             "linecolor": "white",
             "minorgridcolor": "white",
             "startlinecolor": "#2a3f5f"
            },
            "type": "carpet"
           }
          ],
          "choropleth": [
           {
            "colorbar": {
             "outlinewidth": 0,
             "ticks": ""
            },
            "type": "choropleth"
           }
          ],
          "contour": [
           {
            "colorbar": {
             "outlinewidth": 0,
             "ticks": ""
            },
            "colorscale": [
             [
              0,
              "#0d0887"
             ],
             [
              0.1111111111111111,
              "#46039f"
             ],
             [
              0.2222222222222222,
              "#7201a8"
             ],
             [
              0.3333333333333333,
              "#9c179e"
             ],
             [
              0.4444444444444444,
              "#bd3786"
             ],
             [
              0.5555555555555556,
              "#d8576b"
             ],
             [
              0.6666666666666666,
              "#ed7953"
             ],
             [
              0.7777777777777778,
              "#fb9f3a"
             ],
             [
              0.8888888888888888,
              "#fdca26"
             ],
             [
              1,
              "#f0f921"
             ]
            ],
            "type": "contour"
           }
          ],
          "contourcarpet": [
           {
            "colorbar": {
             "outlinewidth": 0,
             "ticks": ""
            },
            "type": "contourcarpet"
           }
          ],
          "heatmap": [
           {
            "colorbar": {
             "outlinewidth": 0,
             "ticks": ""
            },
            "colorscale": [
             [
              0,
              "#0d0887"
             ],
             [
              0.1111111111111111,
              "#46039f"
             ],
             [
              0.2222222222222222,
              "#7201a8"
             ],
             [
              0.3333333333333333,
              "#9c179e"
             ],
             [
              0.4444444444444444,
              "#bd3786"
             ],
             [
              0.5555555555555556,
              "#d8576b"
             ],
             [
              0.6666666666666666,
              "#ed7953"
             ],
             [
              0.7777777777777778,
              "#fb9f3a"
             ],
             [
              0.8888888888888888,
              "#fdca26"
             ],
             [
              1,
              "#f0f921"
             ]
            ],
            "type": "heatmap"
           }
          ],
          "heatmapgl": [
           {
            "colorbar": {
             "outlinewidth": 0,
             "ticks": ""
            },
            "colorscale": [
             [
              0,
              "#0d0887"
             ],
             [
              0.1111111111111111,
              "#46039f"
             ],
             [
              0.2222222222222222,
              "#7201a8"
             ],
             [
              0.3333333333333333,
              "#9c179e"
             ],
             [
              0.4444444444444444,
              "#bd3786"
             ],
             [
              0.5555555555555556,
              "#d8576b"
             ],
             [
              0.6666666666666666,
              "#ed7953"
             ],
             [
              0.7777777777777778,
              "#fb9f3a"
             ],
             [
              0.8888888888888888,
              "#fdca26"
             ],
             [
              1,
              "#f0f921"
             ]
            ],
            "type": "heatmapgl"
           }
          ],
          "histogram": [
           {
            "marker": {
             "pattern": {
              "fillmode": "overlay",
              "size": 10,
              "solidity": 0.2
             }
            },
            "type": "histogram"
           }
          ],
          "histogram2d": [
           {
            "colorbar": {
             "outlinewidth": 0,
             "ticks": ""
            },
            "colorscale": [
             [
              0,
              "#0d0887"
             ],
             [
              0.1111111111111111,
              "#46039f"
             ],
             [
              0.2222222222222222,
              "#7201a8"
             ],
             [
              0.3333333333333333,
              "#9c179e"
             ],
             [
              0.4444444444444444,
              "#bd3786"
             ],
             [
              0.5555555555555556,
              "#d8576b"
             ],
             [
              0.6666666666666666,
              "#ed7953"
             ],
             [
              0.7777777777777778,
              "#fb9f3a"
             ],
             [
              0.8888888888888888,
              "#fdca26"
             ],
             [
              1,
              "#f0f921"
             ]
            ],
            "type": "histogram2d"
           }
          ],
          "histogram2dcontour": [
           {
            "colorbar": {
             "outlinewidth": 0,
             "ticks": ""
            },
            "colorscale": [
             [
              0,
              "#0d0887"
             ],
             [
              0.1111111111111111,
              "#46039f"
             ],
             [
              0.2222222222222222,
              "#7201a8"
             ],
             [
              0.3333333333333333,
              "#9c179e"
             ],
             [
              0.4444444444444444,
              "#bd3786"
             ],
             [
              0.5555555555555556,
              "#d8576b"
             ],
             [
              0.6666666666666666,
              "#ed7953"
             ],
             [
              0.7777777777777778,
              "#fb9f3a"
             ],
             [
              0.8888888888888888,
              "#fdca26"
             ],
             [
              1,
              "#f0f921"
             ]
            ],
            "type": "histogram2dcontour"
           }
          ],
          "mesh3d": [
           {
            "colorbar": {
             "outlinewidth": 0,
             "ticks": ""
            },
            "type": "mesh3d"
           }
          ],
          "parcoords": [
           {
            "line": {
             "colorbar": {
              "outlinewidth": 0,
              "ticks": ""
             }
            },
            "type": "parcoords"
           }
          ],
          "pie": [
           {
            "automargin": true,
            "type": "pie"
           }
          ],
          "scatter": [
           {
            "marker": {
             "colorbar": {
              "outlinewidth": 0,
              "ticks": ""
             }
            },
            "type": "scatter"
           }
          ],
          "scatter3d": [
           {
            "line": {
             "colorbar": {
              "outlinewidth": 0,
              "ticks": ""
             }
            },
            "marker": {
             "colorbar": {
              "outlinewidth": 0,
              "ticks": ""
             }
            },
            "type": "scatter3d"
           }
          ],
          "scattercarpet": [
           {
            "marker": {
             "colorbar": {
              "outlinewidth": 0,
              "ticks": ""
             }
            },
            "type": "scattercarpet"
           }
          ],
          "scattergeo": [
           {
            "marker": {
             "colorbar": {
              "outlinewidth": 0,
              "ticks": ""
             }
            },
            "type": "scattergeo"
           }
          ],
          "scattergl": [
           {
            "marker": {
             "colorbar": {
              "outlinewidth": 0,
              "ticks": ""
             }
            },
            "type": "scattergl"
           }
          ],
          "scattermapbox": [
           {
            "marker": {
             "colorbar": {
              "outlinewidth": 0,
              "ticks": ""
             }
            },
            "type": "scattermapbox"
           }
          ],
          "scatterpolar": [
           {
            "marker": {
             "colorbar": {
              "outlinewidth": 0,
              "ticks": ""
             }
            },
            "type": "scatterpolar"
           }
          ],
          "scatterpolargl": [
           {
            "marker": {
             "colorbar": {
              "outlinewidth": 0,
              "ticks": ""
             }
            },
            "type": "scatterpolargl"
           }
          ],
          "scatterternary": [
           {
            "marker": {
             "colorbar": {
              "outlinewidth": 0,
              "ticks": ""
             }
            },
            "type": "scatterternary"
           }
          ],
          "surface": [
           {
            "colorbar": {
             "outlinewidth": 0,
             "ticks": ""
            },
            "colorscale": [
             [
              0,
              "#0d0887"
             ],
             [
              0.1111111111111111,
              "#46039f"
             ],
             [
              0.2222222222222222,
              "#7201a8"
             ],
             [
              0.3333333333333333,
              "#9c179e"
             ],
             [
              0.4444444444444444,
              "#bd3786"
             ],
             [
              0.5555555555555556,
              "#d8576b"
             ],
             [
              0.6666666666666666,
              "#ed7953"
             ],
             [
              0.7777777777777778,
              "#fb9f3a"
             ],
             [
              0.8888888888888888,
              "#fdca26"
             ],
             [
              1,
              "#f0f921"
             ]
            ],
            "type": "surface"
           }
          ],
          "table": [
           {
            "cells": {
             "fill": {
              "color": "#EBF0F8"
             },
             "line": {
              "color": "white"
             }
            },
            "header": {
             "fill": {
              "color": "#C8D4E3"
             },
             "line": {
              "color": "white"
             }
            },
            "type": "table"
           }
          ]
         },
         "layout": {
          "annotationdefaults": {
           "arrowcolor": "#2a3f5f",
           "arrowhead": 0,
           "arrowwidth": 1
          },
          "autotypenumbers": "strict",
          "coloraxis": {
           "colorbar": {
            "outlinewidth": 0,
            "ticks": ""
           }
          },
          "colorscale": {
           "diverging": [
            [
             0,
             "#8e0152"
            ],
            [
             0.1,
             "#c51b7d"
            ],
            [
             0.2,
             "#de77ae"
            ],
            [
             0.3,
             "#f1b6da"
            ],
            [
             0.4,
             "#fde0ef"
            ],
            [
             0.5,
             "#f7f7f7"
            ],
            [
             0.6,
             "#e6f5d0"
            ],
            [
             0.7,
             "#b8e186"
            ],
            [
             0.8,
             "#7fbc41"
            ],
            [
             0.9,
             "#4d9221"
            ],
            [
             1,
             "#276419"
            ]
           ],
           "sequential": [
            [
             0,
             "#0d0887"
            ],
            [
             0.1111111111111111,
             "#46039f"
            ],
            [
             0.2222222222222222,
             "#7201a8"
            ],
            [
             0.3333333333333333,
             "#9c179e"
            ],
            [
             0.4444444444444444,
             "#bd3786"
            ],
            [
             0.5555555555555556,
             "#d8576b"
            ],
            [
             0.6666666666666666,
             "#ed7953"
            ],
            [
             0.7777777777777778,
             "#fb9f3a"
            ],
            [
             0.8888888888888888,
             "#fdca26"
            ],
            [
             1,
             "#f0f921"
            ]
           ],
           "sequentialminus": [
            [
             0,
             "#0d0887"
            ],
            [
             0.1111111111111111,
             "#46039f"
            ],
            [
             0.2222222222222222,
             "#7201a8"
            ],
            [
             0.3333333333333333,
             "#9c179e"
            ],
            [
             0.4444444444444444,
             "#bd3786"
            ],
            [
             0.5555555555555556,
             "#d8576b"
            ],
            [
             0.6666666666666666,
             "#ed7953"
            ],
            [
             0.7777777777777778,
             "#fb9f3a"
            ],
            [
             0.8888888888888888,
             "#fdca26"
            ],
            [
             1,
             "#f0f921"
            ]
           ]
          },
          "colorway": [
           "#636efa",
           "#EF553B",
           "#00cc96",
           "#ab63fa",
           "#FFA15A",
           "#19d3f3",
           "#FF6692",
           "#B6E880",
           "#FF97FF",
           "#FECB52"
          ],
          "font": {
           "color": "#2a3f5f"
          },
          "geo": {
           "bgcolor": "white",
           "lakecolor": "white",
           "landcolor": "#E5ECF6",
           "showlakes": true,
           "showland": true,
           "subunitcolor": "white"
          },
          "hoverlabel": {
           "align": "left"
          },
          "hovermode": "closest",
          "mapbox": {
           "style": "light"
          },
          "paper_bgcolor": "white",
          "plot_bgcolor": "#E5ECF6",
          "polar": {
           "angularaxis": {
            "gridcolor": "white",
            "linecolor": "white",
            "ticks": ""
           },
           "bgcolor": "#E5ECF6",
           "radialaxis": {
            "gridcolor": "white",
            "linecolor": "white",
            "ticks": ""
           }
          },
          "scene": {
           "xaxis": {
            "backgroundcolor": "#E5ECF6",
            "gridcolor": "white",
            "gridwidth": 2,
            "linecolor": "white",
            "showbackground": true,
            "ticks": "",
            "zerolinecolor": "white"
           },
           "yaxis": {
            "backgroundcolor": "#E5ECF6",
            "gridcolor": "white",
            "gridwidth": 2,
            "linecolor": "white",
            "showbackground": true,
            "ticks": "",
            "zerolinecolor": "white"
           },
           "zaxis": {
            "backgroundcolor": "#E5ECF6",
            "gridcolor": "white",
            "gridwidth": 2,
            "linecolor": "white",
            "showbackground": true,
            "ticks": "",
            "zerolinecolor": "white"
           }
          },
          "shapedefaults": {
           "line": {
            "color": "#2a3f5f"
           }
          },
          "ternary": {
           "aaxis": {
            "gridcolor": "white",
            "linecolor": "white",
            "ticks": ""
           },
           "baxis": {
            "gridcolor": "white",
            "linecolor": "white",
            "ticks": ""
           },
           "bgcolor": "#E5ECF6",
           "caxis": {
            "gridcolor": "white",
            "linecolor": "white",
            "ticks": ""
           }
          },
          "title": {
           "x": 0.05
          },
          "xaxis": {
           "automargin": true,
           "gridcolor": "white",
           "linecolor": "white",
           "ticks": "",
           "title": {
            "standoff": 15
           },
           "zerolinecolor": "white",
           "zerolinewidth": 2
          },
          "yaxis": {
           "automargin": true,
           "gridcolor": "white",
           "linecolor": "white",
           "ticks": "",
           "title": {
            "standoff": 15
           },
           "zerolinecolor": "white",
           "zerolinewidth": 2
          }
         }
        },
        "xaxis": {
         "anchor": "y",
         "domain": [
          0,
          1
         ]
        },
        "yaxis": {
         "anchor": "x",
         "domain": [
          0,
          1
         ],
         "title": {
          "text": "Column5"
         }
        }
       }
      },
      "text/html": [
       "<div>                            <div id=\"78dd5593-7ab8-46b5-9fdb-4f83a40899cc\" class=\"plotly-graph-div\" style=\"height:525px; width:100%;\"></div>            <script type=\"text/javascript\">                require([\"plotly\"], function(Plotly) {                    window.PLOTLYENV=window.PLOTLYENV || {};                                    if (document.getElementById(\"78dd5593-7ab8-46b5-9fdb-4f83a40899cc\")) {                    Plotly.newPlot(                        \"78dd5593-7ab8-46b5-9fdb-4f83a40899cc\",                        [{\"alignmentgroup\":\"True\",\"boxpoints\":\"all\",\"hovertemplate\":\"Column5=%{y}<extra></extra>\",\"legendgroup\":\"\",\"marker\":{\"color\":\"#636efa\"},\"name\":\"\",\"notched\":false,\"offsetgroup\":\"\",\"orientation\":\"v\",\"showlegend\":false,\"type\":\"box\",\"x0\":\" \",\"xaxis\":\"x\",\"y\":[69,86,78,38,46,58,43,34,11,46],\"y0\":\" \",\"yaxis\":\"y\"}],                        {\"boxmode\":\"group\",\"legend\":{\"tracegroupgap\":0},\"margin\":{\"t\":60},\"template\":{\"data\":{\"bar\":[{\"error_x\":{\"color\":\"#2a3f5f\"},\"error_y\":{\"color\":\"#2a3f5f\"},\"marker\":{\"line\":{\"color\":\"#E5ECF6\",\"width\":0.5},\"pattern\":{\"fillmode\":\"overlay\",\"size\":10,\"solidity\":0.2}},\"type\":\"bar\"}],\"barpolar\":[{\"marker\":{\"line\":{\"color\":\"#E5ECF6\",\"width\":0.5},\"pattern\":{\"fillmode\":\"overlay\",\"size\":10,\"solidity\":0.2}},\"type\":\"barpolar\"}],\"carpet\":[{\"aaxis\":{\"endlinecolor\":\"#2a3f5f\",\"gridcolor\":\"white\",\"linecolor\":\"white\",\"minorgridcolor\":\"white\",\"startlinecolor\":\"#2a3f5f\"},\"baxis\":{\"endlinecolor\":\"#2a3f5f\",\"gridcolor\":\"white\",\"linecolor\":\"white\",\"minorgridcolor\":\"white\",\"startlinecolor\":\"#2a3f5f\"},\"type\":\"carpet\"}],\"choropleth\":[{\"colorbar\":{\"outlinewidth\":0,\"ticks\":\"\"},\"type\":\"choropleth\"}],\"contour\":[{\"colorbar\":{\"outlinewidth\":0,\"ticks\":\"\"},\"colorscale\":[[0.0,\"#0d0887\"],[0.1111111111111111,\"#46039f\"],[0.2222222222222222,\"#7201a8\"],[0.3333333333333333,\"#9c179e\"],[0.4444444444444444,\"#bd3786\"],[0.5555555555555556,\"#d8576b\"],[0.6666666666666666,\"#ed7953\"],[0.7777777777777778,\"#fb9f3a\"],[0.8888888888888888,\"#fdca26\"],[1.0,\"#f0f921\"]],\"type\":\"contour\"}],\"contourcarpet\":[{\"colorbar\":{\"outlinewidth\":0,\"ticks\":\"\"},\"type\":\"contourcarpet\"}],\"heatmap\":[{\"colorbar\":{\"outlinewidth\":0,\"ticks\":\"\"},\"colorscale\":[[0.0,\"#0d0887\"],[0.1111111111111111,\"#46039f\"],[0.2222222222222222,\"#7201a8\"],[0.3333333333333333,\"#9c179e\"],[0.4444444444444444,\"#bd3786\"],[0.5555555555555556,\"#d8576b\"],[0.6666666666666666,\"#ed7953\"],[0.7777777777777778,\"#fb9f3a\"],[0.8888888888888888,\"#fdca26\"],[1.0,\"#f0f921\"]],\"type\":\"heatmap\"}],\"heatmapgl\":[{\"colorbar\":{\"outlinewidth\":0,\"ticks\":\"\"},\"colorscale\":[[0.0,\"#0d0887\"],[0.1111111111111111,\"#46039f\"],[0.2222222222222222,\"#7201a8\"],[0.3333333333333333,\"#9c179e\"],[0.4444444444444444,\"#bd3786\"],[0.5555555555555556,\"#d8576b\"],[0.6666666666666666,\"#ed7953\"],[0.7777777777777778,\"#fb9f3a\"],[0.8888888888888888,\"#fdca26\"],[1.0,\"#f0f921\"]],\"type\":\"heatmapgl\"}],\"histogram\":[{\"marker\":{\"pattern\":{\"fillmode\":\"overlay\",\"size\":10,\"solidity\":0.2}},\"type\":\"histogram\"}],\"histogram2d\":[{\"colorbar\":{\"outlinewidth\":0,\"ticks\":\"\"},\"colorscale\":[[0.0,\"#0d0887\"],[0.1111111111111111,\"#46039f\"],[0.2222222222222222,\"#7201a8\"],[0.3333333333333333,\"#9c179e\"],[0.4444444444444444,\"#bd3786\"],[0.5555555555555556,\"#d8576b\"],[0.6666666666666666,\"#ed7953\"],[0.7777777777777778,\"#fb9f3a\"],[0.8888888888888888,\"#fdca26\"],[1.0,\"#f0f921\"]],\"type\":\"histogram2d\"}],\"histogram2dcontour\":[{\"colorbar\":{\"outlinewidth\":0,\"ticks\":\"\"},\"colorscale\":[[0.0,\"#0d0887\"],[0.1111111111111111,\"#46039f\"],[0.2222222222222222,\"#7201a8\"],[0.3333333333333333,\"#9c179e\"],[0.4444444444444444,\"#bd3786\"],[0.5555555555555556,\"#d8576b\"],[0.6666666666666666,\"#ed7953\"],[0.7777777777777778,\"#fb9f3a\"],[0.8888888888888888,\"#fdca26\"],[1.0,\"#f0f921\"]],\"type\":\"histogram2dcontour\"}],\"mesh3d\":[{\"colorbar\":{\"outlinewidth\":0,\"ticks\":\"\"},\"type\":\"mesh3d\"}],\"parcoords\":[{\"line\":{\"colorbar\":{\"outlinewidth\":0,\"ticks\":\"\"}},\"type\":\"parcoords\"}],\"pie\":[{\"automargin\":true,\"type\":\"pie\"}],\"scatter\":[{\"marker\":{\"colorbar\":{\"outlinewidth\":0,\"ticks\":\"\"}},\"type\":\"scatter\"}],\"scatter3d\":[{\"line\":{\"colorbar\":{\"outlinewidth\":0,\"ticks\":\"\"}},\"marker\":{\"colorbar\":{\"outlinewidth\":0,\"ticks\":\"\"}},\"type\":\"scatter3d\"}],\"scattercarpet\":[{\"marker\":{\"colorbar\":{\"outlinewidth\":0,\"ticks\":\"\"}},\"type\":\"scattercarpet\"}],\"scattergeo\":[{\"marker\":{\"colorbar\":{\"outlinewidth\":0,\"ticks\":\"\"}},\"type\":\"scattergeo\"}],\"scattergl\":[{\"marker\":{\"colorbar\":{\"outlinewidth\":0,\"ticks\":\"\"}},\"type\":\"scattergl\"}],\"scattermapbox\":[{\"marker\":{\"colorbar\":{\"outlinewidth\":0,\"ticks\":\"\"}},\"type\":\"scattermapbox\"}],\"scatterpolar\":[{\"marker\":{\"colorbar\":{\"outlinewidth\":0,\"ticks\":\"\"}},\"type\":\"scatterpolar\"}],\"scatterpolargl\":[{\"marker\":{\"colorbar\":{\"outlinewidth\":0,\"ticks\":\"\"}},\"type\":\"scatterpolargl\"}],\"scatterternary\":[{\"marker\":{\"colorbar\":{\"outlinewidth\":0,\"ticks\":\"\"}},\"type\":\"scatterternary\"}],\"surface\":[{\"colorbar\":{\"outlinewidth\":0,\"ticks\":\"\"},\"colorscale\":[[0.0,\"#0d0887\"],[0.1111111111111111,\"#46039f\"],[0.2222222222222222,\"#7201a8\"],[0.3333333333333333,\"#9c179e\"],[0.4444444444444444,\"#bd3786\"],[0.5555555555555556,\"#d8576b\"],[0.6666666666666666,\"#ed7953\"],[0.7777777777777778,\"#fb9f3a\"],[0.8888888888888888,\"#fdca26\"],[1.0,\"#f0f921\"]],\"type\":\"surface\"}],\"table\":[{\"cells\":{\"fill\":{\"color\":\"#EBF0F8\"},\"line\":{\"color\":\"white\"}},\"header\":{\"fill\":{\"color\":\"#C8D4E3\"},\"line\":{\"color\":\"white\"}},\"type\":\"table\"}]},\"layout\":{\"annotationdefaults\":{\"arrowcolor\":\"#2a3f5f\",\"arrowhead\":0,\"arrowwidth\":1},\"autotypenumbers\":\"strict\",\"coloraxis\":{\"colorbar\":{\"outlinewidth\":0,\"ticks\":\"\"}},\"colorscale\":{\"diverging\":[[0,\"#8e0152\"],[0.1,\"#c51b7d\"],[0.2,\"#de77ae\"],[0.3,\"#f1b6da\"],[0.4,\"#fde0ef\"],[0.5,\"#f7f7f7\"],[0.6,\"#e6f5d0\"],[0.7,\"#b8e186\"],[0.8,\"#7fbc41\"],[0.9,\"#4d9221\"],[1,\"#276419\"]],\"sequential\":[[0.0,\"#0d0887\"],[0.1111111111111111,\"#46039f\"],[0.2222222222222222,\"#7201a8\"],[0.3333333333333333,\"#9c179e\"],[0.4444444444444444,\"#bd3786\"],[0.5555555555555556,\"#d8576b\"],[0.6666666666666666,\"#ed7953\"],[0.7777777777777778,\"#fb9f3a\"],[0.8888888888888888,\"#fdca26\"],[1.0,\"#f0f921\"]],\"sequentialminus\":[[0.0,\"#0d0887\"],[0.1111111111111111,\"#46039f\"],[0.2222222222222222,\"#7201a8\"],[0.3333333333333333,\"#9c179e\"],[0.4444444444444444,\"#bd3786\"],[0.5555555555555556,\"#d8576b\"],[0.6666666666666666,\"#ed7953\"],[0.7777777777777778,\"#fb9f3a\"],[0.8888888888888888,\"#fdca26\"],[1.0,\"#f0f921\"]]},\"colorway\":[\"#636efa\",\"#EF553B\",\"#00cc96\",\"#ab63fa\",\"#FFA15A\",\"#19d3f3\",\"#FF6692\",\"#B6E880\",\"#FF97FF\",\"#FECB52\"],\"font\":{\"color\":\"#2a3f5f\"},\"geo\":{\"bgcolor\":\"white\",\"lakecolor\":\"white\",\"landcolor\":\"#E5ECF6\",\"showlakes\":true,\"showland\":true,\"subunitcolor\":\"white\"},\"hoverlabel\":{\"align\":\"left\"},\"hovermode\":\"closest\",\"mapbox\":{\"style\":\"light\"},\"paper_bgcolor\":\"white\",\"plot_bgcolor\":\"#E5ECF6\",\"polar\":{\"angularaxis\":{\"gridcolor\":\"white\",\"linecolor\":\"white\",\"ticks\":\"\"},\"bgcolor\":\"#E5ECF6\",\"radialaxis\":{\"gridcolor\":\"white\",\"linecolor\":\"white\",\"ticks\":\"\"}},\"scene\":{\"xaxis\":{\"backgroundcolor\":\"#E5ECF6\",\"gridcolor\":\"white\",\"gridwidth\":2,\"linecolor\":\"white\",\"showbackground\":true,\"ticks\":\"\",\"zerolinecolor\":\"white\"},\"yaxis\":{\"backgroundcolor\":\"#E5ECF6\",\"gridcolor\":\"white\",\"gridwidth\":2,\"linecolor\":\"white\",\"showbackground\":true,\"ticks\":\"\",\"zerolinecolor\":\"white\"},\"zaxis\":{\"backgroundcolor\":\"#E5ECF6\",\"gridcolor\":\"white\",\"gridwidth\":2,\"linecolor\":\"white\",\"showbackground\":true,\"ticks\":\"\",\"zerolinecolor\":\"white\"}},\"shapedefaults\":{\"line\":{\"color\":\"#2a3f5f\"}},\"ternary\":{\"aaxis\":{\"gridcolor\":\"white\",\"linecolor\":\"white\",\"ticks\":\"\"},\"baxis\":{\"gridcolor\":\"white\",\"linecolor\":\"white\",\"ticks\":\"\"},\"bgcolor\":\"#E5ECF6\",\"caxis\":{\"gridcolor\":\"white\",\"linecolor\":\"white\",\"ticks\":\"\"}},\"title\":{\"x\":0.05},\"xaxis\":{\"automargin\":true,\"gridcolor\":\"white\",\"linecolor\":\"white\",\"ticks\":\"\",\"title\":{\"standoff\":15},\"zerolinecolor\":\"white\",\"zerolinewidth\":2},\"yaxis\":{\"automargin\":true,\"gridcolor\":\"white\",\"linecolor\":\"white\",\"ticks\":\"\",\"title\":{\"standoff\":15},\"zerolinecolor\":\"white\",\"zerolinewidth\":2}}},\"xaxis\":{\"anchor\":\"y\",\"domain\":[0.0,1.0]},\"yaxis\":{\"anchor\":\"x\",\"domain\":[0.0,1.0],\"title\":{\"text\":\"Column5\"}}},                        {\"responsive\": true}                    ).then(function(){\n",
       "                            \n",
       "var gd = document.getElementById('78dd5593-7ab8-46b5-9fdb-4f83a40899cc');\n",
       "var x = new MutationObserver(function (mutations, observer) {{\n",
       "        var display = window.getComputedStyle(gd).display;\n",
       "        if (!display || display === 'none') {{\n",
       "            console.log([gd, 'removed!']);\n",
       "            Plotly.purge(gd);\n",
       "            observer.disconnect();\n",
       "        }}\n",
       "}});\n",
       "\n",
       "// Listen for the removal of the full notebook cells\n",
       "var notebookContainer = gd.closest('#notebook-container');\n",
       "if (notebookContainer) {{\n",
       "    x.observe(notebookContainer, {childList: true});\n",
       "}}\n",
       "\n",
       "// Listen for the clearing of the current output cell\n",
       "var outputEl = gd.closest('.output');\n",
       "if (outputEl) {{\n",
       "    x.observe(outputEl, {childList: true});\n",
       "}}\n",
       "\n",
       "                        })                };                });            </script>        </div>"
      ]
     },
     "metadata": {},
     "output_type": "display_data"
    }
   ],
   "source": [
    "px.box(df, y='Column5',points=\"all\")"
   ]
  },
  {
   "cell_type": "markdown",
   "id": "ffdf8b2d",
   "metadata": {},
   "source": [
    "# Outliers"
   ]
  },
  {
   "cell_type": "code",
   "execution_count": 64,
   "id": "efc46252",
   "metadata": {},
   "outputs": [],
   "source": [
    "def outliers(df, variable):\n",
    "    upper_limit = df[variable].mean() - 1 * df[variable].std()\n",
    "    lower_limit = df[variable].mean() + 1 * df[variable].std()\n",
    "    \n",
    "    return upper_limit, lower_limit"
   ]
  },
  {
   "cell_type": "code",
   "execution_count": 67,
   "id": "28b644fc",
   "metadata": {},
   "outputs": [],
   "source": [
    "def whiskers(df, variable):\n",
    "    IQR = df[variable].quantile(0.75) - df[variable].quantile(0.25)\n",
    "    \n",
    "    lower_whiskers = df[variable].quantile(0.25) - (1.5*IQR)\n",
    "    upper_whiskers = df[variable].quantile(0.75) + (1.5*IQR)\n",
    "    \n",
    "    return lower_whiskers,upper_whiskers"
   ]
  },
  {
   "cell_type": "code",
   "execution_count": 68,
   "id": "42be6954",
   "metadata": {},
   "outputs": [
    {
     "data": {
      "text/plain": [
       "0    13\n",
       "1    21\n",
       "2    82\n",
       "3    43\n",
       "4    77\n",
       "5    90\n",
       "6    44\n",
       "7    58\n",
       "8    99\n",
       "9    93\n",
       "Name: Column2, dtype: int32"
      ]
     },
     "execution_count": 68,
     "metadata": {},
     "output_type": "execute_result"
    }
   ],
   "source": [
    "df['Column2']"
   ]
  },
  {
   "cell_type": "code",
   "execution_count": 69,
   "id": "6a805f38",
   "metadata": {},
   "outputs": [
    {
     "data": {
      "text/plain": [
       "(-23.875, 155.125)"
      ]
     },
     "execution_count": 69,
     "metadata": {},
     "output_type": "execute_result"
    }
   ],
   "source": [
    "whiskers(df,'Column2')"
   ]
  },
  {
   "cell_type": "code",
   "execution_count": 65,
   "id": "bd681fb8",
   "metadata": {},
   "outputs": [
    {
     "data": {
      "text/plain": [
       "(31.228440259081943, 92.77155974091806)"
      ]
     },
     "execution_count": 65,
     "metadata": {},
     "output_type": "execute_result"
    }
   ],
   "source": [
    "outliers(df,'Column2')"
   ]
  },
  {
   "cell_type": "code",
   "execution_count": 66,
   "id": "825d870d",
   "metadata": {},
   "outputs": [
    {
     "data": {
      "text/plain": [
       "0    13\n",
       "1    21\n",
       "2    82\n",
       "3    43\n",
       "4    77\n",
       "5    90\n",
       "6    44\n",
       "7    58\n",
       "8    99\n",
       "9    93\n",
       "Name: Column2, dtype: int32"
      ]
     },
     "execution_count": 66,
     "metadata": {},
     "output_type": "execute_result"
    }
   ],
   "source": [
    "df.Column2"
   ]
  },
  {
   "cell_type": "code",
   "execution_count": null,
   "id": "2f3a4964",
   "metadata": {},
   "outputs": [],
   "source": []
  }
 ],
 "metadata": {
  "kernelspec": {
   "display_name": "Python 3 (ipykernel)",
   "language": "python",
   "name": "python3"
  },
  "language_info": {
   "codemirror_mode": {
    "name": "ipython",
    "version": 3
   },
   "file_extension": ".py",
   "mimetype": "text/x-python",
   "name": "python",
   "nbconvert_exporter": "python",
   "pygments_lexer": "ipython3",
   "version": "3.9.13"
  }
 },
 "nbformat": 4,
 "nbformat_minor": 5
}
