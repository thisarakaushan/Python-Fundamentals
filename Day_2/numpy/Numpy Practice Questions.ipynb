{
 "cells": [
  {
   "cell_type": "markdown",
   "id": "9c36bf01",
   "metadata": {},
   "source": [
    "# Numpy Questions"
   ]
  },
  {
   "cell_type": "markdown",
   "id": "c56cafa3",
   "metadata": {},
   "source": [
    "### Q.1) Create a numpy array in python?"
   ]
  },
  {
   "cell_type": "code",
   "execution_count": 10,
   "id": "2f2036a0",
   "metadata": {},
   "outputs": [
    {
     "name": "stdout",
     "output_type": "stream",
     "text": [
      "[1 2 3 4 5]\n",
      "(5,)\n"
     ]
    }
   ],
   "source": [
    "import numpy as np\n",
    "\n",
    "arr1d = np.array([1,2,3,4,5])\n",
    "print(arr1d)\n",
    "print(arr1d.shape)"
   ]
  },
  {
   "cell_type": "code",
   "execution_count": 11,
   "id": "35d3e8ff",
   "metadata": {},
   "outputs": [
    {
     "name": "stdout",
     "output_type": "stream",
     "text": [
      "\n",
      "2d array:  [[1 2 3]\n",
      " [4 5 6]]\n"
     ]
    },
    {
     "data": {
      "text/plain": [
       "(2, 3)"
      ]
     },
     "execution_count": 11,
     "metadata": {},
     "output_type": "execute_result"
    }
   ],
   "source": [
    "arr2d = np.array([[1,2,3], [4,5,6]])\n",
    "print(\"\\n2d array: \",arr2d)\n",
    "arr2d.shape"
   ]
  },
  {
   "cell_type": "markdown",
   "id": "4403ddeb",
   "metadata": {},
   "source": [
    "### Q.2) Write a program that takes in a NumPy array and returns its mean?"
   ]
  },
  {
   "cell_type": "code",
   "execution_count": 12,
   "id": "5be951fa",
   "metadata": {},
   "outputs": [
    {
     "name": "stdout",
     "output_type": "stream",
     "text": [
      "3.0\n"
     ]
    }
   ],
   "source": [
    "import numpy as np\n",
    "\n",
    "arr = np.array([1,2,3,4,5])\n",
    "print(np.mean(arr))"
   ]
  },
  {
   "cell_type": "code",
   "execution_count": null,
   "id": "6f6cea53",
   "metadata": {},
   "outputs": [],
   "source": [
    "import numpy as np\n",
    "\n",
    "def calculate_mean(arr):\n",
    "    mean = np.mean(arr)\n",
    "    return mean\n",
    "\n",
    "# Example usage\n",
    "arr = np.array([1, 2, 3, 4, 5])\n",
    "result = calculate_mean(arr)\n",
    "print(\"Mean:\", result)\n"
   ]
  },
  {
   "cell_type": "markdown",
   "id": "0da11a35",
   "metadata": {},
   "source": [
    "### Q.3) Write a program that takes in a NumPy array and returns its shape?"
   ]
  },
  {
   "cell_type": "code",
   "execution_count": 13,
   "id": "b96b9827",
   "metadata": {},
   "outputs": [
    {
     "name": "stdout",
     "output_type": "stream",
     "text": [
      "\n",
      "2d array:  [[1 2 3]\n",
      " [4 5 6]]\n"
     ]
    },
    {
     "data": {
      "text/plain": [
       "(2, 3)"
      ]
     },
     "execution_count": 13,
     "metadata": {},
     "output_type": "execute_result"
    }
   ],
   "source": [
    "arr2d = np.array([[1,2,3], [4,5,6]])\n",
    "print(\"\\n2d array: \",arr2d)\n",
    "arr2d.shape"
   ]
  },
  {
   "cell_type": "code",
   "execution_count": null,
   "id": "68577d5e",
   "metadata": {},
   "outputs": [],
   "source": [
    "import numpy as np\n",
    "\n",
    "def get_array_shape(arr):\n",
    "    shape = arr.shape\n",
    "    return shape\n",
    "\n",
    "# Example usage\n",
    "arr = np.array([[1, 2, 3], [4, 5, 6]])\n",
    "result = get_array_shape(arr)\n",
    "print(\"Shape:\", result)\n"
   ]
  },
  {
   "cell_type": "markdown",
   "id": "0450351a",
   "metadata": {},
   "source": [
    "### Q.4) How can we convert a list into numpy array?"
   ]
  },
  {
   "cell_type": "code",
   "execution_count": 14,
   "id": "65b6f0ea",
   "metadata": {},
   "outputs": [
    {
     "data": {
      "text/plain": [
       "array([1, 2, 3, 4, 5])"
      ]
     },
     "execution_count": 14,
     "metadata": {},
     "output_type": "execute_result"
    }
   ],
   "source": [
    "import numpy as np\n",
    "\n",
    "list1 = [1,2,3,4,5]\n",
    "arr = np.array(list1)\n",
    "arr"
   ]
  },
  {
   "cell_type": "code",
   "execution_count": null,
   "id": "b5d4db96",
   "metadata": {},
   "outputs": [],
   "source": []
  },
  {
   "cell_type": "markdown",
   "id": "1ff0b146",
   "metadata": {},
   "source": [
    "### Q.5) Creates a NumPy array filled with zeros of 3X3 size?"
   ]
  },
  {
   "cell_type": "code",
   "execution_count": 15,
   "id": "6b9f3f3a",
   "metadata": {},
   "outputs": [
    {
     "data": {
      "text/plain": [
       "array([[0., 0., 0.],\n",
       "       [0., 0., 0.],\n",
       "       [0., 0., 0.]])"
      ]
     },
     "execution_count": 15,
     "metadata": {},
     "output_type": "execute_result"
    }
   ],
   "source": [
    "import numpy as np\n",
    "\n",
    "arr = np.zeros((3,3))\n",
    "arr"
   ]
  },
  {
   "cell_type": "code",
   "execution_count": null,
   "id": "38a3a93a",
   "metadata": {},
   "outputs": [],
   "source": []
  },
  {
   "cell_type": "markdown",
   "id": "d4d7bb84",
   "metadata": {},
   "source": [
    "### Q.6)  Creates a NumPy array filled with ones of mXn size?"
   ]
  },
  {
   "cell_type": "code",
   "execution_count": 20,
   "id": "03bb09ca",
   "metadata": {},
   "outputs": [
    {
     "name": "stdout",
     "output_type": "stream",
     "text": [
      "[[1.]\n",
      " [1.]\n",
      " [1.]\n",
      " [1.]\n",
      " [1.]]\n"
     ]
    }
   ],
   "source": [
    "import numpy as np\n",
    "import random\n",
    "\n",
    "m = random.randint(1, 5)\n",
    "n = random.randint(1, 5)\n",
    "\n",
    "arr = np.ones((m, n))\n",
    "print(arr)"
   ]
  },
  {
   "cell_type": "code",
   "execution_count": null,
   "id": "f736d7fd",
   "metadata": {},
   "outputs": [],
   "source": []
  },
  {
   "cell_type": "markdown",
   "id": "b9e9f70f",
   "metadata": {},
   "source": [
    "### Q.7) Creates a NumPy array filled with random values between 0 and 1."
   ]
  },
  {
   "cell_type": "code",
   "execution_count": 22,
   "id": "d15fce79",
   "metadata": {},
   "outputs": [
    {
     "data": {
      "text/plain": [
       "array([[0.96483776, 0.19375165, 0.91553456],\n",
       "       [0.96819506, 0.02741599, 0.36472066],\n",
       "       [0.95284855, 0.64765938, 0.69130604]])"
      ]
     },
     "execution_count": 22,
     "metadata": {},
     "output_type": "execute_result"
    }
   ],
   "source": [
    "import numpy as np\n",
    "\n",
    "arr = np.random.random((3,3))\n",
    "arr"
   ]
  },
  {
   "cell_type": "code",
   "execution_count": null,
   "id": "5700d205",
   "metadata": {},
   "outputs": [],
   "source": []
  },
  {
   "cell_type": "markdown",
   "id": "7e122e30",
   "metadata": {},
   "source": [
    "### Q.8)  Creates a NumPy array with a range of values?"
   ]
  },
  {
   "cell_type": "code",
   "execution_count": 23,
   "id": "edd4151d",
   "metadata": {},
   "outputs": [
    {
     "data": {
      "text/plain": [
       "array([ 1,  2,  3,  4,  5,  6,  7,  8,  9, 10])"
      ]
     },
     "execution_count": 23,
     "metadata": {},
     "output_type": "execute_result"
    }
   ],
   "source": [
    "import numpy as np\n",
    "\n",
    "arr = np.arange(1, 11)\n",
    "arr"
   ]
  },
  {
   "cell_type": "code",
   "execution_count": null,
   "id": "a8c192f1",
   "metadata": {},
   "outputs": [],
   "source": []
  },
  {
   "cell_type": "markdown",
   "id": "2e395c09",
   "metadata": {},
   "source": [
    "### Q.9) How to reshape a NumPy array to a new shape?"
   ]
  },
  {
   "cell_type": "code",
   "execution_count": 29,
   "id": "75d95229",
   "metadata": {},
   "outputs": [
    {
     "name": "stdout",
     "output_type": "stream",
     "text": [
      "[1 2 3 4 5 6 7 8 9]\n"
     ]
    },
    {
     "data": {
      "text/plain": [
       "array([[1, 2, 3],\n",
       "       [4, 5, 6],\n",
       "       [7, 8, 9]])"
      ]
     },
     "execution_count": 29,
     "metadata": {},
     "output_type": "execute_result"
    }
   ],
   "source": [
    "import numpy as np\n",
    "\n",
    "arr = np.arange(1,10)\n",
    "print(arr)\n",
    "arr1 = arr.reshape((3,3))\n",
    "arr1"
   ]
  },
  {
   "cell_type": "code",
   "execution_count": null,
   "id": "e2be88cb",
   "metadata": {},
   "outputs": [],
   "source": []
  },
  {
   "cell_type": "markdown",
   "id": "1ca98a10",
   "metadata": {},
   "source": [
    "### Q.10) Computes the sum of all the elements in a NumPy array?"
   ]
  },
  {
   "cell_type": "code",
   "execution_count": 32,
   "id": "782d81a1",
   "metadata": {},
   "outputs": [
    {
     "data": {
      "text/plain": [
       "45"
      ]
     },
     "execution_count": 32,
     "metadata": {},
     "output_type": "execute_result"
    }
   ],
   "source": [
    "import numpy as np\n",
    "\n",
    "arr = np.arange(1,10)\n",
    "arr_sum = np.sum(arr)\n",
    "\n",
    "arr_sum"
   ]
  },
  {
   "cell_type": "code",
   "execution_count": null,
   "id": "012134fb",
   "metadata": {},
   "outputs": [],
   "source": []
  },
  {
   "cell_type": "markdown",
   "id": "bae33d69",
   "metadata": {},
   "source": [
    "### Q.11) Computes the standard deviation of all the elements in a NumPy array."
   ]
  },
  {
   "cell_type": "code",
   "execution_count": 33,
   "id": "30ae2558",
   "metadata": {},
   "outputs": [
    {
     "data": {
      "text/plain": [
       "2.581988897471611"
      ]
     },
     "execution_count": 33,
     "metadata": {},
     "output_type": "execute_result"
    }
   ],
   "source": [
    "import numpy as np\n",
    "\n",
    "arr = np.arange(1,10)\n",
    "arr_std = np.std(arr)\n",
    "\n",
    "arr_std"
   ]
  },
  {
   "cell_type": "code",
   "execution_count": null,
   "id": "89761737",
   "metadata": {},
   "outputs": [],
   "source": []
  },
  {
   "cell_type": "markdown",
   "id": "0a80859a",
   "metadata": {},
   "source": [
    "### Q.12) Computes the dot product of two NumPy arrays.\n"
   ]
  },
  {
   "cell_type": "code",
   "execution_count": 41,
   "id": "a22a5f55",
   "metadata": {},
   "outputs": [
    {
     "name": "stdout",
     "output_type": "stream",
     "text": [
      "Dot product using np.dot(): 32\n",
      "Dot product using @ operator: 32\n"
     ]
    }
   ],
   "source": [
    "import numpy as np\n",
    "\n",
    "arr1 = np.arange(1,4)\n",
    "arr2 = np.arange(4,7)\n",
    "\n",
    "#dot product is a mathematical operation that multiplies corresponding elements from both arrays and sums them up\n",
    "dot_product1 = np.dot(arr1, arr2)\n",
    "\n",
    "dot_product1 = arr1 @ arr2  #uses the @ operator, known as the matrix multiplication operator\n",
    "\n",
    "print(\"Dot product using np.dot():\", dot_product1)\n",
    "print(\"Dot product using @ operator:\", dot_product2)"
   ]
  },
  {
   "cell_type": "code",
   "execution_count": null,
   "id": "509d7cfd",
   "metadata": {},
   "outputs": [],
   "source": []
  },
  {
   "cell_type": "markdown",
   "id": "8fe9163f",
   "metadata": {},
   "source": [
    "### Q.13) Create a 2D NumPy array with shape (3, 3) containing all zeros?"
   ]
  },
  {
   "cell_type": "code",
   "execution_count": 44,
   "id": "da7b5d1d",
   "metadata": {},
   "outputs": [
    {
     "name": "stdout",
     "output_type": "stream",
     "text": [
      "[[0. 0. 0.]\n",
      " [0. 0. 0.]\n",
      " [0. 0. 0.]]\n"
     ]
    }
   ],
   "source": [
    "import numpy as np\n",
    "\n",
    "arr = np.zeros((3,3))\n",
    "print(arr)"
   ]
  },
  {
   "cell_type": "code",
   "execution_count": null,
   "id": "24d09d60",
   "metadata": {},
   "outputs": [],
   "source": []
  },
  {
   "cell_type": "markdown",
   "id": "7c657691",
   "metadata": {},
   "source": [
    "### Q.14) Create a 1D numpy array containing the values from -10 to 10, with a step of 2.\n"
   ]
  },
  {
   "cell_type": "code",
   "execution_count": 45,
   "id": "f74f074a",
   "metadata": {},
   "outputs": [
    {
     "data": {
      "text/plain": [
       "array([-10,  -8,  -6,  -4,  -2,   0,   2,   4,   6,   8])"
      ]
     },
     "execution_count": 45,
     "metadata": {},
     "output_type": "execute_result"
    }
   ],
   "source": [
    "import numpy as np\n",
    "\n",
    "arr = np.arange(-10,10,2)\n",
    "arr"
   ]
  },
  {
   "cell_type": "code",
   "execution_count": null,
   "id": "b4f408eb",
   "metadata": {},
   "outputs": [],
   "source": []
  },
  {
   "cell_type": "markdown",
   "id": "c9d94d18",
   "metadata": {},
   "source": [
    "### Q.15) Create a 2D numpy array with shape (3, 3) containing random values between 0 and 1. Then, set all values in the first row to 0."
   ]
  },
  {
   "cell_type": "code",
   "execution_count": 48,
   "id": "c1078133",
   "metadata": {},
   "outputs": [
    {
     "name": "stdout",
     "output_type": "stream",
     "text": [
      "[[0.62982476 0.83582728 0.45819433]\n",
      " [0.61574372 0.62990771 0.05504854]\n",
      " [0.50209845 0.55812662 0.94115781]]\n"
     ]
    },
    {
     "data": {
      "text/plain": [
       "array([[0.        , 0.        , 0.        ],\n",
       "       [0.61574372, 0.62990771, 0.05504854],\n",
       "       [0.50209845, 0.55812662, 0.94115781]])"
      ]
     },
     "execution_count": 48,
     "metadata": {},
     "output_type": "execute_result"
    }
   ],
   "source": [
    "import numpy as np \n",
    "\n",
    "arr = np.random.random((3,3))\n",
    "print(arr)\n",
    "arr[0, :] = 0\n",
    "arr"
   ]
  },
  {
   "cell_type": "code",
   "execution_count": null,
   "id": "4fbd4d0f",
   "metadata": {},
   "outputs": [],
   "source": []
  },
  {
   "cell_type": "markdown",
   "id": "07124584",
   "metadata": {},
   "source": [
    "### Q.16) Create a 1D numpy array containing the values from 0 to 9. Then, create a new array containing the values squared."
   ]
  },
  {
   "cell_type": "code",
   "execution_count": 51,
   "id": "cc0c1285",
   "metadata": {},
   "outputs": [
    {
     "name": "stdout",
     "output_type": "stream",
     "text": [
      "[0 1 2 3 4 5 6 7 8 9]\n"
     ]
    },
    {
     "data": {
      "text/plain": [
       "array([ 0,  1,  4,  9, 16, 25, 36, 49, 64, 81])"
      ]
     },
     "execution_count": 51,
     "metadata": {},
     "output_type": "execute_result"
    }
   ],
   "source": [
    "import numpy as np\n",
    "\n",
    "arr = np.arange(10)\n",
    "print(arr)\n",
    "arr1 = arr**2\n",
    "arr1"
   ]
  },
  {
   "cell_type": "code",
   "execution_count": null,
   "id": "db43d86e",
   "metadata": {},
   "outputs": [],
   "source": []
  },
  {
   "cell_type": "markdown",
   "id": "fad556fd",
   "metadata": {},
   "source": [
    "### Q.17) Create a 1D numpy array containing the values from 1 to 10. Then, extract all even values from the array."
   ]
  },
  {
   "cell_type": "code",
   "execution_count": 55,
   "id": "198a0c40",
   "metadata": {},
   "outputs": [
    {
     "name": "stdout",
     "output_type": "stream",
     "text": [
      "[ 1  2  3  4  5  6  7  8  9 10]\n",
      "Even values: [ 2  4  6  8 10]\n"
     ]
    }
   ],
   "source": [
    "import numpy as np\n",
    "\n",
    "arr = np.arange(1,11)\n",
    "print(arr)\n",
    "\n",
    "print(\"Even values:\", arr[arr%2==0])"
   ]
  },
  {
   "cell_type": "code",
   "execution_count": null,
   "id": "cb55d902",
   "metadata": {},
   "outputs": [],
   "source": []
  },
  {
   "cell_type": "markdown",
   "id": "dd475e4e",
   "metadata": {},
   "source": [
    "### Q.18) Create a 1D numpy array containing the values from 1 to 10. Then, extract all odd values from the array."
   ]
  },
  {
   "cell_type": "code",
   "execution_count": 56,
   "id": "4efd31ab",
   "metadata": {},
   "outputs": [
    {
     "name": "stdout",
     "output_type": "stream",
     "text": [
      "[ 1  2  3  4  5  6  7  8  9 10]\n",
      "Even values: [1 3 5 7 9]\n"
     ]
    }
   ],
   "source": [
    "import numpy as np\n",
    "\n",
    "arr = np.arange(1,11)\n",
    "print(arr)\n",
    "\n",
    "print(\"Even values:\", arr[arr%2 != 0])"
   ]
  },
  {
   "cell_type": "code",
   "execution_count": null,
   "id": "b98cfa5f",
   "metadata": {},
   "outputs": [],
   "source": []
  },
  {
   "cell_type": "markdown",
   "id": "9abb6630",
   "metadata": {},
   "source": [
    "### Q.19)Create a 2D numpy array with shape (3, 3) containing random values between 0 and 1. Then, compute the mean of each row."
   ]
  },
  {
   "cell_type": "code",
   "execution_count": 58,
   "id": "d25cc833",
   "metadata": {},
   "outputs": [
    {
     "name": "stdout",
     "output_type": "stream",
     "text": [
      "[[0.64976822 0.78409224 0.73319235]\n",
      " [0.54779628 0.47154622 0.58484417]\n",
      " [0.23364857 0.07032538 0.0131845 ]]\n"
     ]
    },
    {
     "data": {
      "text/plain": [
       "array([0.72235094, 0.53472889, 0.10571948])"
      ]
     },
     "execution_count": 58,
     "metadata": {},
     "output_type": "execute_result"
    }
   ],
   "source": [
    "import numpy as np \n",
    "\n",
    "arr = np.random.random((3,3))\n",
    "print(arr)\n",
    "rows_mean = np.mean(arr, axis=1)\n",
    "rows_mean"
   ]
  },
  {
   "cell_type": "code",
   "execution_count": null,
   "id": "28ac8270",
   "metadata": {},
   "outputs": [],
   "source": []
  },
  {
   "cell_type": "markdown",
   "id": "f7c42cee",
   "metadata": {},
   "source": [
    "### Q.20) How to split numpy array into 3 parts?\n",
    "#### arr = np.array([1, 2, 3, 4, 5, 6])"
   ]
  },
  {
   "cell_type": "code",
   "execution_count": 67,
   "id": "8aa2b236",
   "metadata": {},
   "outputs": [
    {
     "name": "stdout",
     "output_type": "stream",
     "text": [
      "[array([1, 2]), array([3, 4]), array([5, 6])]\n",
      "[1 2]\n",
      "[3 4]\n",
      "[5 6]\n"
     ]
    }
   ],
   "source": [
    "import numpy as np\n",
    "\n",
    "arr = np.array([1, 2, 3, 4, 5, 6])\n",
    "\n",
    "split_arr = np.split(arr,3)\n",
    "print(split_arr)\n",
    "\n",
    "for part in split_arr:\n",
    "    print(part)"
   ]
  },
  {
   "cell_type": "code",
   "execution_count": null,
   "id": "1a8ce23b",
   "metadata": {},
   "outputs": [],
   "source": []
  }
 ],
 "metadata": {
  "kernelspec": {
   "display_name": "Python 3 (ipykernel)",
   "language": "python",
   "name": "python3"
  },
  "language_info": {
   "codemirror_mode": {
    "name": "ipython",
    "version": 3
   },
   "file_extension": ".py",
   "mimetype": "text/x-python",
   "name": "python",
   "nbconvert_exporter": "python",
   "pygments_lexer": "ipython3",
   "version": "3.9.13"
  }
 },
 "nbformat": 4,
 "nbformat_minor": 5
}
